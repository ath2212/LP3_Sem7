{
  "cells": [
    {
      "cell_type": "code",
      "execution_count": null,
      "metadata": {
        "id": "Cox50zEgAB28"
      },
      "outputs": [],
      "source": [
        "! pip install -q kaggle"
      ]
    },
    {
      "cell_type": "code",
      "execution_count": null,
      "metadata": {
        "colab": {
          "base_uri": "https://localhost:8080/",
          "height": 92
        },
        "id": "KbefX02VAE4n",
        "outputId": "b3a10d66-69df-436d-f5b2-505caa6058bc"
      },
      "outputs": [
        {
          "output_type": "display_data",
          "data": {
            "text/plain": [
              "<IPython.core.display.HTML object>"
            ],
            "text/html": [
              "\n",
              "     <input type=\"file\" id=\"files-dd3be38a-8c22-45e3-b022-992ca381b0a2\" name=\"files[]\" multiple disabled\n",
              "        style=\"border:none\" />\n",
              "     <output id=\"result-dd3be38a-8c22-45e3-b022-992ca381b0a2\">\n",
              "      Upload widget is only available when the cell has been executed in the\n",
              "      current browser session. Please rerun this cell to enable.\n",
              "      </output>\n",
              "      <script>// Copyright 2017 Google LLC\n",
              "//\n",
              "// Licensed under the Apache License, Version 2.0 (the \"License\");\n",
              "// you may not use this file except in compliance with the License.\n",
              "// You may obtain a copy of the License at\n",
              "//\n",
              "//      http://www.apache.org/licenses/LICENSE-2.0\n",
              "//\n",
              "// Unless required by applicable law or agreed to in writing, software\n",
              "// distributed under the License is distributed on an \"AS IS\" BASIS,\n",
              "// WITHOUT WARRANTIES OR CONDITIONS OF ANY KIND, either express or implied.\n",
              "// See the License for the specific language governing permissions and\n",
              "// limitations under the License.\n",
              "\n",
              "/**\n",
              " * @fileoverview Helpers for google.colab Python module.\n",
              " */\n",
              "(function(scope) {\n",
              "function span(text, styleAttributes = {}) {\n",
              "  const element = document.createElement('span');\n",
              "  element.textContent = text;\n",
              "  for (const key of Object.keys(styleAttributes)) {\n",
              "    element.style[key] = styleAttributes[key];\n",
              "  }\n",
              "  return element;\n",
              "}\n",
              "\n",
              "// Max number of bytes which will be uploaded at a time.\n",
              "const MAX_PAYLOAD_SIZE = 100 * 1024;\n",
              "\n",
              "function _uploadFiles(inputId, outputId) {\n",
              "  const steps = uploadFilesStep(inputId, outputId);\n",
              "  const outputElement = document.getElementById(outputId);\n",
              "  // Cache steps on the outputElement to make it available for the next call\n",
              "  // to uploadFilesContinue from Python.\n",
              "  outputElement.steps = steps;\n",
              "\n",
              "  return _uploadFilesContinue(outputId);\n",
              "}\n",
              "\n",
              "// This is roughly an async generator (not supported in the browser yet),\n",
              "// where there are multiple asynchronous steps and the Python side is going\n",
              "// to poll for completion of each step.\n",
              "// This uses a Promise to block the python side on completion of each step,\n",
              "// then passes the result of the previous step as the input to the next step.\n",
              "function _uploadFilesContinue(outputId) {\n",
              "  const outputElement = document.getElementById(outputId);\n",
              "  const steps = outputElement.steps;\n",
              "\n",
              "  const next = steps.next(outputElement.lastPromiseValue);\n",
              "  return Promise.resolve(next.value.promise).then((value) => {\n",
              "    // Cache the last promise value to make it available to the next\n",
              "    // step of the generator.\n",
              "    outputElement.lastPromiseValue = value;\n",
              "    return next.value.response;\n",
              "  });\n",
              "}\n",
              "\n",
              "/**\n",
              " * Generator function which is called between each async step of the upload\n",
              " * process.\n",
              " * @param {string} inputId Element ID of the input file picker element.\n",
              " * @param {string} outputId Element ID of the output display.\n",
              " * @return {!Iterable<!Object>} Iterable of next steps.\n",
              " */\n",
              "function* uploadFilesStep(inputId, outputId) {\n",
              "  const inputElement = document.getElementById(inputId);\n",
              "  inputElement.disabled = false;\n",
              "\n",
              "  const outputElement = document.getElementById(outputId);\n",
              "  outputElement.innerHTML = '';\n",
              "\n",
              "  const pickedPromise = new Promise((resolve) => {\n",
              "    inputElement.addEventListener('change', (e) => {\n",
              "      resolve(e.target.files);\n",
              "    });\n",
              "  });\n",
              "\n",
              "  const cancel = document.createElement('button');\n",
              "  inputElement.parentElement.appendChild(cancel);\n",
              "  cancel.textContent = 'Cancel upload';\n",
              "  const cancelPromise = new Promise((resolve) => {\n",
              "    cancel.onclick = () => {\n",
              "      resolve(null);\n",
              "    };\n",
              "  });\n",
              "\n",
              "  // Wait for the user to pick the files.\n",
              "  const files = yield {\n",
              "    promise: Promise.race([pickedPromise, cancelPromise]),\n",
              "    response: {\n",
              "      action: 'starting',\n",
              "    }\n",
              "  };\n",
              "\n",
              "  cancel.remove();\n",
              "\n",
              "  // Disable the input element since further picks are not allowed.\n",
              "  inputElement.disabled = true;\n",
              "\n",
              "  if (!files) {\n",
              "    return {\n",
              "      response: {\n",
              "        action: 'complete',\n",
              "      }\n",
              "    };\n",
              "  }\n",
              "\n",
              "  for (const file of files) {\n",
              "    const li = document.createElement('li');\n",
              "    li.append(span(file.name, {fontWeight: 'bold'}));\n",
              "    li.append(span(\n",
              "        `(${file.type || 'n/a'}) - ${file.size} bytes, ` +\n",
              "        `last modified: ${\n",
              "            file.lastModifiedDate ? file.lastModifiedDate.toLocaleDateString() :\n",
              "                                    'n/a'} - `));\n",
              "    const percent = span('0% done');\n",
              "    li.appendChild(percent);\n",
              "\n",
              "    outputElement.appendChild(li);\n",
              "\n",
              "    const fileDataPromise = new Promise((resolve) => {\n",
              "      const reader = new FileReader();\n",
              "      reader.onload = (e) => {\n",
              "        resolve(e.target.result);\n",
              "      };\n",
              "      reader.readAsArrayBuffer(file);\n",
              "    });\n",
              "    // Wait for the data to be ready.\n",
              "    let fileData = yield {\n",
              "      promise: fileDataPromise,\n",
              "      response: {\n",
              "        action: 'continue',\n",
              "      }\n",
              "    };\n",
              "\n",
              "    // Use a chunked sending to avoid message size limits. See b/62115660.\n",
              "    let position = 0;\n",
              "    do {\n",
              "      const length = Math.min(fileData.byteLength - position, MAX_PAYLOAD_SIZE);\n",
              "      const chunk = new Uint8Array(fileData, position, length);\n",
              "      position += length;\n",
              "\n",
              "      const base64 = btoa(String.fromCharCode.apply(null, chunk));\n",
              "      yield {\n",
              "        response: {\n",
              "          action: 'append',\n",
              "          file: file.name,\n",
              "          data: base64,\n",
              "        },\n",
              "      };\n",
              "\n",
              "      let percentDone = fileData.byteLength === 0 ?\n",
              "          100 :\n",
              "          Math.round((position / fileData.byteLength) * 100);\n",
              "      percent.textContent = `${percentDone}% done`;\n",
              "\n",
              "    } while (position < fileData.byteLength);\n",
              "  }\n",
              "\n",
              "  // All done.\n",
              "  yield {\n",
              "    response: {\n",
              "      action: 'complete',\n",
              "    }\n",
              "  };\n",
              "}\n",
              "\n",
              "scope.google = scope.google || {};\n",
              "scope.google.colab = scope.google.colab || {};\n",
              "scope.google.colab._files = {\n",
              "  _uploadFiles,\n",
              "  _uploadFilesContinue,\n",
              "};\n",
              "})(self);\n",
              "</script> "
            ]
          },
          "metadata": {}
        },
        {
          "output_type": "stream",
          "name": "stdout",
          "text": [
            "Saving kaggle.json to kaggle.json\n"
          ]
        },
        {
          "output_type": "execute_result",
          "data": {
            "text/plain": [
              "{'kaggle.json': b'{\"username\":\"atharvapuranik\",\"key\":\"9b7c5abf618823db5635936efd1370b6\"}'}"
            ]
          },
          "metadata": {},
          "execution_count": 8
        }
      ],
      "source": [
        "from google.colab import files\n",
        "files.upload()"
      ]
    },
    {
      "cell_type": "code",
      "execution_count": null,
      "metadata": {
        "id": "875dbXyKAOg0",
        "colab": {
          "base_uri": "https://localhost:8080/"
        },
        "outputId": "2becacf2-de80-4838-9d37-fcef80032701"
      },
      "outputs": [
        {
          "output_type": "stream",
          "name": "stdout",
          "text": [
            "mkdir: cannot create directory ‘/root/.kaggle’: File exists\n"
          ]
        }
      ],
      "source": [
        "! mkdir ~/.kaggle"
      ]
    },
    {
      "cell_type": "code",
      "execution_count": null,
      "metadata": {
        "id": "_Uw68AKsAR2l"
      },
      "outputs": [],
      "source": [
        "! cp kaggle.json ~/.kaggle/"
      ]
    },
    {
      "cell_type": "code",
      "execution_count": null,
      "metadata": {
        "id": "65OlG0itAYWo"
      },
      "outputs": [],
      "source": [
        "! chmod 600 ~/.kaggle/kaggle.json"
      ]
    },
    {
      "cell_type": "code",
      "execution_count": null,
      "metadata": {
        "colab": {
          "base_uri": "https://localhost:8080/"
        },
        "id": "w0enBM-pA3fS",
        "outputId": "2d8fe557-293b-4fea-c5a6-29e99f59fe7e"
      },
      "outputs": [
        {
          "output_type": "stream",
          "name": "stdout",
          "text": [
            "ref                                                             title                                            size  lastUpdated          downloadCount  voteCount  usabilityRating  \n",
            "--------------------------------------------------------------  ----------------------------------------------  -----  -------------------  -------------  ---------  ---------------  \n",
            "akshaydattatraykhare/diabetes-dataset                           Diabetes Dataset                                  9KB  2022-10-06 08:55:25          10294        330  1.0              \n",
            "whenamancodes/covid-19-coronavirus-pandemic-dataset             COVID -19 Coronavirus Pandemic Dataset           11KB  2022-09-30 04:05:11           8219        263  1.0              \n",
            "stetsondone/video-game-sales-by-genre                           Video Game Sales by Genre                        12KB  2022-10-31 17:56:01            607         23  1.0              \n",
            "hasibalmuzdadid/global-air-pollution-dataset                    Global Air Pollution Dataset                      2MB  2022-11-03 17:23:13            951         39  1.0              \n",
            "whenamancodes/credit-card-customers-prediction                  Credit Card Customers Prediction                379KB  2022-10-30 13:03:27           1060         32  1.0              \n",
            "whenamancodes/students-performance-in-exams                     Students Performance in Exams                     9KB  2022-09-14 15:14:54          14335        269  1.0              \n",
            "akshaydattatraykhare/data-for-admission-in-the-university       Data for Admission in the University              4KB  2022-10-27 11:05:45           1597         37  1.0              \n",
            "michaelbryantds/electric-vehicle-charging-dataset               Electric Vehicle Charging Dataset                98KB  2022-11-02 01:45:23            499         30  0.9411765        \n",
            "maharshipandya/-spotify-tracks-dataset                          🎹 Spotify Tracks Dataset                          8MB  2022-10-22 14:40:15           1971         67  1.0              \n",
            "younver/spotify-top-200-dataset                                 spotify top 200 dataset                           9MB  2022-10-29 19:36:07            558         26  1.0              \n",
            "whenamancodes/amazon-reviews-on-women-dresses                   Amazon Reviews on Women Dresses                   3MB  2022-10-29 12:47:06            359         22  1.0              \n",
            "akshaydattatraykhare/car-details-dataset                        Car Details Dataset                              56KB  2022-10-21 06:11:56           2464         43  1.0              \n",
            "whenamancodes/international-football-from-1872-to-2022          International Football from 1872 to 2022        572KB  2022-10-30 13:27:29            605         28  0.9411765        \n",
            "whenamancodes/customer-personality-analysis                     Company's Ideal Customers | Marketing Strategy   62KB  2022-10-30 14:17:42            793         30  1.0              \n",
            "dimitryzub/walmart-coffee-listings-from-500-stores              Walmart Coffee Listings from 500 stores          85KB  2022-10-25 09:20:12           1198         36  1.0              \n",
            "dheerajmukati/most-runs-in-cricket                              Most Runs in International cricket                4KB  2022-10-16 16:49:20            617         29  1.0              \n",
            "thedevastator/food-prices-year-by-year                          Global Food Prices Year By Year                   7KB  2022-10-30 08:49:55            815         28  1.0              \n",
            "saikumartamminana/gold-price-prediction                         Gold Price Prediction                            41KB  2022-10-30 19:07:30            754         24  0.8235294        \n",
            "thedevastator/udemy-courses-revenue-generation-and-course-anal  Udemy Courses                                   429KB  2022-10-17 00:11:53           1748         55  1.0              \n",
            "whenamancodes/adidas-us-retail-products-dataset                 Adidas US Retail Products Dataset               286KB  2022-10-26 15:44:20            632         33  1.0              \n"
          ]
        }
      ],
      "source": [
        "! kaggle datasets list"
      ]
    },
    {
      "cell_type": "markdown",
      "metadata": {
        "id": "uFpoX7bE-MoZ"
      },
      "source": [
        "# Assignment 1 : Uber Ride Price Prediction"
      ]
    },
    {
      "cell_type": "code",
      "execution_count": null,
      "metadata": {
        "colab": {
          "base_uri": "https://localhost:8080/"
        },
        "id": "thraCUtkBhfv",
        "outputId": "4097b7af-06d7-4fb5-ea3c-77abe9cb262d"
      },
      "outputs": [
        {
          "output_type": "stream",
          "name": "stdout",
          "text": [
            "Downloading uber-fares-dataset.zip to /content/sample_data\n",
            "\r  0% 0.00/7.04M [00:00<?, ?B/s]\n",
            "\r100% 7.04M/7.04M [00:00<00:00, 84.9MB/s]\n"
          ]
        }
      ],
      "source": [
        "! kaggle datasets download -d yasserh/uber-fares-dataset -p /content/sample_data/"
      ]
    },
    {
      "cell_type": "code",
      "execution_count": null,
      "metadata": {
        "colab": {
          "base_uri": "https://localhost:8080/"
        },
        "id": "ArLRaBJkC8BX",
        "outputId": "f7fd3c44-fdd0-4cfe-abdd-26839ef63b4f"
      },
      "outputs": [
        {
          "output_type": "stream",
          "name": "stdout",
          "text": [
            "Archive:  /content/sample_data/uber-fares-dataset.zip\n",
            "  inflating: uber.csv                \n"
          ]
        }
      ],
      "source": [
        "! unzip /content/sample_data/uber-fares-dataset.zip"
      ]
    },
    {
      "cell_type": "code",
      "execution_count": null,
      "metadata": {
        "id": "t-rKnjA79xPt"
      },
      "outputs": [],
      "source": [
        "import pandas as pd\n",
        "import numpy as np\n",
        "from sklearn.model_selection import train_test_split\n",
        "from sklearn.linear_model import LinearRegression\n",
        "from sklearn.metrics import mean_squared_error, r2_score, mean_absolute_error\n",
        "import seaborn as sns\n",
        "from sklearn.preprocessing import LabelEncoder\n",
        "from sklearn.ensemble import RandomForestRegressor"
      ]
    },
    {
      "cell_type": "code",
      "execution_count": null,
      "metadata": {
        "id": "74NNvs43_iqp"
      },
      "outputs": [],
      "source": [
        "data = pd.read_csv('uber.csv', index_col=0)"
      ]
    },
    {
      "cell_type": "code",
      "execution_count": null,
      "metadata": {
        "colab": {
          "base_uri": "https://localhost:8080/",
          "height": 206
        },
        "id": "uh0uQ2jODJoS",
        "outputId": "a3a3b28a-f807-4b28-e52a-c993d17be02f"
      },
      "outputs": [
        {
          "output_type": "execute_result",
          "data": {
            "text/plain": [
              "                                    key  fare_amount          pickup_datetime  \\\n",
              "24238194    2015-05-07 19:52:06.0000003          7.5  2015-05-07 19:52:06 UTC   \n",
              "27835199    2009-07-17 20:04:56.0000002          7.7  2009-07-17 20:04:56 UTC   \n",
              "44984355   2009-08-24 21:45:00.00000061         12.9  2009-08-24 21:45:00 UTC   \n",
              "25894730    2009-06-26 08:22:21.0000001          5.3  2009-06-26 08:22:21 UTC   \n",
              "17610152  2014-08-28 17:47:00.000000188         16.0  2014-08-28 17:47:00 UTC   \n",
              "\n",
              "          pickup_longitude  pickup_latitude  dropoff_longitude  \\\n",
              "24238194        -73.999817        40.738354         -73.999512   \n",
              "27835199        -73.994355        40.728225         -73.994710   \n",
              "44984355        -74.005043        40.740770         -73.962565   \n",
              "25894730        -73.976124        40.790844         -73.965316   \n",
              "17610152        -73.925023        40.744085         -73.973082   \n",
              "\n",
              "          dropoff_latitude  passenger_count  \n",
              "24238194         40.723217                1  \n",
              "27835199         40.750325                1  \n",
              "44984355         40.772647                1  \n",
              "25894730         40.803349                3  \n",
              "17610152         40.761247                5  "
            ],
            "text/html": [
              "\n",
              "  <div id=\"df-9aa3389a-e0cb-4acd-85cb-859d787aaa4f\">\n",
              "    <div class=\"colab-df-container\">\n",
              "      <div>\n",
              "<style scoped>\n",
              "    .dataframe tbody tr th:only-of-type {\n",
              "        vertical-align: middle;\n",
              "    }\n",
              "\n",
              "    .dataframe tbody tr th {\n",
              "        vertical-align: top;\n",
              "    }\n",
              "\n",
              "    .dataframe thead th {\n",
              "        text-align: right;\n",
              "    }\n",
              "</style>\n",
              "<table border=\"1\" class=\"dataframe\">\n",
              "  <thead>\n",
              "    <tr style=\"text-align: right;\">\n",
              "      <th></th>\n",
              "      <th>key</th>\n",
              "      <th>fare_amount</th>\n",
              "      <th>pickup_datetime</th>\n",
              "      <th>pickup_longitude</th>\n",
              "      <th>pickup_latitude</th>\n",
              "      <th>dropoff_longitude</th>\n",
              "      <th>dropoff_latitude</th>\n",
              "      <th>passenger_count</th>\n",
              "    </tr>\n",
              "  </thead>\n",
              "  <tbody>\n",
              "    <tr>\n",
              "      <th>24238194</th>\n",
              "      <td>2015-05-07 19:52:06.0000003</td>\n",
              "      <td>7.5</td>\n",
              "      <td>2015-05-07 19:52:06 UTC</td>\n",
              "      <td>-73.999817</td>\n",
              "      <td>40.738354</td>\n",
              "      <td>-73.999512</td>\n",
              "      <td>40.723217</td>\n",
              "      <td>1</td>\n",
              "    </tr>\n",
              "    <tr>\n",
              "      <th>27835199</th>\n",
              "      <td>2009-07-17 20:04:56.0000002</td>\n",
              "      <td>7.7</td>\n",
              "      <td>2009-07-17 20:04:56 UTC</td>\n",
              "      <td>-73.994355</td>\n",
              "      <td>40.728225</td>\n",
              "      <td>-73.994710</td>\n",
              "      <td>40.750325</td>\n",
              "      <td>1</td>\n",
              "    </tr>\n",
              "    <tr>\n",
              "      <th>44984355</th>\n",
              "      <td>2009-08-24 21:45:00.00000061</td>\n",
              "      <td>12.9</td>\n",
              "      <td>2009-08-24 21:45:00 UTC</td>\n",
              "      <td>-74.005043</td>\n",
              "      <td>40.740770</td>\n",
              "      <td>-73.962565</td>\n",
              "      <td>40.772647</td>\n",
              "      <td>1</td>\n",
              "    </tr>\n",
              "    <tr>\n",
              "      <th>25894730</th>\n",
              "      <td>2009-06-26 08:22:21.0000001</td>\n",
              "      <td>5.3</td>\n",
              "      <td>2009-06-26 08:22:21 UTC</td>\n",
              "      <td>-73.976124</td>\n",
              "      <td>40.790844</td>\n",
              "      <td>-73.965316</td>\n",
              "      <td>40.803349</td>\n",
              "      <td>3</td>\n",
              "    </tr>\n",
              "    <tr>\n",
              "      <th>17610152</th>\n",
              "      <td>2014-08-28 17:47:00.000000188</td>\n",
              "      <td>16.0</td>\n",
              "      <td>2014-08-28 17:47:00 UTC</td>\n",
              "      <td>-73.925023</td>\n",
              "      <td>40.744085</td>\n",
              "      <td>-73.973082</td>\n",
              "      <td>40.761247</td>\n",
              "      <td>5</td>\n",
              "    </tr>\n",
              "  </tbody>\n",
              "</table>\n",
              "</div>\n",
              "      <button class=\"colab-df-convert\" onclick=\"convertToInteractive('df-9aa3389a-e0cb-4acd-85cb-859d787aaa4f')\"\n",
              "              title=\"Convert this dataframe to an interactive table.\"\n",
              "              style=\"display:none;\">\n",
              "        \n",
              "  <svg xmlns=\"http://www.w3.org/2000/svg\" height=\"24px\"viewBox=\"0 0 24 24\"\n",
              "       width=\"24px\">\n",
              "    <path d=\"M0 0h24v24H0V0z\" fill=\"none\"/>\n",
              "    <path d=\"M18.56 5.44l.94 2.06.94-2.06 2.06-.94-2.06-.94-.94-2.06-.94 2.06-2.06.94zm-11 1L8.5 8.5l.94-2.06 2.06-.94-2.06-.94L8.5 2.5l-.94 2.06-2.06.94zm10 10l.94 2.06.94-2.06 2.06-.94-2.06-.94-.94-2.06-.94 2.06-2.06.94z\"/><path d=\"M17.41 7.96l-1.37-1.37c-.4-.4-.92-.59-1.43-.59-.52 0-1.04.2-1.43.59L10.3 9.45l-7.72 7.72c-.78.78-.78 2.05 0 2.83L4 21.41c.39.39.9.59 1.41.59.51 0 1.02-.2 1.41-.59l7.78-7.78 2.81-2.81c.8-.78.8-2.07 0-2.86zM5.41 20L4 18.59l7.72-7.72 1.47 1.35L5.41 20z\"/>\n",
              "  </svg>\n",
              "      </button>\n",
              "      \n",
              "  <style>\n",
              "    .colab-df-container {\n",
              "      display:flex;\n",
              "      flex-wrap:wrap;\n",
              "      gap: 12px;\n",
              "    }\n",
              "\n",
              "    .colab-df-convert {\n",
              "      background-color: #E8F0FE;\n",
              "      border: none;\n",
              "      border-radius: 50%;\n",
              "      cursor: pointer;\n",
              "      display: none;\n",
              "      fill: #1967D2;\n",
              "      height: 32px;\n",
              "      padding: 0 0 0 0;\n",
              "      width: 32px;\n",
              "    }\n",
              "\n",
              "    .colab-df-convert:hover {\n",
              "      background-color: #E2EBFA;\n",
              "      box-shadow: 0px 1px 2px rgba(60, 64, 67, 0.3), 0px 1px 3px 1px rgba(60, 64, 67, 0.15);\n",
              "      fill: #174EA6;\n",
              "    }\n",
              "\n",
              "    [theme=dark] .colab-df-convert {\n",
              "      background-color: #3B4455;\n",
              "      fill: #D2E3FC;\n",
              "    }\n",
              "\n",
              "    [theme=dark] .colab-df-convert:hover {\n",
              "      background-color: #434B5C;\n",
              "      box-shadow: 0px 1px 3px 1px rgba(0, 0, 0, 0.15);\n",
              "      filter: drop-shadow(0px 1px 2px rgba(0, 0, 0, 0.3));\n",
              "      fill: #FFFFFF;\n",
              "    }\n",
              "  </style>\n",
              "\n",
              "      <script>\n",
              "        const buttonEl =\n",
              "          document.querySelector('#df-9aa3389a-e0cb-4acd-85cb-859d787aaa4f button.colab-df-convert');\n",
              "        buttonEl.style.display =\n",
              "          google.colab.kernel.accessAllowed ? 'block' : 'none';\n",
              "\n",
              "        async function convertToInteractive(key) {\n",
              "          const element = document.querySelector('#df-9aa3389a-e0cb-4acd-85cb-859d787aaa4f');\n",
              "          const dataTable =\n",
              "            await google.colab.kernel.invokeFunction('convertToInteractive',\n",
              "                                                     [key], {});\n",
              "          if (!dataTable) return;\n",
              "\n",
              "          const docLinkHtml = 'Like what you see? Visit the ' +\n",
              "            '<a target=\"_blank\" href=https://colab.research.google.com/notebooks/data_table.ipynb>data table notebook</a>'\n",
              "            + ' to learn more about interactive tables.';\n",
              "          element.innerHTML = '';\n",
              "          dataTable['output_type'] = 'display_data';\n",
              "          await google.colab.output.renderOutput(dataTable, element);\n",
              "          const docLink = document.createElement('div');\n",
              "          docLink.innerHTML = docLinkHtml;\n",
              "          element.appendChild(docLink);\n",
              "        }\n",
              "      </script>\n",
              "    </div>\n",
              "  </div>\n",
              "  "
            ]
          },
          "metadata": {},
          "execution_count": 11
        }
      ],
      "source": [
        "data.head()"
      ]
    },
    {
      "cell_type": "code",
      "execution_count": null,
      "metadata": {
        "colab": {
          "base_uri": "https://localhost:8080/"
        },
        "id": "CP7filLEDLZ7",
        "outputId": "0f8df032-6a6b-4ea8-8b12-98af374d1796"
      },
      "outputs": [
        {
          "output_type": "stream",
          "name": "stdout",
          "text": [
            "<class 'pandas.core.frame.DataFrame'>\n",
            "Int64Index: 200000 entries, 24238194 to 11951496\n",
            "Data columns (total 8 columns):\n",
            " #   Column             Non-Null Count   Dtype  \n",
            "---  ------             --------------   -----  \n",
            " 0   key                200000 non-null  object \n",
            " 1   fare_amount        200000 non-null  float64\n",
            " 2   pickup_datetime    200000 non-null  object \n",
            " 3   pickup_longitude   200000 non-null  float64\n",
            " 4   pickup_latitude    200000 non-null  float64\n",
            " 5   dropoff_longitude  199999 non-null  float64\n",
            " 6   dropoff_latitude   199999 non-null  float64\n",
            " 7   passenger_count    200000 non-null  int64  \n",
            "dtypes: float64(5), int64(1), object(2)\n",
            "memory usage: 13.7+ MB\n"
          ]
        }
      ],
      "source": [
        "data.info()"
      ]
    },
    {
      "cell_type": "code",
      "execution_count": null,
      "metadata": {
        "colab": {
          "base_uri": "https://localhost:8080/",
          "height": 424
        },
        "id": "x8nnQNx4DdK2",
        "outputId": "04741532-6fa5-4b14-835f-0a45988ed51a"
      },
      "outputs": [
        {
          "output_type": "execute_result",
          "data": {
            "text/plain": [
              "                                    key  fare_amount          pickup_datetime  \\\n",
              "24238194    2015-05-07 19:52:06.0000003          7.5  2015-05-07 19:52:06 UTC   \n",
              "27835199    2009-07-17 20:04:56.0000002          7.7  2009-07-17 20:04:56 UTC   \n",
              "44984355   2009-08-24 21:45:00.00000061         12.9  2009-08-24 21:45:00 UTC   \n",
              "25894730    2009-06-26 08:22:21.0000001          5.3  2009-06-26 08:22:21 UTC   \n",
              "17610152  2014-08-28 17:47:00.000000188         16.0  2014-08-28 17:47:00 UTC   \n",
              "...                                 ...          ...                      ...   \n",
              "42598914   2012-10-28 10:49:00.00000053          3.0  2012-10-28 10:49:00 UTC   \n",
              "16382965    2014-03-14 01:09:00.0000008          7.5  2014-03-14 01:09:00 UTC   \n",
              "27804658   2009-06-29 00:42:00.00000078         30.9  2009-06-29 00:42:00 UTC   \n",
              "20259894    2015-05-20 14:56:25.0000004         14.5  2015-05-20 14:56:25 UTC   \n",
              "11951496   2010-05-15 04:08:00.00000076         14.1  2010-05-15 04:08:00 UTC   \n",
              "\n",
              "          pickup_longitude  pickup_latitude  dropoff_longitude  \\\n",
              "24238194        -73.999817        40.738354         -73.999512   \n",
              "27835199        -73.994355        40.728225         -73.994710   \n",
              "44984355        -74.005043        40.740770         -73.962565   \n",
              "25894730        -73.976124        40.790844         -73.965316   \n",
              "17610152        -73.925023        40.744085         -73.973082   \n",
              "...                    ...              ...                ...   \n",
              "42598914        -73.987042        40.739367         -73.986525   \n",
              "16382965        -73.984722        40.736837         -74.006672   \n",
              "27804658        -73.986017        40.756487         -73.858957   \n",
              "20259894        -73.997124        40.725452         -73.983215   \n",
              "11951496        -73.984395        40.720077         -73.985508   \n",
              "\n",
              "          dropoff_latitude  passenger_count  \n",
              "24238194         40.723217                1  \n",
              "27835199         40.750325                1  \n",
              "44984355         40.772647                1  \n",
              "25894730         40.803349                3  \n",
              "17610152         40.761247                5  \n",
              "...                    ...              ...  \n",
              "42598914         40.740297                1  \n",
              "16382965         40.739620                1  \n",
              "27804658         40.692588                2  \n",
              "20259894         40.695415                1  \n",
              "11951496         40.768793                1  \n",
              "\n",
              "[199999 rows x 8 columns]"
            ],
            "text/html": [
              "\n",
              "  <div id=\"df-36866999-e978-444f-a163-07088490dd9e\">\n",
              "    <div class=\"colab-df-container\">\n",
              "      <div>\n",
              "<style scoped>\n",
              "    .dataframe tbody tr th:only-of-type {\n",
              "        vertical-align: middle;\n",
              "    }\n",
              "\n",
              "    .dataframe tbody tr th {\n",
              "        vertical-align: top;\n",
              "    }\n",
              "\n",
              "    .dataframe thead th {\n",
              "        text-align: right;\n",
              "    }\n",
              "</style>\n",
              "<table border=\"1\" class=\"dataframe\">\n",
              "  <thead>\n",
              "    <tr style=\"text-align: right;\">\n",
              "      <th></th>\n",
              "      <th>key</th>\n",
              "      <th>fare_amount</th>\n",
              "      <th>pickup_datetime</th>\n",
              "      <th>pickup_longitude</th>\n",
              "      <th>pickup_latitude</th>\n",
              "      <th>dropoff_longitude</th>\n",
              "      <th>dropoff_latitude</th>\n",
              "      <th>passenger_count</th>\n",
              "    </tr>\n",
              "  </thead>\n",
              "  <tbody>\n",
              "    <tr>\n",
              "      <th>24238194</th>\n",
              "      <td>2015-05-07 19:52:06.0000003</td>\n",
              "      <td>7.5</td>\n",
              "      <td>2015-05-07 19:52:06 UTC</td>\n",
              "      <td>-73.999817</td>\n",
              "      <td>40.738354</td>\n",
              "      <td>-73.999512</td>\n",
              "      <td>40.723217</td>\n",
              "      <td>1</td>\n",
              "    </tr>\n",
              "    <tr>\n",
              "      <th>27835199</th>\n",
              "      <td>2009-07-17 20:04:56.0000002</td>\n",
              "      <td>7.7</td>\n",
              "      <td>2009-07-17 20:04:56 UTC</td>\n",
              "      <td>-73.994355</td>\n",
              "      <td>40.728225</td>\n",
              "      <td>-73.994710</td>\n",
              "      <td>40.750325</td>\n",
              "      <td>1</td>\n",
              "    </tr>\n",
              "    <tr>\n",
              "      <th>44984355</th>\n",
              "      <td>2009-08-24 21:45:00.00000061</td>\n",
              "      <td>12.9</td>\n",
              "      <td>2009-08-24 21:45:00 UTC</td>\n",
              "      <td>-74.005043</td>\n",
              "      <td>40.740770</td>\n",
              "      <td>-73.962565</td>\n",
              "      <td>40.772647</td>\n",
              "      <td>1</td>\n",
              "    </tr>\n",
              "    <tr>\n",
              "      <th>25894730</th>\n",
              "      <td>2009-06-26 08:22:21.0000001</td>\n",
              "      <td>5.3</td>\n",
              "      <td>2009-06-26 08:22:21 UTC</td>\n",
              "      <td>-73.976124</td>\n",
              "      <td>40.790844</td>\n",
              "      <td>-73.965316</td>\n",
              "      <td>40.803349</td>\n",
              "      <td>3</td>\n",
              "    </tr>\n",
              "    <tr>\n",
              "      <th>17610152</th>\n",
              "      <td>2014-08-28 17:47:00.000000188</td>\n",
              "      <td>16.0</td>\n",
              "      <td>2014-08-28 17:47:00 UTC</td>\n",
              "      <td>-73.925023</td>\n",
              "      <td>40.744085</td>\n",
              "      <td>-73.973082</td>\n",
              "      <td>40.761247</td>\n",
              "      <td>5</td>\n",
              "    </tr>\n",
              "    <tr>\n",
              "      <th>...</th>\n",
              "      <td>...</td>\n",
              "      <td>...</td>\n",
              "      <td>...</td>\n",
              "      <td>...</td>\n",
              "      <td>...</td>\n",
              "      <td>...</td>\n",
              "      <td>...</td>\n",
              "      <td>...</td>\n",
              "    </tr>\n",
              "    <tr>\n",
              "      <th>42598914</th>\n",
              "      <td>2012-10-28 10:49:00.00000053</td>\n",
              "      <td>3.0</td>\n",
              "      <td>2012-10-28 10:49:00 UTC</td>\n",
              "      <td>-73.987042</td>\n",
              "      <td>40.739367</td>\n",
              "      <td>-73.986525</td>\n",
              "      <td>40.740297</td>\n",
              "      <td>1</td>\n",
              "    </tr>\n",
              "    <tr>\n",
              "      <th>16382965</th>\n",
              "      <td>2014-03-14 01:09:00.0000008</td>\n",
              "      <td>7.5</td>\n",
              "      <td>2014-03-14 01:09:00 UTC</td>\n",
              "      <td>-73.984722</td>\n",
              "      <td>40.736837</td>\n",
              "      <td>-74.006672</td>\n",
              "      <td>40.739620</td>\n",
              "      <td>1</td>\n",
              "    </tr>\n",
              "    <tr>\n",
              "      <th>27804658</th>\n",
              "      <td>2009-06-29 00:42:00.00000078</td>\n",
              "      <td>30.9</td>\n",
              "      <td>2009-06-29 00:42:00 UTC</td>\n",
              "      <td>-73.986017</td>\n",
              "      <td>40.756487</td>\n",
              "      <td>-73.858957</td>\n",
              "      <td>40.692588</td>\n",
              "      <td>2</td>\n",
              "    </tr>\n",
              "    <tr>\n",
              "      <th>20259894</th>\n",
              "      <td>2015-05-20 14:56:25.0000004</td>\n",
              "      <td>14.5</td>\n",
              "      <td>2015-05-20 14:56:25 UTC</td>\n",
              "      <td>-73.997124</td>\n",
              "      <td>40.725452</td>\n",
              "      <td>-73.983215</td>\n",
              "      <td>40.695415</td>\n",
              "      <td>1</td>\n",
              "    </tr>\n",
              "    <tr>\n",
              "      <th>11951496</th>\n",
              "      <td>2010-05-15 04:08:00.00000076</td>\n",
              "      <td>14.1</td>\n",
              "      <td>2010-05-15 04:08:00 UTC</td>\n",
              "      <td>-73.984395</td>\n",
              "      <td>40.720077</td>\n",
              "      <td>-73.985508</td>\n",
              "      <td>40.768793</td>\n",
              "      <td>1</td>\n",
              "    </tr>\n",
              "  </tbody>\n",
              "</table>\n",
              "<p>199999 rows × 8 columns</p>\n",
              "</div>\n",
              "      <button class=\"colab-df-convert\" onclick=\"convertToInteractive('df-36866999-e978-444f-a163-07088490dd9e')\"\n",
              "              title=\"Convert this dataframe to an interactive table.\"\n",
              "              style=\"display:none;\">\n",
              "        \n",
              "  <svg xmlns=\"http://www.w3.org/2000/svg\" height=\"24px\"viewBox=\"0 0 24 24\"\n",
              "       width=\"24px\">\n",
              "    <path d=\"M0 0h24v24H0V0z\" fill=\"none\"/>\n",
              "    <path d=\"M18.56 5.44l.94 2.06.94-2.06 2.06-.94-2.06-.94-.94-2.06-.94 2.06-2.06.94zm-11 1L8.5 8.5l.94-2.06 2.06-.94-2.06-.94L8.5 2.5l-.94 2.06-2.06.94zm10 10l.94 2.06.94-2.06 2.06-.94-2.06-.94-.94-2.06-.94 2.06-2.06.94z\"/><path d=\"M17.41 7.96l-1.37-1.37c-.4-.4-.92-.59-1.43-.59-.52 0-1.04.2-1.43.59L10.3 9.45l-7.72 7.72c-.78.78-.78 2.05 0 2.83L4 21.41c.39.39.9.59 1.41.59.51 0 1.02-.2 1.41-.59l7.78-7.78 2.81-2.81c.8-.78.8-2.07 0-2.86zM5.41 20L4 18.59l7.72-7.72 1.47 1.35L5.41 20z\"/>\n",
              "  </svg>\n",
              "      </button>\n",
              "      \n",
              "  <style>\n",
              "    .colab-df-container {\n",
              "      display:flex;\n",
              "      flex-wrap:wrap;\n",
              "      gap: 12px;\n",
              "    }\n",
              "\n",
              "    .colab-df-convert {\n",
              "      background-color: #E8F0FE;\n",
              "      border: none;\n",
              "      border-radius: 50%;\n",
              "      cursor: pointer;\n",
              "      display: none;\n",
              "      fill: #1967D2;\n",
              "      height: 32px;\n",
              "      padding: 0 0 0 0;\n",
              "      width: 32px;\n",
              "    }\n",
              "\n",
              "    .colab-df-convert:hover {\n",
              "      background-color: #E2EBFA;\n",
              "      box-shadow: 0px 1px 2px rgba(60, 64, 67, 0.3), 0px 1px 3px 1px rgba(60, 64, 67, 0.15);\n",
              "      fill: #174EA6;\n",
              "    }\n",
              "\n",
              "    [theme=dark] .colab-df-convert {\n",
              "      background-color: #3B4455;\n",
              "      fill: #D2E3FC;\n",
              "    }\n",
              "\n",
              "    [theme=dark] .colab-df-convert:hover {\n",
              "      background-color: #434B5C;\n",
              "      box-shadow: 0px 1px 3px 1px rgba(0, 0, 0, 0.15);\n",
              "      filter: drop-shadow(0px 1px 2px rgba(0, 0, 0, 0.3));\n",
              "      fill: #FFFFFF;\n",
              "    }\n",
              "  </style>\n",
              "\n",
              "      <script>\n",
              "        const buttonEl =\n",
              "          document.querySelector('#df-36866999-e978-444f-a163-07088490dd9e button.colab-df-convert');\n",
              "        buttonEl.style.display =\n",
              "          google.colab.kernel.accessAllowed ? 'block' : 'none';\n",
              "\n",
              "        async function convertToInteractive(key) {\n",
              "          const element = document.querySelector('#df-36866999-e978-444f-a163-07088490dd9e');\n",
              "          const dataTable =\n",
              "            await google.colab.kernel.invokeFunction('convertToInteractive',\n",
              "                                                     [key], {});\n",
              "          if (!dataTable) return;\n",
              "\n",
              "          const docLinkHtml = 'Like what you see? Visit the ' +\n",
              "            '<a target=\"_blank\" href=https://colab.research.google.com/notebooks/data_table.ipynb>data table notebook</a>'\n",
              "            + ' to learn more about interactive tables.';\n",
              "          element.innerHTML = '';\n",
              "          dataTable['output_type'] = 'display_data';\n",
              "          await google.colab.output.renderOutput(dataTable, element);\n",
              "          const docLink = document.createElement('div');\n",
              "          docLink.innerHTML = docLinkHtml;\n",
              "          element.appendChild(docLink);\n",
              "        }\n",
              "      </script>\n",
              "    </div>\n",
              "  </div>\n",
              "  "
            ]
          },
          "metadata": {},
          "execution_count": 13
        }
      ],
      "source": [
        "data.dropna()"
      ]
    },
    {
      "cell_type": "code",
      "execution_count": null,
      "metadata": {
        "colab": {
          "base_uri": "https://localhost:8080/",
          "height": 300
        },
        "id": "mejAbpMEDhWx",
        "outputId": "621601d7-6374-46ed-becc-708538f1872f"
      },
      "outputs": [
        {
          "output_type": "execute_result",
          "data": {
            "text/plain": [
              "         fare_amount  pickup_longitude  pickup_latitude  dropoff_longitude  \\\n",
              "count  200000.000000     200000.000000    200000.000000      199999.000000   \n",
              "mean       11.359955        -72.527638        39.935885         -72.525292   \n",
              "std         9.901776         11.437787         7.720539          13.117408   \n",
              "min       -52.000000      -1340.648410       -74.015515       -3356.666300   \n",
              "25%         6.000000        -73.992065        40.734796         -73.991407   \n",
              "50%         8.500000        -73.981823        40.752592         -73.980093   \n",
              "75%        12.500000        -73.967154        40.767158         -73.963658   \n",
              "max       499.000000         57.418457      1644.421482        1153.572603   \n",
              "\n",
              "       dropoff_latitude  passenger_count  \n",
              "count     199999.000000    200000.000000  \n",
              "mean          39.923890         1.684535  \n",
              "std            6.794829         1.385997  \n",
              "min         -881.985513         0.000000  \n",
              "25%           40.733823         1.000000  \n",
              "50%           40.753042         1.000000  \n",
              "75%           40.768001         2.000000  \n",
              "max          872.697628       208.000000  "
            ],
            "text/html": [
              "\n",
              "  <div id=\"df-d81c0c8b-162f-49c0-b710-30605085fc55\">\n",
              "    <div class=\"colab-df-container\">\n",
              "      <div>\n",
              "<style scoped>\n",
              "    .dataframe tbody tr th:only-of-type {\n",
              "        vertical-align: middle;\n",
              "    }\n",
              "\n",
              "    .dataframe tbody tr th {\n",
              "        vertical-align: top;\n",
              "    }\n",
              "\n",
              "    .dataframe thead th {\n",
              "        text-align: right;\n",
              "    }\n",
              "</style>\n",
              "<table border=\"1\" class=\"dataframe\">\n",
              "  <thead>\n",
              "    <tr style=\"text-align: right;\">\n",
              "      <th></th>\n",
              "      <th>fare_amount</th>\n",
              "      <th>pickup_longitude</th>\n",
              "      <th>pickup_latitude</th>\n",
              "      <th>dropoff_longitude</th>\n",
              "      <th>dropoff_latitude</th>\n",
              "      <th>passenger_count</th>\n",
              "    </tr>\n",
              "  </thead>\n",
              "  <tbody>\n",
              "    <tr>\n",
              "      <th>count</th>\n",
              "      <td>200000.000000</td>\n",
              "      <td>200000.000000</td>\n",
              "      <td>200000.000000</td>\n",
              "      <td>199999.000000</td>\n",
              "      <td>199999.000000</td>\n",
              "      <td>200000.000000</td>\n",
              "    </tr>\n",
              "    <tr>\n",
              "      <th>mean</th>\n",
              "      <td>11.359955</td>\n",
              "      <td>-72.527638</td>\n",
              "      <td>39.935885</td>\n",
              "      <td>-72.525292</td>\n",
              "      <td>39.923890</td>\n",
              "      <td>1.684535</td>\n",
              "    </tr>\n",
              "    <tr>\n",
              "      <th>std</th>\n",
              "      <td>9.901776</td>\n",
              "      <td>11.437787</td>\n",
              "      <td>7.720539</td>\n",
              "      <td>13.117408</td>\n",
              "      <td>6.794829</td>\n",
              "      <td>1.385997</td>\n",
              "    </tr>\n",
              "    <tr>\n",
              "      <th>min</th>\n",
              "      <td>-52.000000</td>\n",
              "      <td>-1340.648410</td>\n",
              "      <td>-74.015515</td>\n",
              "      <td>-3356.666300</td>\n",
              "      <td>-881.985513</td>\n",
              "      <td>0.000000</td>\n",
              "    </tr>\n",
              "    <tr>\n",
              "      <th>25%</th>\n",
              "      <td>6.000000</td>\n",
              "      <td>-73.992065</td>\n",
              "      <td>40.734796</td>\n",
              "      <td>-73.991407</td>\n",
              "      <td>40.733823</td>\n",
              "      <td>1.000000</td>\n",
              "    </tr>\n",
              "    <tr>\n",
              "      <th>50%</th>\n",
              "      <td>8.500000</td>\n",
              "      <td>-73.981823</td>\n",
              "      <td>40.752592</td>\n",
              "      <td>-73.980093</td>\n",
              "      <td>40.753042</td>\n",
              "      <td>1.000000</td>\n",
              "    </tr>\n",
              "    <tr>\n",
              "      <th>75%</th>\n",
              "      <td>12.500000</td>\n",
              "      <td>-73.967154</td>\n",
              "      <td>40.767158</td>\n",
              "      <td>-73.963658</td>\n",
              "      <td>40.768001</td>\n",
              "      <td>2.000000</td>\n",
              "    </tr>\n",
              "    <tr>\n",
              "      <th>max</th>\n",
              "      <td>499.000000</td>\n",
              "      <td>57.418457</td>\n",
              "      <td>1644.421482</td>\n",
              "      <td>1153.572603</td>\n",
              "      <td>872.697628</td>\n",
              "      <td>208.000000</td>\n",
              "    </tr>\n",
              "  </tbody>\n",
              "</table>\n",
              "</div>\n",
              "      <button class=\"colab-df-convert\" onclick=\"convertToInteractive('df-d81c0c8b-162f-49c0-b710-30605085fc55')\"\n",
              "              title=\"Convert this dataframe to an interactive table.\"\n",
              "              style=\"display:none;\">\n",
              "        \n",
              "  <svg xmlns=\"http://www.w3.org/2000/svg\" height=\"24px\"viewBox=\"0 0 24 24\"\n",
              "       width=\"24px\">\n",
              "    <path d=\"M0 0h24v24H0V0z\" fill=\"none\"/>\n",
              "    <path d=\"M18.56 5.44l.94 2.06.94-2.06 2.06-.94-2.06-.94-.94-2.06-.94 2.06-2.06.94zm-11 1L8.5 8.5l.94-2.06 2.06-.94-2.06-.94L8.5 2.5l-.94 2.06-2.06.94zm10 10l.94 2.06.94-2.06 2.06-.94-2.06-.94-.94-2.06-.94 2.06-2.06.94z\"/><path d=\"M17.41 7.96l-1.37-1.37c-.4-.4-.92-.59-1.43-.59-.52 0-1.04.2-1.43.59L10.3 9.45l-7.72 7.72c-.78.78-.78 2.05 0 2.83L4 21.41c.39.39.9.59 1.41.59.51 0 1.02-.2 1.41-.59l7.78-7.78 2.81-2.81c.8-.78.8-2.07 0-2.86zM5.41 20L4 18.59l7.72-7.72 1.47 1.35L5.41 20z\"/>\n",
              "  </svg>\n",
              "      </button>\n",
              "      \n",
              "  <style>\n",
              "    .colab-df-container {\n",
              "      display:flex;\n",
              "      flex-wrap:wrap;\n",
              "      gap: 12px;\n",
              "    }\n",
              "\n",
              "    .colab-df-convert {\n",
              "      background-color: #E8F0FE;\n",
              "      border: none;\n",
              "      border-radius: 50%;\n",
              "      cursor: pointer;\n",
              "      display: none;\n",
              "      fill: #1967D2;\n",
              "      height: 32px;\n",
              "      padding: 0 0 0 0;\n",
              "      width: 32px;\n",
              "    }\n",
              "\n",
              "    .colab-df-convert:hover {\n",
              "      background-color: #E2EBFA;\n",
              "      box-shadow: 0px 1px 2px rgba(60, 64, 67, 0.3), 0px 1px 3px 1px rgba(60, 64, 67, 0.15);\n",
              "      fill: #174EA6;\n",
              "    }\n",
              "\n",
              "    [theme=dark] .colab-df-convert {\n",
              "      background-color: #3B4455;\n",
              "      fill: #D2E3FC;\n",
              "    }\n",
              "\n",
              "    [theme=dark] .colab-df-convert:hover {\n",
              "      background-color: #434B5C;\n",
              "      box-shadow: 0px 1px 3px 1px rgba(0, 0, 0, 0.15);\n",
              "      filter: drop-shadow(0px 1px 2px rgba(0, 0, 0, 0.3));\n",
              "      fill: #FFFFFF;\n",
              "    }\n",
              "  </style>\n",
              "\n",
              "      <script>\n",
              "        const buttonEl =\n",
              "          document.querySelector('#df-d81c0c8b-162f-49c0-b710-30605085fc55 button.colab-df-convert');\n",
              "        buttonEl.style.display =\n",
              "          google.colab.kernel.accessAllowed ? 'block' : 'none';\n",
              "\n",
              "        async function convertToInteractive(key) {\n",
              "          const element = document.querySelector('#df-d81c0c8b-162f-49c0-b710-30605085fc55');\n",
              "          const dataTable =\n",
              "            await google.colab.kernel.invokeFunction('convertToInteractive',\n",
              "                                                     [key], {});\n",
              "          if (!dataTable) return;\n",
              "\n",
              "          const docLinkHtml = 'Like what you see? Visit the ' +\n",
              "            '<a target=\"_blank\" href=https://colab.research.google.com/notebooks/data_table.ipynb>data table notebook</a>'\n",
              "            + ' to learn more about interactive tables.';\n",
              "          element.innerHTML = '';\n",
              "          dataTable['output_type'] = 'display_data';\n",
              "          await google.colab.output.renderOutput(dataTable, element);\n",
              "          const docLink = document.createElement('div');\n",
              "          docLink.innerHTML = docLinkHtml;\n",
              "          element.appendChild(docLink);\n",
              "        }\n",
              "      </script>\n",
              "    </div>\n",
              "  </div>\n",
              "  "
            ]
          },
          "metadata": {},
          "execution_count": 14
        }
      ],
      "source": [
        "numeric_cols = data.select_dtypes(exclude=object).columns\n",
        "data[numeric_cols].describe()"
      ]
    },
    {
      "cell_type": "code",
      "execution_count": null,
      "metadata": {
        "colab": {
          "base_uri": "https://localhost:8080/",
          "height": 206
        },
        "id": "td6FkuzXDvGj",
        "outputId": "41b29588-f6e4-481a-923f-b88877b12192"
      },
      "outputs": [
        {
          "output_type": "execute_result",
          "data": {
            "text/plain": [
              "                                    key  fare_amount          pickup_datetime  \\\n",
              "24238194    2015-05-07 19:52:06.0000003          7.5  2015-05-07 19:52:06 UTC   \n",
              "27835199    2009-07-17 20:04:56.0000002          7.7  2009-07-17 20:04:56 UTC   \n",
              "44984355   2009-08-24 21:45:00.00000061         12.9  2009-08-24 21:45:00 UTC   \n",
              "25894730    2009-06-26 08:22:21.0000001          5.3  2009-06-26 08:22:21 UTC   \n",
              "17610152  2014-08-28 17:47:00.000000188         16.0  2014-08-28 17:47:00 UTC   \n",
              "\n",
              "          pickup_longitude  pickup_latitude  dropoff_longitude  \\\n",
              "24238194        -73.999817        40.738354         -73.999512   \n",
              "27835199        -73.994355        40.728225         -73.994710   \n",
              "44984355        -74.005043        40.740770         -73.962565   \n",
              "25894730        -73.976124        40.790844         -73.965316   \n",
              "17610152        -73.925023        40.744085         -73.973082   \n",
              "\n",
              "          dropoff_latitude  passenger_count  \n",
              "24238194         40.723217                1  \n",
              "27835199         40.750325                1  \n",
              "44984355         40.772647                1  \n",
              "25894730         40.803349                3  \n",
              "17610152         40.761247                5  "
            ],
            "text/html": [
              "\n",
              "  <div id=\"df-1659e067-9ef0-4a18-8d27-74f3562aa3a5\">\n",
              "    <div class=\"colab-df-container\">\n",
              "      <div>\n",
              "<style scoped>\n",
              "    .dataframe tbody tr th:only-of-type {\n",
              "        vertical-align: middle;\n",
              "    }\n",
              "\n",
              "    .dataframe tbody tr th {\n",
              "        vertical-align: top;\n",
              "    }\n",
              "\n",
              "    .dataframe thead th {\n",
              "        text-align: right;\n",
              "    }\n",
              "</style>\n",
              "<table border=\"1\" class=\"dataframe\">\n",
              "  <thead>\n",
              "    <tr style=\"text-align: right;\">\n",
              "      <th></th>\n",
              "      <th>key</th>\n",
              "      <th>fare_amount</th>\n",
              "      <th>pickup_datetime</th>\n",
              "      <th>pickup_longitude</th>\n",
              "      <th>pickup_latitude</th>\n",
              "      <th>dropoff_longitude</th>\n",
              "      <th>dropoff_latitude</th>\n",
              "      <th>passenger_count</th>\n",
              "    </tr>\n",
              "  </thead>\n",
              "  <tbody>\n",
              "    <tr>\n",
              "      <th>24238194</th>\n",
              "      <td>2015-05-07 19:52:06.0000003</td>\n",
              "      <td>7.5</td>\n",
              "      <td>2015-05-07 19:52:06 UTC</td>\n",
              "      <td>-73.999817</td>\n",
              "      <td>40.738354</td>\n",
              "      <td>-73.999512</td>\n",
              "      <td>40.723217</td>\n",
              "      <td>1</td>\n",
              "    </tr>\n",
              "    <tr>\n",
              "      <th>27835199</th>\n",
              "      <td>2009-07-17 20:04:56.0000002</td>\n",
              "      <td>7.7</td>\n",
              "      <td>2009-07-17 20:04:56 UTC</td>\n",
              "      <td>-73.994355</td>\n",
              "      <td>40.728225</td>\n",
              "      <td>-73.994710</td>\n",
              "      <td>40.750325</td>\n",
              "      <td>1</td>\n",
              "    </tr>\n",
              "    <tr>\n",
              "      <th>44984355</th>\n",
              "      <td>2009-08-24 21:45:00.00000061</td>\n",
              "      <td>12.9</td>\n",
              "      <td>2009-08-24 21:45:00 UTC</td>\n",
              "      <td>-74.005043</td>\n",
              "      <td>40.740770</td>\n",
              "      <td>-73.962565</td>\n",
              "      <td>40.772647</td>\n",
              "      <td>1</td>\n",
              "    </tr>\n",
              "    <tr>\n",
              "      <th>25894730</th>\n",
              "      <td>2009-06-26 08:22:21.0000001</td>\n",
              "      <td>5.3</td>\n",
              "      <td>2009-06-26 08:22:21 UTC</td>\n",
              "      <td>-73.976124</td>\n",
              "      <td>40.790844</td>\n",
              "      <td>-73.965316</td>\n",
              "      <td>40.803349</td>\n",
              "      <td>3</td>\n",
              "    </tr>\n",
              "    <tr>\n",
              "      <th>17610152</th>\n",
              "      <td>2014-08-28 17:47:00.000000188</td>\n",
              "      <td>16.0</td>\n",
              "      <td>2014-08-28 17:47:00 UTC</td>\n",
              "      <td>-73.925023</td>\n",
              "      <td>40.744085</td>\n",
              "      <td>-73.973082</td>\n",
              "      <td>40.761247</td>\n",
              "      <td>5</td>\n",
              "    </tr>\n",
              "  </tbody>\n",
              "</table>\n",
              "</div>\n",
              "      <button class=\"colab-df-convert\" onclick=\"convertToInteractive('df-1659e067-9ef0-4a18-8d27-74f3562aa3a5')\"\n",
              "              title=\"Convert this dataframe to an interactive table.\"\n",
              "              style=\"display:none;\">\n",
              "        \n",
              "  <svg xmlns=\"http://www.w3.org/2000/svg\" height=\"24px\"viewBox=\"0 0 24 24\"\n",
              "       width=\"24px\">\n",
              "    <path d=\"M0 0h24v24H0V0z\" fill=\"none\"/>\n",
              "    <path d=\"M18.56 5.44l.94 2.06.94-2.06 2.06-.94-2.06-.94-.94-2.06-.94 2.06-2.06.94zm-11 1L8.5 8.5l.94-2.06 2.06-.94-2.06-.94L8.5 2.5l-.94 2.06-2.06.94zm10 10l.94 2.06.94-2.06 2.06-.94-2.06-.94-.94-2.06-.94 2.06-2.06.94z\"/><path d=\"M17.41 7.96l-1.37-1.37c-.4-.4-.92-.59-1.43-.59-.52 0-1.04.2-1.43.59L10.3 9.45l-7.72 7.72c-.78.78-.78 2.05 0 2.83L4 21.41c.39.39.9.59 1.41.59.51 0 1.02-.2 1.41-.59l7.78-7.78 2.81-2.81c.8-.78.8-2.07 0-2.86zM5.41 20L4 18.59l7.72-7.72 1.47 1.35L5.41 20z\"/>\n",
              "  </svg>\n",
              "      </button>\n",
              "      \n",
              "  <style>\n",
              "    .colab-df-container {\n",
              "      display:flex;\n",
              "      flex-wrap:wrap;\n",
              "      gap: 12px;\n",
              "    }\n",
              "\n",
              "    .colab-df-convert {\n",
              "      background-color: #E8F0FE;\n",
              "      border: none;\n",
              "      border-radius: 50%;\n",
              "      cursor: pointer;\n",
              "      display: none;\n",
              "      fill: #1967D2;\n",
              "      height: 32px;\n",
              "      padding: 0 0 0 0;\n",
              "      width: 32px;\n",
              "    }\n",
              "\n",
              "    .colab-df-convert:hover {\n",
              "      background-color: #E2EBFA;\n",
              "      box-shadow: 0px 1px 2px rgba(60, 64, 67, 0.3), 0px 1px 3px 1px rgba(60, 64, 67, 0.15);\n",
              "      fill: #174EA6;\n",
              "    }\n",
              "\n",
              "    [theme=dark] .colab-df-convert {\n",
              "      background-color: #3B4455;\n",
              "      fill: #D2E3FC;\n",
              "    }\n",
              "\n",
              "    [theme=dark] .colab-df-convert:hover {\n",
              "      background-color: #434B5C;\n",
              "      box-shadow: 0px 1px 3px 1px rgba(0, 0, 0, 0.15);\n",
              "      filter: drop-shadow(0px 1px 2px rgba(0, 0, 0, 0.3));\n",
              "      fill: #FFFFFF;\n",
              "    }\n",
              "  </style>\n",
              "\n",
              "      <script>\n",
              "        const buttonEl =\n",
              "          document.querySelector('#df-1659e067-9ef0-4a18-8d27-74f3562aa3a5 button.colab-df-convert');\n",
              "        buttonEl.style.display =\n",
              "          google.colab.kernel.accessAllowed ? 'block' : 'none';\n",
              "\n",
              "        async function convertToInteractive(key) {\n",
              "          const element = document.querySelector('#df-1659e067-9ef0-4a18-8d27-74f3562aa3a5');\n",
              "          const dataTable =\n",
              "            await google.colab.kernel.invokeFunction('convertToInteractive',\n",
              "                                                     [key], {});\n",
              "          if (!dataTable) return;\n",
              "\n",
              "          const docLinkHtml = 'Like what you see? Visit the ' +\n",
              "            '<a target=\"_blank\" href=https://colab.research.google.com/notebooks/data_table.ipynb>data table notebook</a>'\n",
              "            + ' to learn more about interactive tables.';\n",
              "          element.innerHTML = '';\n",
              "          dataTable['output_type'] = 'display_data';\n",
              "          await google.colab.output.renderOutput(dataTable, element);\n",
              "          const docLink = document.createElement('div');\n",
              "          docLink.innerHTML = docLinkHtml;\n",
              "          element.appendChild(docLink);\n",
              "        }\n",
              "      </script>\n",
              "    </div>\n",
              "  </div>\n",
              "  "
            ]
          },
          "metadata": {},
          "execution_count": 15
        }
      ],
      "source": [
        "data = data[\n",
        "    (-180 < data['pickup_longitude']) & (data['pickup_longitude'] < 180) &\n",
        "    (-180 < data['dropoff_longitude']) & (data['dropoff_longitude'] < 180) &\n",
        "    (-90 < data['pickup_latitude']) & (data['pickup_latitude'] < 90) &\n",
        "    (-90 < data['dropoff_latitude']) & (data['dropoff_latitude'] < 90) &\n",
        "    (data['passenger_count'] < 50) & (data['passenger_count'] > 0) &\n",
        "    (data['fare_amount'] > 0)\n",
        "]\n",
        "data.head()"
      ]
    },
    {
      "cell_type": "code",
      "source": [
        "#Credit to Kaggle user ADNAN BURHANPURWALA \n",
        "def haversine(lon_1, lon_2, lat_1, lat_2):\n",
        "    \n",
        "    lon_1, lon_2, lat_1, lat_2 = map(np.radians, [lon_1, lon_2, lat_1, lat_2])  #Degrees to Radians\n",
        "    \n",
        "    \n",
        "    diff_lon = lon_2 - lon_1\n",
        "    diff_lat = lat_2 - lat_1\n",
        "    \n",
        "\n",
        "    km = 2 * 6371 * np.arcsin(np.sqrt(np.sin(diff_lat/2.0)**2 + \n",
        "                                      np.cos(lat_1) * np.cos(lat_2) * np.sin(diff_lon/2.0)**2))\n",
        "    \n",
        "    return km\n",
        "\n",
        "data['Distance'] = haversine(data['pickup_longitude'], data['dropoff_longitude'],\n",
        "                            data['pickup_latitude'], data['dropoff_latitude'])\n",
        "data.head()"
      ],
      "metadata": {
        "colab": {
          "base_uri": "https://localhost:8080/",
          "height": 293
        },
        "id": "qNtbsDqCGDnR",
        "outputId": "dbf5aca5-d9dc-4868-f282-458d460198d7"
      },
      "execution_count": null,
      "outputs": [
        {
          "output_type": "stream",
          "name": "stderr",
          "text": [
            "/usr/local/lib/python3.7/dist-packages/ipykernel_launcher.py:17: SettingWithCopyWarning: \n",
            "A value is trying to be set on a copy of a slice from a DataFrame.\n",
            "Try using .loc[row_indexer,col_indexer] = value instead\n",
            "\n",
            "See the caveats in the documentation: https://pandas.pydata.org/pandas-docs/stable/user_guide/indexing.html#returning-a-view-versus-a-copy\n"
          ]
        },
        {
          "output_type": "execute_result",
          "data": {
            "text/plain": [
              "                                    key  fare_amount          pickup_datetime  \\\n",
              "24238194    2015-05-07 19:52:06.0000003          7.5  2015-05-07 19:52:06 UTC   \n",
              "27835199    2009-07-17 20:04:56.0000002          7.7  2009-07-17 20:04:56 UTC   \n",
              "44984355   2009-08-24 21:45:00.00000061         12.9  2009-08-24 21:45:00 UTC   \n",
              "25894730    2009-06-26 08:22:21.0000001          5.3  2009-06-26 08:22:21 UTC   \n",
              "17610152  2014-08-28 17:47:00.000000188         16.0  2014-08-28 17:47:00 UTC   \n",
              "\n",
              "          pickup_longitude  pickup_latitude  dropoff_longitude  \\\n",
              "24238194        -73.999817        40.738354         -73.999512   \n",
              "27835199        -73.994355        40.728225         -73.994710   \n",
              "44984355        -74.005043        40.740770         -73.962565   \n",
              "25894730        -73.976124        40.790844         -73.965316   \n",
              "17610152        -73.925023        40.744085         -73.973082   \n",
              "\n",
              "          dropoff_latitude  passenger_count  Distance  \n",
              "24238194         40.723217                1  1.683323  \n",
              "27835199         40.750325                1  2.457590  \n",
              "44984355         40.772647                1  5.036377  \n",
              "25894730         40.803349                3  1.661683  \n",
              "17610152         40.761247                5  4.475450  "
            ],
            "text/html": [
              "\n",
              "  <div id=\"df-907ac698-9fa4-4a0d-a349-35fb630da6c5\">\n",
              "    <div class=\"colab-df-container\">\n",
              "      <div>\n",
              "<style scoped>\n",
              "    .dataframe tbody tr th:only-of-type {\n",
              "        vertical-align: middle;\n",
              "    }\n",
              "\n",
              "    .dataframe tbody tr th {\n",
              "        vertical-align: top;\n",
              "    }\n",
              "\n",
              "    .dataframe thead th {\n",
              "        text-align: right;\n",
              "    }\n",
              "</style>\n",
              "<table border=\"1\" class=\"dataframe\">\n",
              "  <thead>\n",
              "    <tr style=\"text-align: right;\">\n",
              "      <th></th>\n",
              "      <th>key</th>\n",
              "      <th>fare_amount</th>\n",
              "      <th>pickup_datetime</th>\n",
              "      <th>pickup_longitude</th>\n",
              "      <th>pickup_latitude</th>\n",
              "      <th>dropoff_longitude</th>\n",
              "      <th>dropoff_latitude</th>\n",
              "      <th>passenger_count</th>\n",
              "      <th>Distance</th>\n",
              "    </tr>\n",
              "  </thead>\n",
              "  <tbody>\n",
              "    <tr>\n",
              "      <th>24238194</th>\n",
              "      <td>2015-05-07 19:52:06.0000003</td>\n",
              "      <td>7.5</td>\n",
              "      <td>2015-05-07 19:52:06 UTC</td>\n",
              "      <td>-73.999817</td>\n",
              "      <td>40.738354</td>\n",
              "      <td>-73.999512</td>\n",
              "      <td>40.723217</td>\n",
              "      <td>1</td>\n",
              "      <td>1.683323</td>\n",
              "    </tr>\n",
              "    <tr>\n",
              "      <th>27835199</th>\n",
              "      <td>2009-07-17 20:04:56.0000002</td>\n",
              "      <td>7.7</td>\n",
              "      <td>2009-07-17 20:04:56 UTC</td>\n",
              "      <td>-73.994355</td>\n",
              "      <td>40.728225</td>\n",
              "      <td>-73.994710</td>\n",
              "      <td>40.750325</td>\n",
              "      <td>1</td>\n",
              "      <td>2.457590</td>\n",
              "    </tr>\n",
              "    <tr>\n",
              "      <th>44984355</th>\n",
              "      <td>2009-08-24 21:45:00.00000061</td>\n",
              "      <td>12.9</td>\n",
              "      <td>2009-08-24 21:45:00 UTC</td>\n",
              "      <td>-74.005043</td>\n",
              "      <td>40.740770</td>\n",
              "      <td>-73.962565</td>\n",
              "      <td>40.772647</td>\n",
              "      <td>1</td>\n",
              "      <td>5.036377</td>\n",
              "    </tr>\n",
              "    <tr>\n",
              "      <th>25894730</th>\n",
              "      <td>2009-06-26 08:22:21.0000001</td>\n",
              "      <td>5.3</td>\n",
              "      <td>2009-06-26 08:22:21 UTC</td>\n",
              "      <td>-73.976124</td>\n",
              "      <td>40.790844</td>\n",
              "      <td>-73.965316</td>\n",
              "      <td>40.803349</td>\n",
              "      <td>3</td>\n",
              "      <td>1.661683</td>\n",
              "    </tr>\n",
              "    <tr>\n",
              "      <th>17610152</th>\n",
              "      <td>2014-08-28 17:47:00.000000188</td>\n",
              "      <td>16.0</td>\n",
              "      <td>2014-08-28 17:47:00 UTC</td>\n",
              "      <td>-73.925023</td>\n",
              "      <td>40.744085</td>\n",
              "      <td>-73.973082</td>\n",
              "      <td>40.761247</td>\n",
              "      <td>5</td>\n",
              "      <td>4.475450</td>\n",
              "    </tr>\n",
              "  </tbody>\n",
              "</table>\n",
              "</div>\n",
              "      <button class=\"colab-df-convert\" onclick=\"convertToInteractive('df-907ac698-9fa4-4a0d-a349-35fb630da6c5')\"\n",
              "              title=\"Convert this dataframe to an interactive table.\"\n",
              "              style=\"display:none;\">\n",
              "        \n",
              "  <svg xmlns=\"http://www.w3.org/2000/svg\" height=\"24px\"viewBox=\"0 0 24 24\"\n",
              "       width=\"24px\">\n",
              "    <path d=\"M0 0h24v24H0V0z\" fill=\"none\"/>\n",
              "    <path d=\"M18.56 5.44l.94 2.06.94-2.06 2.06-.94-2.06-.94-.94-2.06-.94 2.06-2.06.94zm-11 1L8.5 8.5l.94-2.06 2.06-.94-2.06-.94L8.5 2.5l-.94 2.06-2.06.94zm10 10l.94 2.06.94-2.06 2.06-.94-2.06-.94-.94-2.06-.94 2.06-2.06.94z\"/><path d=\"M17.41 7.96l-1.37-1.37c-.4-.4-.92-.59-1.43-.59-.52 0-1.04.2-1.43.59L10.3 9.45l-7.72 7.72c-.78.78-.78 2.05 0 2.83L4 21.41c.39.39.9.59 1.41.59.51 0 1.02-.2 1.41-.59l7.78-7.78 2.81-2.81c.8-.78.8-2.07 0-2.86zM5.41 20L4 18.59l7.72-7.72 1.47 1.35L5.41 20z\"/>\n",
              "  </svg>\n",
              "      </button>\n",
              "      \n",
              "  <style>\n",
              "    .colab-df-container {\n",
              "      display:flex;\n",
              "      flex-wrap:wrap;\n",
              "      gap: 12px;\n",
              "    }\n",
              "\n",
              "    .colab-df-convert {\n",
              "      background-color: #E8F0FE;\n",
              "      border: none;\n",
              "      border-radius: 50%;\n",
              "      cursor: pointer;\n",
              "      display: none;\n",
              "      fill: #1967D2;\n",
              "      height: 32px;\n",
              "      padding: 0 0 0 0;\n",
              "      width: 32px;\n",
              "    }\n",
              "\n",
              "    .colab-df-convert:hover {\n",
              "      background-color: #E2EBFA;\n",
              "      box-shadow: 0px 1px 2px rgba(60, 64, 67, 0.3), 0px 1px 3px 1px rgba(60, 64, 67, 0.15);\n",
              "      fill: #174EA6;\n",
              "    }\n",
              "\n",
              "    [theme=dark] .colab-df-convert {\n",
              "      background-color: #3B4455;\n",
              "      fill: #D2E3FC;\n",
              "    }\n",
              "\n",
              "    [theme=dark] .colab-df-convert:hover {\n",
              "      background-color: #434B5C;\n",
              "      box-shadow: 0px 1px 3px 1px rgba(0, 0, 0, 0.15);\n",
              "      filter: drop-shadow(0px 1px 2px rgba(0, 0, 0, 0.3));\n",
              "      fill: #FFFFFF;\n",
              "    }\n",
              "  </style>\n",
              "\n",
              "      <script>\n",
              "        const buttonEl =\n",
              "          document.querySelector('#df-907ac698-9fa4-4a0d-a349-35fb630da6c5 button.colab-df-convert');\n",
              "        buttonEl.style.display =\n",
              "          google.colab.kernel.accessAllowed ? 'block' : 'none';\n",
              "\n",
              "        async function convertToInteractive(key) {\n",
              "          const element = document.querySelector('#df-907ac698-9fa4-4a0d-a349-35fb630da6c5');\n",
              "          const dataTable =\n",
              "            await google.colab.kernel.invokeFunction('convertToInteractive',\n",
              "                                                     [key], {});\n",
              "          if (!dataTable) return;\n",
              "\n",
              "          const docLinkHtml = 'Like what you see? Visit the ' +\n",
              "            '<a target=\"_blank\" href=https://colab.research.google.com/notebooks/data_table.ipynb>data table notebook</a>'\n",
              "            + ' to learn more about interactive tables.';\n",
              "          element.innerHTML = '';\n",
              "          dataTable['output_type'] = 'display_data';\n",
              "          await google.colab.output.renderOutput(dataTable, element);\n",
              "          const docLink = document.createElement('div');\n",
              "          docLink.innerHTML = docLinkHtml;\n",
              "          element.appendChild(docLink);\n",
              "        }\n",
              "      </script>\n",
              "    </div>\n",
              "  </div>\n",
              "  "
            ]
          },
          "metadata": {},
          "execution_count": 16
        }
      ]
    },
    {
      "cell_type": "code",
      "source": [
        "sns.boxplot(data['Distance'])"
      ],
      "metadata": {
        "colab": {
          "base_uri": "https://localhost:8080/",
          "height": 351
        },
        "id": "kW2gicbjGRKu",
        "outputId": "6526c8a9-221f-4cf2-9c06-b9d054a9909b"
      },
      "execution_count": null,
      "outputs": [
        {
          "output_type": "stream",
          "name": "stderr",
          "text": [
            "/usr/local/lib/python3.7/dist-packages/seaborn/_decorators.py:43: FutureWarning: Pass the following variable as a keyword arg: x. From version 0.12, the only valid positional argument will be `data`, and passing other arguments without an explicit keyword will result in an error or misinterpretation.\n",
            "  FutureWarning\n"
          ]
        },
        {
          "output_type": "execute_result",
          "data": {
            "text/plain": [
              "<matplotlib.axes._subplots.AxesSubplot at 0x7f8c8afd78d0>"
            ]
          },
          "metadata": {},
          "execution_count": 17
        },
        {
          "output_type": "display_data",
          "data": {
            "text/plain": [
              "<Figure size 432x288 with 1 Axes>"
            ],
            "image/png": "[encoded data removed]"
          },
          "metadata": {
            "needs_background": "light"
          }
        }
      ]
    },
    {
      "cell_type": "code",
      "source": [
        "data = data[(data['Distance'] < 2000) & data['Distance'] > 0]"
      ],
      "metadata": {
        "id": "65oNJf2JGamp"
      },
      "execution_count": null,
      "outputs": []
    },
    {
      "cell_type": "code",
      "source": [
        "sns.scatterplot(data=data, x='Distance', y='fare_amount', hue='passenger_count')"
      ],
      "metadata": {
        "colab": {
          "base_uri": "https://localhost:8080/",
          "height": 296
        },
        "id": "pLKoPkAtGh6z",
        "outputId": "e10cd2cc-5dff-443f-caa2-73689e55d7f1"
      },
      "execution_count": null,
      "outputs": [
        {
          "output_type": "execute_result",
          "data": {
            "text/plain": [
              "<matplotlib.axes._subplots.AxesSubplot at 0x7f8c7563c910>"
            ]
          },
          "metadata": {},
          "execution_count": 19
        },
        {
          "output_type": "display_data",
          "data": {
            "text/plain": [
              "<Figure size 432x288 with 1 Axes>"
            ],
            "image/png": "[encoded data removed]"
          },
          "metadata": {
            "needs_background": "light"
          }
        }
      ]
    },
    {
      "cell_type": "code",
      "source": [
        "# data = data[(0 < data['fare_amount'] < 200) and (200 > data['Distance'] > 0) ]\n",
        "data = data[\n",
        "    (data['Distance'] < 200) &\n",
        "    (data['fare_amount'] < 200) & data['fare_amount']>0\n",
        "]"
      ],
      "metadata": {
        "id": "8sj5KnYiGpwh"
      },
      "execution_count": null,
      "outputs": []
    },
    {
      "cell_type": "code",
      "source": [
        "data.shape"
      ],
      "metadata": {
        "colab": {
          "base_uri": "https://localhost:8080/"
        },
        "id": "Hl2Jl0Z0HDGA",
        "outputId": "19073ef8-ad3c-4d13-c138-d00f5c4f3bf1"
      },
      "execution_count": null,
      "outputs": [
        {
          "output_type": "execute_result",
          "data": {
            "text/plain": [
              "(193217, 9)"
            ]
          },
          "metadata": {},
          "execution_count": 21
        }
      ]
    },
    {
      "cell_type": "code",
      "source": [
        "sns.scatterplot(data=data, x='Distance', y='fare_amount', hue='passenger_count')"
      ],
      "metadata": {
        "colab": {
          "base_uri": "https://localhost:8080/",
          "height": 296
        },
        "id": "TzlKOIgpHkTI",
        "outputId": "1b92963d-af82-4765-f53a-7ec20a988aeb"
      },
      "execution_count": null,
      "outputs": [
        {
          "output_type": "execute_result",
          "data": {
            "text/plain": [
              "<matplotlib.axes._subplots.AxesSubplot at 0x7f8c75061dd0>"
            ]
          },
          "metadata": {},
          "execution_count": 22
        },
        {
          "output_type": "display_data",
          "data": {
            "text/plain": [
              "<Figure size 432x288 with 1 Axes>"
            ],
            "image/png": "[encoded data removed]"
          },
          "metadata": {
            "needs_background": "light"
          }
        }
      ]
    },
    {
      "cell_type": "code",
      "source": [
        "data = data.drop(\n",
        "    data[(data['fare_amount'] > 75) & (data['Distance'] < 5)].index)"
      ],
      "metadata": {
        "id": "imK8N5P0H3ic"
      },
      "execution_count": null,
      "outputs": []
    },
    {
      "cell_type": "code",
      "source": [
        "data = data.drop(\n",
        "    data[(data['fare_amount'] < 75) & (data['Distance'] > 50)].index)"
      ],
      "metadata": {
        "id": "tlgsuY_yIV2x"
      },
      "execution_count": null,
      "outputs": []
    },
    {
      "cell_type": "code",
      "source": [
        "data.shape"
      ],
      "metadata": {
        "colab": {
          "base_uri": "https://localhost:8080/"
        },
        "id": "a9LP3NGSIwtX",
        "outputId": "5dc5673b-b33b-40d0-c95d-93e95c2bd893"
      },
      "execution_count": null,
      "outputs": [
        {
          "output_type": "execute_result",
          "data": {
            "text/plain": [
              "(193124, 9)"
            ]
          },
          "metadata": {},
          "execution_count": 25
        }
      ]
    },
    {
      "cell_type": "code",
      "source": [
        "sns.scatterplot(data=data, x='Distance', y='fare_amount', hue='passenger_count')"
      ],
      "metadata": {
        "colab": {
          "base_uri": "https://localhost:8080/",
          "height": 299
        },
        "id": "mCJwTaiOI04Z",
        "outputId": "89d06c4d-6f5f-411d-82cc-bba1224c78ce"
      },
      "execution_count": null,
      "outputs": [
        {
          "output_type": "execute_result",
          "data": {
            "text/plain": [
              "<matplotlib.axes._subplots.AxesSubplot at 0x7f8c73b2a810>"
            ]
          },
          "metadata": {},
          "execution_count": 26
        },
        {
          "output_type": "display_data",
          "data": {
            "text/plain": [
              "<Figure size 432x288 with 1 Axes>"
            ],
            "image/png": "[encoded data removed]"
          },
          "metadata": {
            "needs_background": "light"
          }
        }
      ]
    },
    {
      "cell_type": "code",
      "source": [
        "corr_mat = data[['fare_amount', 'passenger_count', 'Distance']].corr()\n",
        "sns.heatmap(corr_mat, annot=True)"
      ],
      "metadata": {
        "colab": {
          "base_uri": "https://localhost:8080/",
          "height": 287
        },
        "id": "lyFJc7nXI2J5",
        "outputId": "0373173f-6aef-4acc-ff8f-2e1c67961305"
      },
      "execution_count": null,
      "outputs": [
        {
          "output_type": "execute_result",
          "data": {
            "text/plain": [
              "<matplotlib.axes._subplots.AxesSubplot at 0x7f8c750c4ad0>"
            ]
          },
          "metadata": {},
          "execution_count": 27
        },
        {
          "output_type": "display_data",
          "data": {
            "text/plain": [
              "<Figure size 432x288 with 2 Axes>"
            ],
            "image/png": "[encoded data removed]"
          },
          "metadata": {
            "needs_background": "light"
          }
        }
      ]
    },
    {
      "cell_type": "markdown",
      "source": [
        "Handling wrong datatype for Date-Time"
      ],
      "metadata": {
        "id": "JMC1_-3UJQpU"
      }
    },
    {
      "cell_type": "code",
      "source": [
        "data['pickup_datetime'].dtype"
      ],
      "metadata": {
        "colab": {
          "base_uri": "https://localhost:8080/"
        },
        "id": "uvw6yk28I62M",
        "outputId": "e513bfc7-b9d0-4bc3-c922-85d923f2a747"
      },
      "execution_count": null,
      "outputs": [
        {
          "output_type": "execute_result",
          "data": {
            "text/plain": [
              "dtype('O')"
            ]
          },
          "metadata": {},
          "execution_count": 28
        }
      ]
    },
    {
      "cell_type": "code",
      "source": [
        "data['pickup_datetime'] = pd.to_datetime(data['pickup_datetime'])\n",
        "data['pickup_datetime'].head()"
      ],
      "metadata": {
        "colab": {
          "base_uri": "https://localhost:8080/"
        },
        "id": "qD1N6MjQJOMW",
        "outputId": "0f25b025-1ee5-4617-b356-9f661dc81e21"
      },
      "execution_count": null,
      "outputs": [
        {
          "output_type": "execute_result",
          "data": {
            "text/plain": [
              "24238194   2015-05-07 19:52:06+00:00\n",
              "27835199   2009-07-17 20:04:56+00:00\n",
              "44984355   2009-08-24 21:45:00+00:00\n",
              "25894730   2009-06-26 08:22:21+00:00\n",
              "17610152   2014-08-28 17:47:00+00:00\n",
              "Name: pickup_datetime, dtype: datetime64[ns, UTC]"
            ]
          },
          "metadata": {},
          "execution_count": 29
        }
      ]
    },
    {
      "cell_type": "code",
      "source": [
        "data['week_day'] = data['pickup_datetime'].dt.day_name()\n",
        "data['Year'] = data['pickup_datetime'].dt.year\n",
        "data['Month'] = data['pickup_datetime'].dt.month\n",
        "data['Hour'] = data['pickup_datetime'].dt.hour\n",
        "\n",
        "data = data.drop(columns=['key', 'pickup_datetime'])"
      ],
      "metadata": {
        "id": "FVrKwaALJaZv"
      },
      "execution_count": null,
      "outputs": []
    },
    {
      "cell_type": "code",
      "source": [
        "data.head()"
      ],
      "metadata": {
        "colab": {
          "base_uri": "https://localhost:8080/",
          "height": 206
        },
        "id": "1coow48ZKW10",
        "outputId": "f4f824e5-d712-4913-c1c9-f7de3c6bc261"
      },
      "execution_count": null,
      "outputs": [
        {
          "output_type": "execute_result",
          "data": {
            "text/plain": [
              "          fare_amount  pickup_longitude  pickup_latitude  dropoff_longitude  \\\n",
              "24238194          7.5        -73.999817        40.738354         -73.999512   \n",
              "27835199          7.7        -73.994355        40.728225         -73.994710   \n",
              "44984355         12.9        -74.005043        40.740770         -73.962565   \n",
              "25894730          5.3        -73.976124        40.790844         -73.965316   \n",
              "17610152         16.0        -73.925023        40.744085         -73.973082   \n",
              "\n",
              "          dropoff_latitude  passenger_count  Distance  week_day  Year  Month  \\\n",
              "24238194         40.723217                1  1.683323  Thursday  2015      5   \n",
              "27835199         40.750325                1  2.457590    Friday  2009      7   \n",
              "44984355         40.772647                1  5.036377    Monday  2009      8   \n",
              "25894730         40.803349                3  1.661683    Friday  2009      6   \n",
              "17610152         40.761247                5  4.475450  Thursday  2014      8   \n",
              "\n",
              "          Hour  \n",
              "24238194    19  \n",
              "27835199    20  \n",
              "44984355    21  \n",
              "25894730     8  \n",
              "17610152    17  "
            ],
            "text/html": [
              "\n",
              "  <div id=\"df-590f475b-245a-4f47-8e91-1e9ea3baac9e\">\n",
              "    <div class=\"colab-df-container\">\n",
              "      <div>\n",
              "<style scoped>\n",
              "    .dataframe tbody tr th:only-of-type {\n",
              "        vertical-align: middle;\n",
              "    }\n",
              "\n",
              "    .dataframe tbody tr th {\n",
              "        vertical-align: top;\n",
              "    }\n",
              "\n",
              "    .dataframe thead th {\n",
              "        text-align: right;\n",
              "    }\n",
              "</style>\n",
              "<table border=\"1\" class=\"dataframe\">\n",
              "  <thead>\n",
              "    <tr style=\"text-align: right;\">\n",
              "      <th></th>\n",
              "      <th>fare_amount</th>\n",
              "      <th>pickup_longitude</th>\n",
              "      <th>pickup_latitude</th>\n",
              "      <th>dropoff_longitude</th>\n",
              "      <th>dropoff_latitude</th>\n",
              "      <th>passenger_count</th>\n",
              "      <th>Distance</th>\n",
              "      <th>week_day</th>\n",
              "      <th>Year</th>\n",
              "      <th>Month</th>\n",
              "      <th>Hour</th>\n",
              "    </tr>\n",
              "  </thead>\n",
              "  <tbody>\n",
              "    <tr>\n",
              "      <th>24238194</th>\n",
              "      <td>7.5</td>\n",
              "      <td>-73.999817</td>\n",
              "      <td>40.738354</td>\n",
              "      <td>-73.999512</td>\n",
              "      <td>40.723217</td>\n",
              "      <td>1</td>\n",
              "      <td>1.683323</td>\n",
              "      <td>Thursday</td>\n",
              "      <td>2015</td>\n",
              "      <td>5</td>\n",
              "      <td>19</td>\n",
              "    </tr>\n",
              "    <tr>\n",
              "      <th>27835199</th>\n",
              "      <td>7.7</td>\n",
              "      <td>-73.994355</td>\n",
              "      <td>40.728225</td>\n",
              "      <td>-73.994710</td>\n",
              "      <td>40.750325</td>\n",
              "      <td>1</td>\n",
              "      <td>2.457590</td>\n",
              "      <td>Friday</td>\n",
              "      <td>2009</td>\n",
              "      <td>7</td>\n",
              "      <td>20</td>\n",
              "    </tr>\n",
              "    <tr>\n",
              "      <th>44984355</th>\n",
              "      <td>12.9</td>\n",
              "      <td>-74.005043</td>\n",
              "      <td>40.740770</td>\n",
              "      <td>-73.962565</td>\n",
              "      <td>40.772647</td>\n",
              "      <td>1</td>\n",
              "      <td>5.036377</td>\n",
              "      <td>Monday</td>\n",
              "      <td>2009</td>\n",
              "      <td>8</td>\n",
              "      <td>21</td>\n",
              "    </tr>\n",
              "    <tr>\n",
              "      <th>25894730</th>\n",
              "      <td>5.3</td>\n",
              "      <td>-73.976124</td>\n",
              "      <td>40.790844</td>\n",
              "      <td>-73.965316</td>\n",
              "      <td>40.803349</td>\n",
              "      <td>3</td>\n",
              "      <td>1.661683</td>\n",
              "      <td>Friday</td>\n",
              "      <td>2009</td>\n",
              "      <td>6</td>\n",
              "      <td>8</td>\n",
              "    </tr>\n",
              "    <tr>\n",
              "      <th>17610152</th>\n",
              "      <td>16.0</td>\n",
              "      <td>-73.925023</td>\n",
              "      <td>40.744085</td>\n",
              "      <td>-73.973082</td>\n",
              "      <td>40.761247</td>\n",
              "      <td>5</td>\n",
              "      <td>4.475450</td>\n",
              "      <td>Thursday</td>\n",
              "      <td>2014</td>\n",
              "      <td>8</td>\n",
              "      <td>17</td>\n",
              "    </tr>\n",
              "  </tbody>\n",
              "</table>\n",
              "</div>\n",
              "      <button class=\"colab-df-convert\" onclick=\"convertToInteractive('df-590f475b-245a-4f47-8e91-1e9ea3baac9e')\"\n",
              "              title=\"Convert this dataframe to an interactive table.\"\n",
              "              style=\"display:none;\">\n",
              "        \n",
              "  <svg xmlns=\"http://www.w3.org/2000/svg\" height=\"24px\"viewBox=\"0 0 24 24\"\n",
              "       width=\"24px\">\n",
              "    <path d=\"M0 0h24v24H0V0z\" fill=\"none\"/>\n",
              "    <path d=\"M18.56 5.44l.94 2.06.94-2.06 2.06-.94-2.06-.94-.94-2.06-.94 2.06-2.06.94zm-11 1L8.5 8.5l.94-2.06 2.06-.94-2.06-.94L8.5 2.5l-.94 2.06-2.06.94zm10 10l.94 2.06.94-2.06 2.06-.94-2.06-.94-.94-2.06-.94 2.06-2.06.94z\"/><path d=\"M17.41 7.96l-1.37-1.37c-.4-.4-.92-.59-1.43-.59-.52 0-1.04.2-1.43.59L10.3 9.45l-7.72 7.72c-.78.78-.78 2.05 0 2.83L4 21.41c.39.39.9.59 1.41.59.51 0 1.02-.2 1.41-.59l7.78-7.78 2.81-2.81c.8-.78.8-2.07 0-2.86zM5.41 20L4 18.59l7.72-7.72 1.47 1.35L5.41 20z\"/>\n",
              "  </svg>\n",
              "      </button>\n",
              "      \n",
              "  <style>\n",
              "    .colab-df-container {\n",
              "      display:flex;\n",
              "      flex-wrap:wrap;\n",
              "      gap: 12px;\n",
              "    }\n",
              "\n",
              "    .colab-df-convert {\n",
              "      background-color: #E8F0FE;\n",
              "      border: none;\n",
              "      border-radius: 50%;\n",
              "      cursor: pointer;\n",
              "      display: none;\n",
              "      fill: #1967D2;\n",
              "      height: 32px;\n",
              "      padding: 0 0 0 0;\n",
              "      width: 32px;\n",
              "    }\n",
              "\n",
              "    .colab-df-convert:hover {\n",
              "      background-color: #E2EBFA;\n",
              "      box-shadow: 0px 1px 2px rgba(60, 64, 67, 0.3), 0px 1px 3px 1px rgba(60, 64, 67, 0.15);\n",
              "      fill: #174EA6;\n",
              "    }\n",
              "\n",
              "    [theme=dark] .colab-df-convert {\n",
              "      background-color: #3B4455;\n",
              "      fill: #D2E3FC;\n",
              "    }\n",
              "\n",
              "    [theme=dark] .colab-df-convert:hover {\n",
              "      background-color: #434B5C;\n",
              "      box-shadow: 0px 1px 3px 1px rgba(0, 0, 0, 0.15);\n",
              "      filter: drop-shadow(0px 1px 2px rgba(0, 0, 0, 0.3));\n",
              "      fill: #FFFFFF;\n",
              "    }\n",
              "  </style>\n",
              "\n",
              "      <script>\n",
              "        const buttonEl =\n",
              "          document.querySelector('#df-590f475b-245a-4f47-8e91-1e9ea3baac9e button.colab-df-convert');\n",
              "        buttonEl.style.display =\n",
              "          google.colab.kernel.accessAllowed ? 'block' : 'none';\n",
              "\n",
              "        async function convertToInteractive(key) {\n",
              "          const element = document.querySelector('#df-590f475b-245a-4f47-8e91-1e9ea3baac9e');\n",
              "          const dataTable =\n",
              "            await google.colab.kernel.invokeFunction('convertToInteractive',\n",
              "                                                     [key], {});\n",
              "          if (!dataTable) return;\n",
              "\n",
              "          const docLinkHtml = 'Like what you see? Visit the ' +\n",
              "            '<a target=\"_blank\" href=https://colab.research.google.com/notebooks/data_table.ipynb>data table notebook</a>'\n",
              "            + ' to learn more about interactive tables.';\n",
              "          element.innerHTML = '';\n",
              "          dataTable['output_type'] = 'display_data';\n",
              "          await google.colab.output.renderOutput(dataTable, element);\n",
              "          const docLink = document.createElement('div');\n",
              "          docLink.innerHTML = docLinkHtml;\n",
              "          element.appendChild(docLink);\n",
              "        }\n",
              "      </script>\n",
              "    </div>\n",
              "  </div>\n",
              "  "
            ]
          },
          "metadata": {},
          "execution_count": 31
        }
      ]
    },
    {
      "cell_type": "code",
      "source": [
        "corr_mat = data[['fare_amount', 'passenger_count', 'Distance', 'week_day', 'Year', 'Month', 'Hour']].corr()\n",
        "sns.heatmap(corr_mat, annot=True)"
      ],
      "metadata": {
        "colab": {
          "base_uri": "https://localhost:8080/",
          "height": 361
        },
        "id": "tkrm6jY1KYcu",
        "outputId": "8b36b7ab-b15a-457e-c125-16d920275863"
      },
      "execution_count": null,
      "outputs": [
        {
          "output_type": "execute_result",
          "data": {
            "text/plain": [
              "<matplotlib.axes._subplots.AxesSubplot at 0x7f8c739b9050>"
            ]
          },
          "metadata": {},
          "execution_count": 32
        },
        {
          "output_type": "display_data",
          "data": {
            "text/plain": [
              "<Figure size 432x288 with 2 Axes>"
            ],
            "image/png": "[encoded data removed]"
          },
          "metadata": {
            "needs_background": "light"
          }
        }
      ]
    },
    {
      "cell_type": "code",
      "source": [
        "label_encoder = LabelEncoder()\n",
        "\n",
        "data['week_day'] = label_encoder.fit_transform(data['week_day'])\n",
        "data.head()"
      ],
      "metadata": {
        "colab": {
          "base_uri": "https://localhost:8080/",
          "height": 206
        },
        "id": "_aUOqB65KljY",
        "outputId": "2ba4108a-4486-4bdf-c6ad-56fd17ddffe5"
      },
      "execution_count": null,
      "outputs": [
        {
          "output_type": "execute_result",
          "data": {
            "text/plain": [
              "          fare_amount  pickup_longitude  pickup_latitude  dropoff_longitude  \\\n",
              "24238194          7.5        -73.999817        40.738354         -73.999512   \n",
              "27835199          7.7        -73.994355        40.728225         -73.994710   \n",
              "44984355         12.9        -74.005043        40.740770         -73.962565   \n",
              "25894730          5.3        -73.976124        40.790844         -73.965316   \n",
              "17610152         16.0        -73.925023        40.744085         -73.973082   \n",
              "\n",
              "          dropoff_latitude  passenger_count  Distance  week_day  Year  Month  \\\n",
              "24238194         40.723217                1  1.683323         4  2015      5   \n",
              "27835199         40.750325                1  2.457590         0  2009      7   \n",
              "44984355         40.772647                1  5.036377         1  2009      8   \n",
              "25894730         40.803349                3  1.661683         0  2009      6   \n",
              "17610152         40.761247                5  4.475450         4  2014      8   \n",
              "\n",
              "          Hour  \n",
              "24238194    19  \n",
              "27835199    20  \n",
              "44984355    21  \n",
              "25894730     8  \n",
              "17610152    17  "
            ],
            "text/html": [
              "\n",
              "  <div id=\"df-6cc3b658-0cc9-479a-80fb-f530543d31c8\">\n",
              "    <div class=\"colab-df-container\">\n",
              "      <div>\n",
              "<style scoped>\n",
              "    .dataframe tbody tr th:only-of-type {\n",
              "        vertical-align: middle;\n",
              "    }\n",
              "\n",
              "    .dataframe tbody tr th {\n",
              "        vertical-align: top;\n",
              "    }\n",
              "\n",
              "    .dataframe thead th {\n",
              "        text-align: right;\n",
              "    }\n",
              "</style>\n",
              "<table border=\"1\" class=\"dataframe\">\n",
              "  <thead>\n",
              "    <tr style=\"text-align: right;\">\n",
              "      <th></th>\n",
              "      <th>fare_amount</th>\n",
              "      <th>pickup_longitude</th>\n",
              "      <th>pickup_latitude</th>\n",
              "      <th>dropoff_longitude</th>\n",
              "      <th>dropoff_latitude</th>\n",
              "      <th>passenger_count</th>\n",
              "      <th>Distance</th>\n",
              "      <th>week_day</th>\n",
              "      <th>Year</th>\n",
              "      <th>Month</th>\n",
              "      <th>Hour</th>\n",
              "    </tr>\n",
              "  </thead>\n",
              "  <tbody>\n",
              "    <tr>\n",
              "      <th>24238194</th>\n",
              "      <td>7.5</td>\n",
              "      <td>-73.999817</td>\n",
              "      <td>40.738354</td>\n",
              "      <td>-73.999512</td>\n",
              "      <td>40.723217</td>\n",
              "      <td>1</td>\n",
              "      <td>1.683323</td>\n",
              "      <td>4</td>\n",
              "      <td>2015</td>\n",
              "      <td>5</td>\n",
              "      <td>19</td>\n",
              "    </tr>\n",
              "    <tr>\n",
              "      <th>27835199</th>\n",
              "      <td>7.7</td>\n",
              "      <td>-73.994355</td>\n",
              "      <td>40.728225</td>\n",
              "      <td>-73.994710</td>\n",
              "      <td>40.750325</td>\n",
              "      <td>1</td>\n",
              "      <td>2.457590</td>\n",
              "      <td>0</td>\n",
              "      <td>2009</td>\n",
              "      <td>7</td>\n",
              "      <td>20</td>\n",
              "    </tr>\n",
              "    <tr>\n",
              "      <th>44984355</th>\n",
              "      <td>12.9</td>\n",
              "      <td>-74.005043</td>\n",
              "      <td>40.740770</td>\n",
              "      <td>-73.962565</td>\n",
              "      <td>40.772647</td>\n",
              "      <td>1</td>\n",
              "      <td>5.036377</td>\n",
              "      <td>1</td>\n",
              "      <td>2009</td>\n",
              "      <td>8</td>\n",
              "      <td>21</td>\n",
              "    </tr>\n",
              "    <tr>\n",
              "      <th>25894730</th>\n",
              "      <td>5.3</td>\n",
              "      <td>-73.976124</td>\n",
              "      <td>40.790844</td>\n",
              "      <td>-73.965316</td>\n",
              "      <td>40.803349</td>\n",
              "      <td>3</td>\n",
              "      <td>1.661683</td>\n",
              "      <td>0</td>\n",
              "      <td>2009</td>\n",
              "      <td>6</td>\n",
              "      <td>8</td>\n",
              "    </tr>\n",
              "    <tr>\n",
              "      <th>17610152</th>\n",
              "      <td>16.0</td>\n",
              "      <td>-73.925023</td>\n",
              "      <td>40.744085</td>\n",
              "      <td>-73.973082</td>\n",
              "      <td>40.761247</td>\n",
              "      <td>5</td>\n",
              "      <td>4.475450</td>\n",
              "      <td>4</td>\n",
              "      <td>2014</td>\n",
              "      <td>8</td>\n",
              "      <td>17</td>\n",
              "    </tr>\n",
              "  </tbody>\n",
              "</table>\n",
              "</div>\n",
              "      <button class=\"colab-df-convert\" onclick=\"convertToInteractive('df-6cc3b658-0cc9-479a-80fb-f530543d31c8')\"\n",
              "              title=\"Convert this dataframe to an interactive table.\"\n",
              "              style=\"display:none;\">\n",
              "        \n",
              "  <svg xmlns=\"http://www.w3.org/2000/svg\" height=\"24px\"viewBox=\"0 0 24 24\"\n",
              "       width=\"24px\">\n",
              "    <path d=\"M0 0h24v24H0V0z\" fill=\"none\"/>\n",
              "    <path d=\"M18.56 5.44l.94 2.06.94-2.06 2.06-.94-2.06-.94-.94-2.06-.94 2.06-2.06.94zm-11 1L8.5 8.5l.94-2.06 2.06-.94-2.06-.94L8.5 2.5l-.94 2.06-2.06.94zm10 10l.94 2.06.94-2.06 2.06-.94-2.06-.94-.94-2.06-.94 2.06-2.06.94z\"/><path d=\"M17.41 7.96l-1.37-1.37c-.4-.4-.92-.59-1.43-.59-.52 0-1.04.2-1.43.59L10.3 9.45l-7.72 7.72c-.78.78-.78 2.05 0 2.83L4 21.41c.39.39.9.59 1.41.59.51 0 1.02-.2 1.41-.59l7.78-7.78 2.81-2.81c.8-.78.8-2.07 0-2.86zM5.41 20L4 18.59l7.72-7.72 1.47 1.35L5.41 20z\"/>\n",
              "  </svg>\n",
              "      </button>\n",
              "      \n",
              "  <style>\n",
              "    .colab-df-container {\n",
              "      display:flex;\n",
              "      flex-wrap:wrap;\n",
              "      gap: 12px;\n",
              "    }\n",
              "\n",
              "    .colab-df-convert {\n",
              "      background-color: #E8F0FE;\n",
              "      border: none;\n",
              "      border-radius: 50%;\n",
              "      cursor: pointer;\n",
              "      display: none;\n",
              "      fill: #1967D2;\n",
              "      height: 32px;\n",
              "      padding: 0 0 0 0;\n",
              "      width: 32px;\n",
              "    }\n",
              "\n",
              "    .colab-df-convert:hover {\n",
              "      background-color: #E2EBFA;\n",
              "      box-shadow: 0px 1px 2px rgba(60, 64, 67, 0.3), 0px 1px 3px 1px rgba(60, 64, 67, 0.15);\n",
              "      fill: #174EA6;\n",
              "    }\n",
              "\n",
              "    [theme=dark] .colab-df-convert {\n",
              "      background-color: #3B4455;\n",
              "      fill: #D2E3FC;\n",
              "    }\n",
              "\n",
              "    [theme=dark] .colab-df-convert:hover {\n",
              "      background-color: #434B5C;\n",
              "      box-shadow: 0px 1px 3px 1px rgba(0, 0, 0, 0.15);\n",
              "      filter: drop-shadow(0px 1px 2px rgba(0, 0, 0, 0.3));\n",
              "      fill: #FFFFFF;\n",
              "    }\n",
              "  </style>\n",
              "\n",
              "      <script>\n",
              "        const buttonEl =\n",
              "          document.querySelector('#df-6cc3b658-0cc9-479a-80fb-f530543d31c8 button.colab-df-convert');\n",
              "        buttonEl.style.display =\n",
              "          google.colab.kernel.accessAllowed ? 'block' : 'none';\n",
              "\n",
              "        async function convertToInteractive(key) {\n",
              "          const element = document.querySelector('#df-6cc3b658-0cc9-479a-80fb-f530543d31c8');\n",
              "          const dataTable =\n",
              "            await google.colab.kernel.invokeFunction('convertToInteractive',\n",
              "                                                     [key], {});\n",
              "          if (!dataTable) return;\n",
              "\n",
              "          const docLinkHtml = 'Like what you see? Visit the ' +\n",
              "            '<a target=\"_blank\" href=https://colab.research.google.com/notebooks/data_table.ipynb>data table notebook</a>'\n",
              "            + ' to learn more about interactive tables.';\n",
              "          element.innerHTML = '';\n",
              "          dataTable['output_type'] = 'display_data';\n",
              "          await google.colab.output.renderOutput(dataTable, element);\n",
              "          const docLink = document.createElement('div');\n",
              "          docLink.innerHTML = docLinkHtml;\n",
              "          element.appendChild(docLink);\n",
              "        }\n",
              "      </script>\n",
              "    </div>\n",
              "  </div>\n",
              "  "
            ]
          },
          "metadata": {},
          "execution_count": 33
        }
      ]
    },
    {
      "cell_type": "code",
      "source": [
        "X = data.get(['Distance', 'week_day', 'Year', 'Month', 'Hour', 'passenger_count'])\n",
        "Y = data['fare_amount']"
      ],
      "metadata": {
        "id": "auYIy1kFLXbz"
      },
      "execution_count": null,
      "outputs": []
    },
    {
      "cell_type": "code",
      "source": [
        "X.shape, Y.shape"
      ],
      "metadata": {
        "colab": {
          "base_uri": "https://localhost:8080/"
        },
        "id": "2FYskEt_L9F0",
        "outputId": "47b5d7bb-b9b2-40f4-d831-b56714b9c99d"
      },
      "execution_count": null,
      "outputs": [
        {
          "output_type": "execute_result",
          "data": {
            "text/plain": [
              "((193124, 6), (193124,))"
            ]
          },
          "metadata": {},
          "execution_count": 35
        }
      ]
    },
    {
      "cell_type": "code",
      "source": [
        "X_train,X_test,y_train,y_test = train_test_split(X,Y,test_size=0.2)"
      ],
      "metadata": {
        "id": "XeibKK8QL9hN"
      },
      "execution_count": null,
      "outputs": []
    },
    {
      "cell_type": "code",
      "source": [
        "regr = LinearRegression()"
      ],
      "metadata": {
        "id": "OgMoAlxpMMTd"
      },
      "execution_count": null,
      "outputs": []
    },
    {
      "cell_type": "code",
      "source": [
        "regr.fit(X_train,y_train)"
      ],
      "metadata": {
        "colab": {
          "base_uri": "https://localhost:8080/"
        },
        "id": "ZiKrseMvMORU",
        "outputId": "226e63f6-cc4c-4b2c-b885-0d997bc40e69"
      },
      "execution_count": null,
      "outputs": [
        {
          "output_type": "execute_result",
          "data": {
            "text/plain": [
              "LinearRegression()"
            ]
          },
          "metadata": {},
          "execution_count": 38
        }
      ]
    },
    {
      "cell_type": "code",
      "source": [
        "regr.score(X_test, y_test)"
      ],
      "metadata": {
        "colab": {
          "base_uri": "https://localhost:8080/"
        },
        "id": "U3w-6Hr1MZXw",
        "outputId": "6cdc8771-f649-4fe7-fbff-9e7ef2dbcd0b"
      },
      "execution_count": null,
      "outputs": [
        {
          "output_type": "execute_result",
          "data": {
            "text/plain": [
              "0.7965253763639928"
            ]
          },
          "metadata": {},
          "execution_count": 39
        }
      ]
    },
    {
      "cell_type": "code",
      "source": [
        "y_pred_linreg = regr.predict(X_test)"
      ],
      "metadata": {
        "id": "HKOv5iO2rr3o"
      },
      "execution_count": null,
      "outputs": []
    },
    {
      "cell_type": "code",
      "source": [
        "r2 = r2_score(y_test, y_pred_linreg)\n",
        "mse = mean_squared_error(y_test, y_pred_linreg)\n",
        "mae = mean_absolute_error(y_test, y_pred_linreg)\n",
        "rmse = mse**(1/2)\n",
        "print(f'MSE : {mse}')\n",
        "print(f'RMSE : {rmse}')\n",
        "print(f'MAE : {mae}')\n",
        "print(f'R2 : {r2}')"
      ],
      "metadata": {
        "colab": {
          "base_uri": "https://localhost:8080/"
        },
        "id": "86yEyy3mrymW",
        "outputId": "1b2e5adf-dfc8-41fa-b896-4b471c3b827c"
      },
      "execution_count": null,
      "outputs": [
        {
          "output_type": "stream",
          "name": "stdout",
          "text": [
            "MSE : 18.09576387404102\n",
            "RMSE : 4.253911596876576\n",
            "MAE : 2.2364333910639957\n",
            "R2 : 0.7965253763639928\n"
          ]
        }
      ]
    },
    {
      "cell_type": "code",
      "source": [
        "random_forest_regressor = RandomForestRegressor()"
      ],
      "metadata": {
        "id": "xajYOucLp5pt"
      },
      "execution_count": null,
      "outputs": []
    },
    {
      "cell_type": "code",
      "source": [
        "random_forest_regressor.fit(X_train, y_train)"
      ],
      "metadata": {
        "colab": {
          "base_uri": "https://localhost:8080/"
        },
        "id": "OhBGC7mtp5Y2",
        "outputId": "2d872086-cb6c-4e1a-ab6e-3a964c1db17c"
      },
      "execution_count": null,
      "outputs": [
        {
          "output_type": "execute_result",
          "data": {
            "text/plain": [
              "RandomForestRegressor()"
            ]
          },
          "metadata": {},
          "execution_count": 47
        }
      ]
    },
    {
      "cell_type": "code",
      "source": [
        "random_forest_regressor.score(X_test, y_test)"
      ],
      "metadata": {
        "colab": {
          "base_uri": "https://localhost:8080/"
        },
        "id": "b00QYzAsrJvS",
        "outputId": "19ebfb40-bce5-4744-e6fe-51784f26aa8b"
      },
      "execution_count": null,
      "outputs": [
        {
          "output_type": "execute_result",
          "data": {
            "text/plain": [
              "0.8164046576450981"
            ]
          },
          "metadata": {},
          "execution_count": 48
        }
      ]
    },
    {
      "cell_type": "code",
      "source": [
        "y_pred_rfr = random_forest_regressor.predict(X_test)"
      ],
      "metadata": {
        "id": "SP41i9e1rJrO"
      },
      "execution_count": null,
      "outputs": []
    },
    {
      "cell_type": "code",
      "source": [
        "r2 = r2_score(y_test, y_pred_rfr)\n",
        "mse = mean_squared_error(y_test, y_pred_rfr)\n",
        "mae = mean_absolute_error(y_test, y_pred_rfr)\n",
        "rmse = mse**(1/2)\n",
        "print(f'MSE : {mse}')\n",
        "print(f'RMSE : {rmse}')\n",
        "print(f'MAE : {mae}')\n",
        "print(f'R2 : {r2}')"
      ],
      "metadata": {
        "colab": {
          "base_uri": "https://localhost:8080/"
        },
        "id": "VitXnX1zrJnw",
        "outputId": "ce5a0115-bdff-489f-9c85-96c09815edc9"
      },
      "execution_count": null,
      "outputs": [
        {
          "output_type": "stream",
          "name": "stdout",
          "text": [
            "MSE : 16.327824591882457\n",
            "RMSE : 4.040770296847182\n",
            "MAE : 2.147381442071197\n",
            "R2 : 0.8164046576450981\n"
          ]
        }
      ]
    },
    {
      "cell_type": "markdown",
      "source": [
        "# Assignment 2 : Email Classification"
      ],
      "metadata": {
        "id": "TOK_0Q3QMjt9"
      }
    },
    {
      "cell_type": "code",
      "source": [
        "from sklearn.svm import SVC\n",
        "from sklearn.neighbors import KNeighborsClassifier\n",
        "import pandas as pd\n",
        "import numpy as np\n",
        "from sklearn.model_selection import train_test_split\n",
        "from sklearn.metrics import f1_score, precision_score, recall_score, confusion_matrix\n",
        "import seaborn as sns\n",
        "from sklearn.preprocessing import LabelEncoder"
      ],
      "metadata": {
        "id": "GkbVk9n-O0wv"
      },
      "execution_count": null,
      "outputs": []
    },
    {
      "cell_type": "code",
      "source": [
        "! kaggle datasets download -d balaka18/email-spam-classification-dataset-csv -p /content/"
      ],
      "metadata": {
        "colab": {
          "base_uri": "https://localhost:8080/"
        },
        "id": "YmdaEBbLMdAo",
        "outputId": "408e46c2-33b2-4c91-875a-60e2f442bedc"
      },
      "execution_count": null,
      "outputs": [
        {
          "output_type": "stream",
          "name": "stdout",
          "text": [
            "Downloading email-spam-classification-dataset-csv.zip to /content\n",
            "\r  0% 0.00/1.66M [00:00<?, ?B/s]\n",
            "\r100% 1.66M/1.66M [00:00<00:00, 159MB/s]\n"
          ]
        }
      ]
    },
    {
      "cell_type": "code",
      "source": [
        "! ls"
      ],
      "metadata": {
        "colab": {
          "base_uri": "https://localhost:8080/"
        },
        "id": "90L4FpMFM2M8",
        "outputId": "593960ad-b43d-4124-ae06-e6fcc002ef51"
      },
      "execution_count": null,
      "outputs": [
        {
          "output_type": "stream",
          "name": "stdout",
          "text": [
            "email-spam-classification-dataset-csv.zip  kaggle.json\tsample_data  uber.csv\n"
          ]
        }
      ]
    },
    {
      "cell_type": "code",
      "source": [
        "! unzip email-spam-classification-dataset-csv.zip"
      ],
      "metadata": {
        "colab": {
          "base_uri": "https://localhost:8080/"
        },
        "id": "LyfLQ2FYM4yP",
        "outputId": "214dee8b-832e-4929-95f9-6bea407c67e5"
      },
      "execution_count": null,
      "outputs": [
        {
          "output_type": "stream",
          "name": "stdout",
          "text": [
            "Archive:  email-spam-classification-dataset-csv.zip\n",
            "  inflating: emails.csv              \n"
          ]
        }
      ]
    },
    {
      "cell_type": "code",
      "source": [
        "data = pd.read_csv('emails.csv')"
      ],
      "metadata": {
        "id": "rf4XoCt9M9cd"
      },
      "execution_count": null,
      "outputs": []
    },
    {
      "cell_type": "code",
      "source": [
        "data.head()"
      ],
      "metadata": {
        "colab": {
          "base_uri": "https://localhost:8080/",
          "height": 236
        },
        "id": "kNYPV84HNDFW",
        "outputId": "1de955f4-56fa-4c83-870e-f94f4c66366f"
      },
      "execution_count": null,
      "outputs": [
        {
          "output_type": "execute_result",
          "data": {
            "text/plain": [
              "  Email No.  the  to  ect  and  for  of    a  you  hou  ...  connevey  jay  \\\n",
              "0   Email 1    0   0    1    0    0   0    2    0    0  ...         0    0   \n",
              "1   Email 2    8  13   24    6    6   2  102    1   27  ...         0    0   \n",
              "2   Email 3    0   0    1    0    0   0    8    0    0  ...         0    0   \n",
              "3   Email 4    0   5   22    0    5   1   51    2   10  ...         0    0   \n",
              "4   Email 5    7   6   17    1    5   2   57    0    9  ...         0    0   \n",
              "\n",
              "   valued  lay  infrastructure  military  allowing  ff  dry  Prediction  \n",
              "0       0    0               0         0         0   0    0           0  \n",
              "1       0    0               0         0         0   1    0           0  \n",
              "2       0    0               0         0         0   0    0           0  \n",
              "3       0    0               0         0         0   0    0           0  \n",
              "4       0    0               0         0         0   1    0           0  \n",
              "\n",
              "[5 rows x 3002 columns]"
            ],
            "text/html": [
              "\n",
              "  <div id=\"df-213020c6-ba46-46a4-b39b-3157213c1925\">\n",
              "    <div class=\"colab-df-container\">\n",
              "      <div>\n",
              "<style scoped>\n",
              "    .dataframe tbody tr th:only-of-type {\n",
              "        vertical-align: middle;\n",
              "    }\n",
              "\n",
              "    .dataframe tbody tr th {\n",
              "        vertical-align: top;\n",
              "    }\n",
              "\n",
              "    .dataframe thead th {\n",
              "        text-align: right;\n",
              "    }\n",
              "</style>\n",
              "<table border=\"1\" class=\"dataframe\">\n",
              "  <thead>\n",
              "    <tr style=\"text-align: right;\">\n",
              "      <th></th>\n",
              "      <th>Email No.</th>\n",
              "      <th>the</th>\n",
              "      <th>to</th>\n",
              "      <th>ect</th>\n",
              "      <th>and</th>\n",
              "      <th>for</th>\n",
              "      <th>of</th>\n",
              "      <th>a</th>\n",
              "      <th>you</th>\n",
              "      <th>hou</th>\n",
              "      <th>...</th>\n",
              "      <th>connevey</th>\n",
              "      <th>jay</th>\n",
              "      <th>valued</th>\n",
              "      <th>lay</th>\n",
              "      <th>infrastructure</th>\n",
              "      <th>military</th>\n",
              "      <th>allowing</th>\n",
              "      <th>ff</th>\n",
              "      <th>dry</th>\n",
              "      <th>Prediction</th>\n",
              "    </tr>\n",
              "  </thead>\n",
              "  <tbody>\n",
              "    <tr>\n",
              "      <th>0</th>\n",
              "      <td>Email 1</td>\n",
              "      <td>0</td>\n",
              "      <td>0</td>\n",
              "      <td>1</td>\n",
              "      <td>0</td>\n",
              "      <td>0</td>\n",
              "      <td>0</td>\n",
              "      <td>2</td>\n",
              "      <td>0</td>\n",
              "      <td>0</td>\n",
              "      <td>...</td>\n",
              "      <td>0</td>\n",
              "      <td>0</td>\n",
              "      <td>0</td>\n",
              "      <td>0</td>\n",
              "      <td>0</td>\n",
              "      <td>0</td>\n",
              "      <td>0</td>\n",
              "      <td>0</td>\n",
              "      <td>0</td>\n",
              "      <td>0</td>\n",
              "    </tr>\n",
              "    <tr>\n",
              "      <th>1</th>\n",
              "      <td>Email 2</td>\n",
              "      <td>8</td>\n",
              "      <td>13</td>\n",
              "      <td>24</td>\n",
              "      <td>6</td>\n",
              "      <td>6</td>\n",
              "      <td>2</td>\n",
              "      <td>102</td>\n",
              "      <td>1</td>\n",
              "      <td>27</td>\n",
              "      <td>...</td>\n",
              "      <td>0</td>\n",
              "      <td>0</td>\n",
              "      <td>0</td>\n",
              "      <td>0</td>\n",
              "      <td>0</td>\n",
              "      <td>0</td>\n",
              "      <td>0</td>\n",
              "      <td>1</td>\n",
              "      <td>0</td>\n",
              "      <td>0</td>\n",
              "    </tr>\n",
              "    <tr>\n",
              "      <th>2</th>\n",
              "      <td>Email 3</td>\n",
              "      <td>0</td>\n",
              "      <td>0</td>\n",
              "      <td>1</td>\n",
              "      <td>0</td>\n",
              "      <td>0</td>\n",
              "      <td>0</td>\n",
              "      <td>8</td>\n",
              "      <td>0</td>\n",
              "      <td>0</td>\n",
              "      <td>...</td>\n",
              "      <td>0</td>\n",
              "      <td>0</td>\n",
              "      <td>0</td>\n",
              "      <td>0</td>\n",
              "      <td>0</td>\n",
              "      <td>0</td>\n",
              "      <td>0</td>\n",
              "      <td>0</td>\n",
              "      <td>0</td>\n",
              "      <td>0</td>\n",
              "    </tr>\n",
              "    <tr>\n",
              "      <th>3</th>\n",
              "      <td>Email 4</td>\n",
              "      <td>0</td>\n",
              "      <td>5</td>\n",
              "      <td>22</td>\n",
              "      <td>0</td>\n",
              "      <td>5</td>\n",
              "      <td>1</td>\n",
              "      <td>51</td>\n",
              "      <td>2</td>\n",
              "      <td>10</td>\n",
              "      <td>...</td>\n",
              "      <td>0</td>\n",
              "      <td>0</td>\n",
              "      <td>0</td>\n",
              "      <td>0</td>\n",
              "      <td>0</td>\n",
              "      <td>0</td>\n",
              "      <td>0</td>\n",
              "      <td>0</td>\n",
              "      <td>0</td>\n",
              "      <td>0</td>\n",
              "    </tr>\n",
              "    <tr>\n",
              "      <th>4</th>\n",
              "      <td>Email 5</td>\n",
              "      <td>7</td>\n",
              "      <td>6</td>\n",
              "      <td>17</td>\n",
              "      <td>1</td>\n",
              "      <td>5</td>\n",
              "      <td>2</td>\n",
              "      <td>57</td>\n",
              "      <td>0</td>\n",
              "      <td>9</td>\n",
              "      <td>...</td>\n",
              "      <td>0</td>\n",
              "      <td>0</td>\n",
              "      <td>0</td>\n",
              "      <td>0</td>\n",
              "      <td>0</td>\n",
              "      <td>0</td>\n",
              "      <td>0</td>\n",
              "      <td>1</td>\n",
              "      <td>0</td>\n",
              "      <td>0</td>\n",
              "    </tr>\n",
              "  </tbody>\n",
              "</table>\n",
              "<p>5 rows × 3002 columns</p>\n",
              "</div>\n",
              "      <button class=\"colab-df-convert\" onclick=\"convertToInteractive('df-213020c6-ba46-46a4-b39b-3157213c1925')\"\n",
              "              title=\"Convert this dataframe to an interactive table.\"\n",
              "              style=\"display:none;\">\n",
              "        \n",
              "  <svg xmlns=\"http://www.w3.org/2000/svg\" height=\"24px\"viewBox=\"0 0 24 24\"\n",
              "       width=\"24px\">\n",
              "    <path d=\"M0 0h24v24H0V0z\" fill=\"none\"/>\n",
              "    <path d=\"M18.56 5.44l.94 2.06.94-2.06 2.06-.94-2.06-.94-.94-2.06-.94 2.06-2.06.94zm-11 1L8.5 8.5l.94-2.06 2.06-.94-2.06-.94L8.5 2.5l-.94 2.06-2.06.94zm10 10l.94 2.06.94-2.06 2.06-.94-2.06-.94-.94-2.06-.94 2.06-2.06.94z\"/><path d=\"M17.41 7.96l-1.37-1.37c-.4-.4-.92-.59-1.43-.59-.52 0-1.04.2-1.43.59L10.3 9.45l-7.72 7.72c-.78.78-.78 2.05 0 2.83L4 21.41c.39.39.9.59 1.41.59.51 0 1.02-.2 1.41-.59l7.78-7.78 2.81-2.81c.8-.78.8-2.07 0-2.86zM5.41 20L4 18.59l7.72-7.72 1.47 1.35L5.41 20z\"/>\n",
              "  </svg>\n",
              "      </button>\n",
              "      \n",
              "  <style>\n",
              "    .colab-df-container {\n",
              "      display:flex;\n",
              "      flex-wrap:wrap;\n",
              "      gap: 12px;\n",
              "    }\n",
              "\n",
              "    .colab-df-convert {\n",
              "      background-color: #E8F0FE;\n",
              "      border: none;\n",
              "      border-radius: 50%;\n",
              "      cursor: pointer;\n",
              "      display: none;\n",
              "      fill: #1967D2;\n",
              "      height: 32px;\n",
              "      padding: 0 0 0 0;\n",
              "      width: 32px;\n",
              "    }\n",
              "\n",
              "    .colab-df-convert:hover {\n",
              "      background-color: #E2EBFA;\n",
              "      box-shadow: 0px 1px 2px rgba(60, 64, 67, 0.3), 0px 1px 3px 1px rgba(60, 64, 67, 0.15);\n",
              "      fill: #174EA6;\n",
              "    }\n",
              "\n",
              "    [theme=dark] .colab-df-convert {\n",
              "      background-color: #3B4455;\n",
              "      fill: #D2E3FC;\n",
              "    }\n",
              "\n",
              "    [theme=dark] .colab-df-convert:hover {\n",
              "      background-color: #434B5C;\n",
              "      box-shadow: 0px 1px 3px 1px rgba(0, 0, 0, 0.15);\n",
              "      filter: drop-shadow(0px 1px 2px rgba(0, 0, 0, 0.3));\n",
              "      fill: #FFFFFF;\n",
              "    }\n",
              "  </style>\n",
              "\n",
              "      <script>\n",
              "        const buttonEl =\n",
              "          document.querySelector('#df-213020c6-ba46-46a4-b39b-3157213c1925 button.colab-df-convert');\n",
              "        buttonEl.style.display =\n",
              "          google.colab.kernel.accessAllowed ? 'block' : 'none';\n",
              "\n",
              "        async function convertToInteractive(key) {\n",
              "          const element = document.querySelector('#df-213020c6-ba46-46a4-b39b-3157213c1925');\n",
              "          const dataTable =\n",
              "            await google.colab.kernel.invokeFunction('convertToInteractive',\n",
              "                                                     [key], {});\n",
              "          if (!dataTable) return;\n",
              "\n",
              "          const docLinkHtml = 'Like what you see? Visit the ' +\n",
              "            '<a target=\"_blank\" href=https://colab.research.google.com/notebooks/data_table.ipynb>data table notebook</a>'\n",
              "            + ' to learn more about interactive tables.';\n",
              "          element.innerHTML = '';\n",
              "          dataTable['output_type'] = 'display_data';\n",
              "          await google.colab.output.renderOutput(dataTable, element);\n",
              "          const docLink = document.createElement('div');\n",
              "          docLink.innerHTML = docLinkHtml;\n",
              "          element.appendChild(docLink);\n",
              "        }\n",
              "      </script>\n",
              "    </div>\n",
              "  </div>\n",
              "  "
            ]
          },
          "metadata": {},
          "execution_count": 75
        }
      ]
    },
    {
      "cell_type": "code",
      "source": [
        "data.info()"
      ],
      "metadata": {
        "colab": {
          "base_uri": "https://localhost:8080/"
        },
        "id": "uso1kkAvNPxK",
        "outputId": "f519d42e-37d3-4252-9968-e3497c21f44a"
      },
      "execution_count": null,
      "outputs": [
        {
          "output_type": "stream",
          "name": "stdout",
          "text": [
            "<class 'pandas.core.frame.DataFrame'>\n",
            "RangeIndex: 5172 entries, 0 to 5171\n",
            "Columns: 3002 entries, Email No. to Prediction\n",
            "dtypes: int64(3001), object(1)\n",
            "memory usage: 118.5+ MB\n"
          ]
        }
      ]
    },
    {
      "cell_type": "code",
      "source": [
        "X = data.iloc[:, 1:3001].values\n",
        "Y = data['Prediction']"
      ],
      "metadata": {
        "id": "VIl2tbnYNQhv"
      },
      "execution_count": null,
      "outputs": []
    },
    {
      "cell_type": "code",
      "source": [
        "X.shape, Y.shape"
      ],
      "metadata": {
        "colab": {
          "base_uri": "https://localhost:8080/"
        },
        "id": "tNJKsf3aONc9",
        "outputId": "03447611-5141-477e-a5ed-e2dc386408a7"
      },
      "execution_count": null,
      "outputs": [
        {
          "output_type": "execute_result",
          "data": {
            "text/plain": [
              "((5172, 3000), (5172,))"
            ]
          },
          "metadata": {},
          "execution_count": 78
        }
      ]
    },
    {
      "cell_type": "code",
      "source": [
        "X_train, X_test, y_train, y_test = train_test_split(X, Y, test_size=0.15)"
      ],
      "metadata": {
        "id": "QehZYzzjOefv"
      },
      "execution_count": null,
      "outputs": []
    },
    {
      "cell_type": "code",
      "source": [
        "svc = SVC()"
      ],
      "metadata": {
        "id": "PuDWxuNsOlCP"
      },
      "execution_count": null,
      "outputs": []
    },
    {
      "cell_type": "code",
      "source": [
        "svc.fit(X_train, y_train)"
      ],
      "metadata": {
        "colab": {
          "base_uri": "https://localhost:8080/"
        },
        "id": "iRXSMJg4PBrX",
        "outputId": "05fd5341-df98-48c9-e042-985453132235"
      },
      "execution_count": null,
      "outputs": [
        {
          "output_type": "execute_result",
          "data": {
            "text/plain": [
              "SVC()"
            ]
          },
          "metadata": {},
          "execution_count": 81
        }
      ]
    },
    {
      "cell_type": "code",
      "source": [
        "svc.score(X_test, y_test)"
      ],
      "metadata": {
        "colab": {
          "base_uri": "https://localhost:8080/"
        },
        "id": "xYXgqEGOPJ2i",
        "outputId": "463a31e6-8d91-497f-a1ee-8da3ab20a44f"
      },
      "execution_count": null,
      "outputs": [
        {
          "output_type": "execute_result",
          "data": {
            "text/plain": [
              "0.8208762886597938"
            ]
          },
          "metadata": {},
          "execution_count": 82
        }
      ]
    },
    {
      "cell_type": "code",
      "source": [
        "y_pred_svc = svc.predict(X_test)\n",
        "\n",
        "precision = precision_score(y_test, y_pred_svc)\n",
        "recall = recall_score(y_test, y_pred_svc)\n",
        "f1 = f1_score(y_test, y_pred_svc)\n",
        "\n",
        "confusion_mat = confusion_matrix(y_test, y_pred_svc)\n",
        "print(f'Precision : {precision}\\nRecall : {recall}\\nF1 Score : {f1}')"
      ],
      "metadata": {
        "colab": {
          "base_uri": "https://localhost:8080/"
        },
        "id": "-oxjx3pnwSJb",
        "outputId": "04cb7eb8-0011-451e-f2a2-eafe5d5f9f93"
      },
      "execution_count": null,
      "outputs": [
        {
          "output_type": "stream",
          "name": "stdout",
          "text": [
            "Precision : 0.8155339805825242\n",
            "Recall : 0.4117647058823529\n",
            "F1 Score : 0.5472312703583061\n"
          ]
        }
      ]
    },
    {
      "cell_type": "code",
      "source": [
        "sns.heatmap(confusion_mat, annot=True)\n",
        "print(confusion_mat)"
      ],
      "metadata": {
        "colab": {
          "base_uri": "https://localhost:8080/",
          "height": 300
        },
        "id": "mkt0RPXKxRjh",
        "outputId": "7d51f683-6e84-4fcd-d1d0-6302f2b7f211"
      },
      "execution_count": null,
      "outputs": [
        {
          "output_type": "stream",
          "name": "stdout",
          "text": [
            "[[553  19]\n",
            " [120  84]]\n"
          ]
        },
        {
          "output_type": "display_data",
          "data": {
            "text/plain": [
              "<Figure size 432x288 with 2 Axes>"
            ],
            "image/png": "[encoded data removed]"
          },
          "metadata": {
            "needs_background": "light"
          }
        }
      ]
    },
    {
      "cell_type": "code",
      "source": [
        "knn_classifier = KNeighborsClassifier(n_neighbors=5)\n",
        "\n",
        "knn_classifier.fit(X_train, y_train)"
      ],
      "metadata": {
        "colab": {
          "base_uri": "https://localhost:8080/"
        },
        "id": "xEp29-3LPMz3",
        "outputId": "24f0da2f-2611-468e-f61b-1711d60a501c"
      },
      "execution_count": null,
      "outputs": [
        {
          "output_type": "execute_result",
          "data": {
            "text/plain": [
              "KNeighborsClassifier()"
            ]
          },
          "metadata": {},
          "execution_count": 88
        }
      ]
    },
    {
      "cell_type": "code",
      "source": [
        "knn_classifier.score(X_test, y_test)"
      ],
      "metadata": {
        "colab": {
          "base_uri": "https://localhost:8080/"
        },
        "id": "QCquNnvCPi-A",
        "outputId": "ce629468-dadc-4f5c-d878-995a786d2b77"
      },
      "execution_count": null,
      "outputs": [
        {
          "output_type": "execute_result",
          "data": {
            "text/plain": [
              "0.8685567010309279"
            ]
          },
          "metadata": {},
          "execution_count": 89
        }
      ]
    },
    {
      "cell_type": "code",
      "source": [
        "y_pred_knn = knn_classifier.predict(X_test)\n",
        "\n",
        "precision = precision_score(y_test, y_pred_knn)\n",
        "recall = recall_score(y_test, y_pred_knn)\n",
        "f1 = f1_score(y_test, y_pred_knn)\n",
        "\n",
        "confusion_mat_knn = confusion_matrix(y_test, y_pred_knn)\n",
        "print(f'Precision : {precision}\\nRecall : {recall}\\nF1 Score : {f1}')"
      ],
      "metadata": {
        "colab": {
          "base_uri": "https://localhost:8080/"
        },
        "id": "SUjWKv-jxryd",
        "outputId": "efc69d2a-3ecf-449e-bebf-1a4db496016e"
      },
      "execution_count": null,
      "outputs": [
        {
          "output_type": "stream",
          "name": "stdout",
          "text": [
            "Precision : 0.7007874015748031\n",
            "Recall : 0.8725490196078431\n",
            "F1 Score : 0.777292576419214\n"
          ]
        }
      ]
    },
    {
      "cell_type": "code",
      "source": [
        "sns.heatmap(confusion_mat_knn, annot=True)\n",
        "print(confusion_mat_knn)"
      ],
      "metadata": {
        "colab": {
          "base_uri": "https://localhost:8080/",
          "height": 300
        },
        "id": "I96ihRb_xyq5",
        "outputId": "a0d4d30c-ead6-44de-af0b-401115457b40"
      },
      "execution_count": null,
      "outputs": [
        {
          "output_type": "stream",
          "name": "stdout",
          "text": [
            "[[496  76]\n",
            " [ 26 178]]\n"
          ]
        },
        {
          "output_type": "display_data",
          "data": {
            "text/plain": [
              "<Figure size 432x288 with 2 Axes>"
            ],
            "image/png": "[encoded data removed]"
          },
          "metadata": {
            "needs_background": "light"
          }
        }
      ]
    },
    {
      "cell_type": "markdown",
      "source": [
        "# Assignment 3 : Bank Customer Retention Probability"
      ],
      "metadata": {
        "id": "thQ3gdvIP5Ez"
      }
    },
    {
      "cell_type": "code",
      "source": [
        "! kaggle datasets download -d barelydedicated/bank-customer-churn-modeling -p /content/"
      ],
      "metadata": {
        "colab": {
          "base_uri": "https://localhost:8080/"
        },
        "id": "0rjKGNtsPlUJ",
        "outputId": "9667907b-2213-480f-bbe1-752d4bd9bb4e"
      },
      "execution_count": null,
      "outputs": [
        {
          "output_type": "stream",
          "name": "stdout",
          "text": [
            "Downloading bank-customer-churn-modeling.zip to /content\n",
            "\r  0% 0.00/262k [00:00<?, ?B/s]\n",
            "\r100% 262k/262k [00:00<00:00, 83.2MB/s]\n"
          ]
        }
      ]
    },
    {
      "cell_type": "code",
      "source": [
        "! ls"
      ],
      "metadata": {
        "colab": {
          "base_uri": "https://localhost:8080/"
        },
        "id": "qyFoX-UzQXOH",
        "outputId": "bcf57551-be59-41e5-b77e-5f24df3f8ebf"
      },
      "execution_count": null,
      "outputs": [
        {
          "output_type": "stream",
          "name": "stdout",
          "text": [
            "bank-customer-churn-modeling.zip\t   kaggle.json\n",
            "emails.csv\t\t\t\t   sample_data\n",
            "email-spam-classification-dataset-csv.zip  uber.csv\n"
          ]
        }
      ]
    },
    {
      "cell_type": "code",
      "source": [
        "! unzip bank-customer-churn-modeling.zip"
      ],
      "metadata": {
        "colab": {
          "base_uri": "https://localhost:8080/"
        },
        "id": "LC34lsflQbbd",
        "outputId": "ae618820-b15a-4917-ed0c-c0bde039df14"
      },
      "execution_count": null,
      "outputs": [
        {
          "output_type": "stream",
          "name": "stdout",
          "text": [
            "Archive:  bank-customer-churn-modeling.zip\n",
            "  inflating: Churn_Modelling.csv     \n"
          ]
        }
      ]
    },
    {
      "cell_type": "code",
      "source": [
        "import pandas as pd\n",
        "import numpy as np\n",
        "from sklearn.model_selection import train_test_split\n",
        "from sklearn.metrics import mean_squared_error\n",
        "import seaborn as sns\n",
        "from sklearn.preprocessing import LabelEncoder\n",
        "import tensorflow as tf\n",
        "from sklearn.preprocessing import StandardScaler"
      ],
      "metadata": {
        "id": "6YHfAlI4VtI3"
      },
      "execution_count": null,
      "outputs": []
    },
    {
      "cell_type": "code",
      "source": [
        "data = pd.read_csv('Churn_Modelling.csv')"
      ],
      "metadata": {
        "id": "9P6r7Ba5QkKR"
      },
      "execution_count": null,
      "outputs": []
    },
    {
      "cell_type": "code",
      "source": [
        "data.head()"
      ],
      "metadata": {
        "colab": {
          "base_uri": "https://localhost:8080/",
          "height": 206
        },
        "id": "a0ac9suxRKBU",
        "outputId": "933d2701-0e85-4516-f3fe-7cb85185f087"
      },
      "execution_count": null,
      "outputs": [
        {
          "output_type": "execute_result",
          "data": {
            "text/plain": [
              "   RowNumber  CustomerId   Surname  CreditScore Geography  Gender  Age  \\\n",
              "0          1    15634602  Hargrave          619    France  Female   42   \n",
              "1          2    15647311      Hill          608     Spain  Female   41   \n",
              "2          3    15619304      Onio          502    France  Female   42   \n",
              "3          4    15701354      Boni          699    France  Female   39   \n",
              "4          5    15737888  Mitchell          850     Spain  Female   43   \n",
              "\n",
              "   Tenure    Balance  NumOfProducts  HasCrCard  IsActiveMember  \\\n",
              "0       2       0.00              1          1               1   \n",
              "1       1   83807.86              1          0               1   \n",
              "2       8  159660.80              3          1               0   \n",
              "3       1       0.00              2          0               0   \n",
              "4       2  125510.82              1          1               1   \n",
              "\n",
              "   EstimatedSalary  Exited  \n",
              "0        101348.88       1  \n",
              "1        112542.58       0  \n",
              "2        113931.57       1  \n",
              "3         93826.63       0  \n",
              "4         79084.10       0  "
            ],
            "text/html": [
              "\n",
              "  <div id=\"df-a056f7d2-e3ee-484a-8cee-896007c594e8\">\n",
              "    <div class=\"colab-df-container\">\n",
              "      <div>\n",
              "<style scoped>\n",
              "    .dataframe tbody tr th:only-of-type {\n",
              "        vertical-align: middle;\n",
              "    }\n",
              "\n",
              "    .dataframe tbody tr th {\n",
              "        vertical-align: top;\n",
              "    }\n",
              "\n",
              "    .dataframe thead th {\n",
              "        text-align: right;\n",
              "    }\n",
              "</style>\n",
              "<table border=\"1\" class=\"dataframe\">\n",
              "  <thead>\n",
              "    <tr style=\"text-align: right;\">\n",
              "      <th></th>\n",
              "      <th>RowNumber</th>\n",
              "      <th>CustomerId</th>\n",
              "      <th>Surname</th>\n",
              "      <th>CreditScore</th>\n",
              "      <th>Geography</th>\n",
              "      <th>Gender</th>\n",
              "      <th>Age</th>\n",
              "      <th>Tenure</th>\n",
              "      <th>Balance</th>\n",
              "      <th>NumOfProducts</th>\n",
              "      <th>HasCrCard</th>\n",
              "      <th>IsActiveMember</th>\n",
              "      <th>EstimatedSalary</th>\n",
              "      <th>Exited</th>\n",
              "    </tr>\n",
              "  </thead>\n",
              "  <tbody>\n",
              "    <tr>\n",
              "      <th>0</th>\n",
              "      <td>1</td>\n",
              "      <td>15634602</td>\n",
              "      <td>Hargrave</td>\n",
              "      <td>619</td>\n",
              "      <td>France</td>\n",
              "      <td>Female</td>\n",
              "      <td>42</td>\n",
              "      <td>2</td>\n",
              "      <td>0.00</td>\n",
              "      <td>1</td>\n",
              "      <td>1</td>\n",
              "      <td>1</td>\n",
              "      <td>101348.88</td>\n",
              "      <td>1</td>\n",
              "    </tr>\n",
              "    <tr>\n",
              "      <th>1</th>\n",
              "      <td>2</td>\n",
              "      <td>15647311</td>\n",
              "      <td>Hill</td>\n",
              "      <td>608</td>\n",
              "      <td>Spain</td>\n",
              "      <td>Female</td>\n",
              "      <td>41</td>\n",
              "      <td>1</td>\n",
              "      <td>83807.86</td>\n",
              "      <td>1</td>\n",
              "      <td>0</td>\n",
              "      <td>1</td>\n",
              "      <td>112542.58</td>\n",
              "      <td>0</td>\n",
              "    </tr>\n",
              "    <tr>\n",
              "      <th>2</th>\n",
              "      <td>3</td>\n",
              "      <td>15619304</td>\n",
              "      <td>Onio</td>\n",
              "      <td>502</td>\n",
              "      <td>France</td>\n",
              "      <td>Female</td>\n",
              "      <td>42</td>\n",
              "      <td>8</td>\n",
              "      <td>159660.80</td>\n",
              "      <td>3</td>\n",
              "      <td>1</td>\n",
              "      <td>0</td>\n",
              "      <td>113931.57</td>\n",
              "      <td>1</td>\n",
              "    </tr>\n",
              "    <tr>\n",
              "      <th>3</th>\n",
              "      <td>4</td>\n",
              "      <td>15701354</td>\n",
              "      <td>Boni</td>\n",
              "      <td>699</td>\n",
              "      <td>France</td>\n",
              "      <td>Female</td>\n",
              "      <td>39</td>\n",
              "      <td>1</td>\n",
              "      <td>0.00</td>\n",
              "      <td>2</td>\n",
              "      <td>0</td>\n",
              "      <td>0</td>\n",
              "      <td>93826.63</td>\n",
              "      <td>0</td>\n",
              "    </tr>\n",
              "    <tr>\n",
              "      <th>4</th>\n",
              "      <td>5</td>\n",
              "      <td>15737888</td>\n",
              "      <td>Mitchell</td>\n",
              "      <td>850</td>\n",
              "      <td>Spain</td>\n",
              "      <td>Female</td>\n",
              "      <td>43</td>\n",
              "      <td>2</td>\n",
              "      <td>125510.82</td>\n",
              "      <td>1</td>\n",
              "      <td>1</td>\n",
              "      <td>1</td>\n",
              "      <td>79084.10</td>\n",
              "      <td>0</td>\n",
              "    </tr>\n",
              "  </tbody>\n",
              "</table>\n",
              "</div>\n",
              "      <button class=\"colab-df-convert\" onclick=\"convertToInteractive('df-a056f7d2-e3ee-484a-8cee-896007c594e8')\"\n",
              "              title=\"Convert this dataframe to an interactive table.\"\n",
              "              style=\"display:none;\">\n",
              "        \n",
              "  <svg xmlns=\"http://www.w3.org/2000/svg\" height=\"24px\"viewBox=\"0 0 24 24\"\n",
              "       width=\"24px\">\n",
              "    <path d=\"M0 0h24v24H0V0z\" fill=\"none\"/>\n",
              "    <path d=\"M18.56 5.44l.94 2.06.94-2.06 2.06-.94-2.06-.94-.94-2.06-.94 2.06-2.06.94zm-11 1L8.5 8.5l.94-2.06 2.06-.94-2.06-.94L8.5 2.5l-.94 2.06-2.06.94zm10 10l.94 2.06.94-2.06 2.06-.94-2.06-.94-.94-2.06-.94 2.06-2.06.94z\"/><path d=\"M17.41 7.96l-1.37-1.37c-.4-.4-.92-.59-1.43-.59-.52 0-1.04.2-1.43.59L10.3 9.45l-7.72 7.72c-.78.78-.78 2.05 0 2.83L4 21.41c.39.39.9.59 1.41.59.51 0 1.02-.2 1.41-.59l7.78-7.78 2.81-2.81c.8-.78.8-2.07 0-2.86zM5.41 20L4 18.59l7.72-7.72 1.47 1.35L5.41 20z\"/>\n",
              "  </svg>\n",
              "      </button>\n",
              "      \n",
              "  <style>\n",
              "    .colab-df-container {\n",
              "      display:flex;\n",
              "      flex-wrap:wrap;\n",
              "      gap: 12px;\n",
              "    }\n",
              "\n",
              "    .colab-df-convert {\n",
              "      background-color: #E8F0FE;\n",
              "      border: none;\n",
              "      border-radius: 50%;\n",
              "      cursor: pointer;\n",
              "      display: none;\n",
              "      fill: #1967D2;\n",
              "      height: 32px;\n",
              "      padding: 0 0 0 0;\n",
              "      width: 32px;\n",
              "    }\n",
              "\n",
              "    .colab-df-convert:hover {\n",
              "      background-color: #E2EBFA;\n",
              "      box-shadow: 0px 1px 2px rgba(60, 64, 67, 0.3), 0px 1px 3px 1px rgba(60, 64, 67, 0.15);\n",
              "      fill: #174EA6;\n",
              "    }\n",
              "\n",
              "    [theme=dark] .colab-df-convert {\n",
              "      background-color: #3B4455;\n",
              "      fill: #D2E3FC;\n",
              "    }\n",
              "\n",
              "    [theme=dark] .colab-df-convert:hover {\n",
              "      background-color: #434B5C;\n",
              "      box-shadow: 0px 1px 3px 1px rgba(0, 0, 0, 0.15);\n",
              "      filter: drop-shadow(0px 1px 2px rgba(0, 0, 0, 0.3));\n",
              "      fill: #FFFFFF;\n",
              "    }\n",
              "  </style>\n",
              "\n",
              "      <script>\n",
              "        const buttonEl =\n",
              "          document.querySelector('#df-a056f7d2-e3ee-484a-8cee-896007c594e8 button.colab-df-convert');\n",
              "        buttonEl.style.display =\n",
              "          google.colab.kernel.accessAllowed ? 'block' : 'none';\n",
              "\n",
              "        async function convertToInteractive(key) {\n",
              "          const element = document.querySelector('#df-a056f7d2-e3ee-484a-8cee-896007c594e8');\n",
              "          const dataTable =\n",
              "            await google.colab.kernel.invokeFunction('convertToInteractive',\n",
              "                                                     [key], {});\n",
              "          if (!dataTable) return;\n",
              "\n",
              "          const docLinkHtml = 'Like what you see? Visit the ' +\n",
              "            '<a target=\"_blank\" href=https://colab.research.google.com/notebooks/data_table.ipynb>data table notebook</a>'\n",
              "            + ' to learn more about interactive tables.';\n",
              "          element.innerHTML = '';\n",
              "          dataTable['output_type'] = 'display_data';\n",
              "          await google.colab.output.renderOutput(dataTable, element);\n",
              "          const docLink = document.createElement('div');\n",
              "          docLink.innerHTML = docLinkHtml;\n",
              "          element.appendChild(docLink);\n",
              "        }\n",
              "      </script>\n",
              "    </div>\n",
              "  </div>\n",
              "  "
            ]
          },
          "metadata": {},
          "execution_count": 99
        }
      ]
    },
    {
      "cell_type": "code",
      "source": [
        "data.info()"
      ],
      "metadata": {
        "colab": {
          "base_uri": "https://localhost:8080/"
        },
        "id": "cMTHyuSuRLia",
        "outputId": "9c49b5ef-81b5-4e90-99c2-566659990115"
      },
      "execution_count": null,
      "outputs": [
        {
          "output_type": "stream",
          "name": "stdout",
          "text": [
            "<class 'pandas.core.frame.DataFrame'>\n",
            "RangeIndex: 10000 entries, 0 to 9999\n",
            "Data columns (total 14 columns):\n",
            " #   Column           Non-Null Count  Dtype  \n",
            "---  ------           --------------  -----  \n",
            " 0   RowNumber        10000 non-null  int64  \n",
            " 1   CustomerId       10000 non-null  int64  \n",
            " 2   Surname          10000 non-null  object \n",
            " 3   CreditScore      10000 non-null  int64  \n",
            " 4   Geography        10000 non-null  object \n",
            " 5   Gender           10000 non-null  object \n",
            " 6   Age              10000 non-null  int64  \n",
            " 7   Tenure           10000 non-null  int64  \n",
            " 8   Balance          10000 non-null  float64\n",
            " 9   NumOfProducts    10000 non-null  int64  \n",
            " 10  HasCrCard        10000 non-null  int64  \n",
            " 11  IsActiveMember   10000 non-null  int64  \n",
            " 12  EstimatedSalary  10000 non-null  float64\n",
            " 13  Exited           10000 non-null  int64  \n",
            "dtypes: float64(2), int64(9), object(3)\n",
            "memory usage: 1.1+ MB\n"
          ]
        }
      ]
    },
    {
      "cell_type": "code",
      "source": [
        "label_encoder = LabelEncoder()"
      ],
      "metadata": {
        "id": "XKwX3PtHtACL"
      },
      "execution_count": null,
      "outputs": []
    },
    {
      "cell_type": "code",
      "source": [
        "data['Geography'] = label_encoder.fit_transform(data['Geography'])\n",
        "data['Gender'] = label_encoder.fit_transform(data['Gender'])"
      ],
      "metadata": {
        "id": "2BBRB6IARMb3"
      },
      "execution_count": null,
      "outputs": []
    },
    {
      "cell_type": "code",
      "source": [
        "data.head()"
      ],
      "metadata": {
        "colab": {
          "base_uri": "https://localhost:8080/",
          "height": 206
        },
        "id": "tt_1XbzjVJev",
        "outputId": "970d39be-62d3-439c-b579-bfeb5ee20e4c"
      },
      "execution_count": null,
      "outputs": [
        {
          "output_type": "execute_result",
          "data": {
            "text/plain": [
              "   RowNumber  CustomerId   Surname  CreditScore  Geography  Gender  Age  \\\n",
              "0          1    15634602  Hargrave          619          0       0   42   \n",
              "1          2    15647311      Hill          608          2       0   41   \n",
              "2          3    15619304      Onio          502          0       0   42   \n",
              "3          4    15701354      Boni          699          0       0   39   \n",
              "4          5    15737888  Mitchell          850          2       0   43   \n",
              "\n",
              "   Tenure    Balance  NumOfProducts  HasCrCard  IsActiveMember  \\\n",
              "0       2       0.00              1          1               1   \n",
              "1       1   83807.86              1          0               1   \n",
              "2       8  159660.80              3          1               0   \n",
              "3       1       0.00              2          0               0   \n",
              "4       2  125510.82              1          1               1   \n",
              "\n",
              "   EstimatedSalary  Exited  \n",
              "0        101348.88       1  \n",
              "1        112542.58       0  \n",
              "2        113931.57       1  \n",
              "3         93826.63       0  \n",
              "4         79084.10       0  "
            ],
            "text/html": [
              "\n",
              "  <div id=\"df-f5205371-dedb-4e23-92d6-ac9041c1db9f\">\n",
              "    <div class=\"colab-df-container\">\n",
              "      <div>\n",
              "<style scoped>\n",
              "    .dataframe tbody tr th:only-of-type {\n",
              "        vertical-align: middle;\n",
              "    }\n",
              "\n",
              "    .dataframe tbody tr th {\n",
              "        vertical-align: top;\n",
              "    }\n",
              "\n",
              "    .dataframe thead th {\n",
              "        text-align: right;\n",
              "    }\n",
              "</style>\n",
              "<table border=\"1\" class=\"dataframe\">\n",
              "  <thead>\n",
              "    <tr style=\"text-align: right;\">\n",
              "      <th></th>\n",
              "      <th>RowNumber</th>\n",
              "      <th>CustomerId</th>\n",
              "      <th>Surname</th>\n",
              "      <th>CreditScore</th>\n",
              "      <th>Geography</th>\n",
              "      <th>Gender</th>\n",
              "      <th>Age</th>\n",
              "      <th>Tenure</th>\n",
              "      <th>Balance</th>\n",
              "      <th>NumOfProducts</th>\n",
              "      <th>HasCrCard</th>\n",
              "      <th>IsActiveMember</th>\n",
              "      <th>EstimatedSalary</th>\n",
              "      <th>Exited</th>\n",
              "    </tr>\n",
              "  </thead>\n",
              "  <tbody>\n",
              "    <tr>\n",
              "      <th>0</th>\n",
              "      <td>1</td>\n",
              "      <td>15634602</td>\n",
              "      <td>Hargrave</td>\n",
              "      <td>619</td>\n",
              "      <td>0</td>\n",
              "      <td>0</td>\n",
              "      <td>42</td>\n",
              "      <td>2</td>\n",
              "      <td>0.00</td>\n",
              "      <td>1</td>\n",
              "      <td>1</td>\n",
              "      <td>1</td>\n",
              "      <td>101348.88</td>\n",
              "      <td>1</td>\n",
              "    </tr>\n",
              "    <tr>\n",
              "      <th>1</th>\n",
              "      <td>2</td>\n",
              "      <td>15647311</td>\n",
              "      <td>Hill</td>\n",
              "      <td>608</td>\n",
              "      <td>2</td>\n",
              "      <td>0</td>\n",
              "      <td>41</td>\n",
              "      <td>1</td>\n",
              "      <td>83807.86</td>\n",
              "      <td>1</td>\n",
              "      <td>0</td>\n",
              "      <td>1</td>\n",
              "      <td>112542.58</td>\n",
              "      <td>0</td>\n",
              "    </tr>\n",
              "    <tr>\n",
              "      <th>2</th>\n",
              "      <td>3</td>\n",
              "      <td>15619304</td>\n",
              "      <td>Onio</td>\n",
              "      <td>502</td>\n",
              "      <td>0</td>\n",
              "      <td>0</td>\n",
              "      <td>42</td>\n",
              "      <td>8</td>\n",
              "      <td>159660.80</td>\n",
              "      <td>3</td>\n",
              "      <td>1</td>\n",
              "      <td>0</td>\n",
              "      <td>113931.57</td>\n",
              "      <td>1</td>\n",
              "    </tr>\n",
              "    <tr>\n",
              "      <th>3</th>\n",
              "      <td>4</td>\n",
              "      <td>15701354</td>\n",
              "      <td>Boni</td>\n",
              "      <td>699</td>\n",
              "      <td>0</td>\n",
              "      <td>0</td>\n",
              "      <td>39</td>\n",
              "      <td>1</td>\n",
              "      <td>0.00</td>\n",
              "      <td>2</td>\n",
              "      <td>0</td>\n",
              "      <td>0</td>\n",
              "      <td>93826.63</td>\n",
              "      <td>0</td>\n",
              "    </tr>\n",
              "    <tr>\n",
              "      <th>4</th>\n",
              "      <td>5</td>\n",
              "      <td>15737888</td>\n",
              "      <td>Mitchell</td>\n",
              "      <td>850</td>\n",
              "      <td>2</td>\n",
              "      <td>0</td>\n",
              "      <td>43</td>\n",
              "      <td>2</td>\n",
              "      <td>125510.82</td>\n",
              "      <td>1</td>\n",
              "      <td>1</td>\n",
              "      <td>1</td>\n",
              "      <td>79084.10</td>\n",
              "      <td>0</td>\n",
              "    </tr>\n",
              "  </tbody>\n",
              "</table>\n",
              "</div>\n",
              "      <button class=\"colab-df-convert\" onclick=\"convertToInteractive('df-f5205371-dedb-4e23-92d6-ac9041c1db9f')\"\n",
              "              title=\"Convert this dataframe to an interactive table.\"\n",
              "              style=\"display:none;\">\n",
              "        \n",
              "  <svg xmlns=\"http://www.w3.org/2000/svg\" height=\"24px\"viewBox=\"0 0 24 24\"\n",
              "       width=\"24px\">\n",
              "    <path d=\"M0 0h24v24H0V0z\" fill=\"none\"/>\n",
              "    <path d=\"M18.56 5.44l.94 2.06.94-2.06 2.06-.94-2.06-.94-.94-2.06-.94 2.06-2.06.94zm-11 1L8.5 8.5l.94-2.06 2.06-.94-2.06-.94L8.5 2.5l-.94 2.06-2.06.94zm10 10l.94 2.06.94-2.06 2.06-.94-2.06-.94-.94-2.06-.94 2.06-2.06.94z\"/><path d=\"M17.41 7.96l-1.37-1.37c-.4-.4-.92-.59-1.43-.59-.52 0-1.04.2-1.43.59L10.3 9.45l-7.72 7.72c-.78.78-.78 2.05 0 2.83L4 21.41c.39.39.9.59 1.41.59.51 0 1.02-.2 1.41-.59l7.78-7.78 2.81-2.81c.8-.78.8-2.07 0-2.86zM5.41 20L4 18.59l7.72-7.72 1.47 1.35L5.41 20z\"/>\n",
              "  </svg>\n",
              "      </button>\n",
              "      \n",
              "  <style>\n",
              "    .colab-df-container {\n",
              "      display:flex;\n",
              "      flex-wrap:wrap;\n",
              "      gap: 12px;\n",
              "    }\n",
              "\n",
              "    .colab-df-convert {\n",
              "      background-color: #E8F0FE;\n",
              "      border: none;\n",
              "      border-radius: 50%;\n",
              "      cursor: pointer;\n",
              "      display: none;\n",
              "      fill: #1967D2;\n",
              "      height: 32px;\n",
              "      padding: 0 0 0 0;\n",
              "      width: 32px;\n",
              "    }\n",
              "\n",
              "    .colab-df-convert:hover {\n",
              "      background-color: #E2EBFA;\n",
              "      box-shadow: 0px 1px 2px rgba(60, 64, 67, 0.3), 0px 1px 3px 1px rgba(60, 64, 67, 0.15);\n",
              "      fill: #174EA6;\n",
              "    }\n",
              "\n",
              "    [theme=dark] .colab-df-convert {\n",
              "      background-color: #3B4455;\n",
              "      fill: #D2E3FC;\n",
              "    }\n",
              "\n",
              "    [theme=dark] .colab-df-convert:hover {\n",
              "      background-color: #434B5C;\n",
              "      box-shadow: 0px 1px 3px 1px rgba(0, 0, 0, 0.15);\n",
              "      filter: drop-shadow(0px 1px 2px rgba(0, 0, 0, 0.3));\n",
              "      fill: #FFFFFF;\n",
              "    }\n",
              "  </style>\n",
              "\n",
              "      <script>\n",
              "        const buttonEl =\n",
              "          document.querySelector('#df-f5205371-dedb-4e23-92d6-ac9041c1db9f button.colab-df-convert');\n",
              "        buttonEl.style.display =\n",
              "          google.colab.kernel.accessAllowed ? 'block' : 'none';\n",
              "\n",
              "        async function convertToInteractive(key) {\n",
              "          const element = document.querySelector('#df-f5205371-dedb-4e23-92d6-ac9041c1db9f');\n",
              "          const dataTable =\n",
              "            await google.colab.kernel.invokeFunction('convertToInteractive',\n",
              "                                                     [key], {});\n",
              "          if (!dataTable) return;\n",
              "\n",
              "          const docLinkHtml = 'Like what you see? Visit the ' +\n",
              "            '<a target=\"_blank\" href=https://colab.research.google.com/notebooks/data_table.ipynb>data table notebook</a>'\n",
              "            + ' to learn more about interactive tables.';\n",
              "          element.innerHTML = '';\n",
              "          dataTable['output_type'] = 'display_data';\n",
              "          await google.colab.output.renderOutput(dataTable, element);\n",
              "          const docLink = document.createElement('div');\n",
              "          docLink.innerHTML = docLinkHtml;\n",
              "          element.appendChild(docLink);\n",
              "        }\n",
              "      </script>\n",
              "    </div>\n",
              "  </div>\n",
              "  "
            ]
          },
          "metadata": {},
          "execution_count": 103
        }
      ]
    },
    {
      "cell_type": "code",
      "source": [
        "X = data.get(['CreditScore', 'Gender', 'Geography', 'Tenure', 'Age', 'Balance', 'NumOfProducts', 'HasCrCard', 'IsActiveMember', 'EstimatedSalary'])\n",
        "Y = data['Exited']"
      ],
      "metadata": {
        "id": "9jZ1qBg6VKxW"
      },
      "execution_count": null,
      "outputs": []
    },
    {
      "cell_type": "code",
      "source": [
        "X.shape, Y.shape"
      ],
      "metadata": {
        "colab": {
          "base_uri": "https://localhost:8080/"
        },
        "id": "vAN7LJJYVlYR",
        "outputId": "daac4392-3d4d-4260-a4d1-8ed823b37410"
      },
      "execution_count": null,
      "outputs": [
        {
          "output_type": "execute_result",
          "data": {
            "text/plain": [
              "((10000, 10), (10000,))"
            ]
          },
          "metadata": {},
          "execution_count": 105
        }
      ]
    },
    {
      "cell_type": "code",
      "source": [
        "X_train, X_test, y_train, y_test = train_test_split(X, Y, test_size=0.1)"
      ],
      "metadata": {
        "id": "0ydsow39WLqK"
      },
      "execution_count": null,
      "outputs": []
    },
    {
      "cell_type": "code",
      "source": [
        "scaler = StandardScaler()\n",
        "X_transform = scaler.fit_transform(X_train)\n",
        "X_test_transformed = scaler.fit_transform(X_test)"
      ],
      "metadata": {
        "id": "n2EPhxBlVoir"
      },
      "execution_count": null,
      "outputs": []
    },
    {
      "cell_type": "code",
      "source": [
        "model = tf.keras.Sequential([\n",
        "    tf.keras.layers.Dense(32, activation='relu', input_shape=[10]),\n",
        "    tf.keras.layers.Dense(64, activation='relu'),\n",
        "    tf.keras.layers.Dense(64, activation='relu'),\n",
        "    tf.keras.layers.Dense(32, activation='relu'),\n",
        "    tf.keras.layers.Dense(1, activation='sigmoid')\n",
        "])"
      ],
      "metadata": {
        "id": "GNGdP-IQWR1B"
      },
      "execution_count": null,
      "outputs": []
    },
    {
      "cell_type": "code",
      "source": [
        "model.compile(loss='binary_crossentropy',\n",
        "              optimizer='rmsprop',\n",
        "              metrics=['accuracy'])"
      ],
      "metadata": {
        "id": "TB9h6uKGuSZ_"
      },
      "execution_count": null,
      "outputs": []
    },
    {
      "cell_type": "code",
      "source": [
        "print(model.summary())"
      ],
      "metadata": {
        "colab": {
          "base_uri": "https://localhost:8080/"
        },
        "id": "4C-OzZyzudB0",
        "outputId": "c15943d1-dcf2-441b-e978-5fa20aab0c86"
      },
      "execution_count": null,
      "outputs": [
        {
          "output_type": "stream",
          "name": "stdout",
          "text": [
            "Model: \"sequential_6\"\n",
            "_________________________________________________________________\n",
            " Layer (type)                Output Shape              Param #   \n",
            "=================================================================\n",
            " dense_24 (Dense)            (None, 32)                352       \n",
            "                                                                 \n",
            " dense_25 (Dense)            (None, 64)                2112      \n",
            "                                                                 \n",
            " dense_26 (Dense)            (None, 64)                4160      \n",
            "                                                                 \n",
            " dense_27 (Dense)            (None, 32)                2080      \n",
            "                                                                 \n",
            " dense_28 (Dense)            (None, 1)                 33        \n",
            "                                                                 \n",
            "=================================================================\n",
            "Total params: 8,737\n",
            "Trainable params: 8,737\n",
            "Non-trainable params: 0\n",
            "_________________________________________________________________\n",
            "None\n"
          ]
        }
      ]
    },
    {
      "cell_type": "code",
      "source": [
        "history = model.fit(x=X_transform, y=y_train, epochs=10, validation_data=(X_test_transformed, y_test), batch_size=32)"
      ],
      "metadata": {
        "colab": {
          "base_uri": "https://localhost:8080/"
        },
        "id": "08lxBdtQufWa",
        "outputId": "81194825-200d-4226-f2ff-ce2434fd4a20"
      },
      "execution_count": null,
      "outputs": [
        {
          "output_type": "stream",
          "name": "stdout",
          "text": [
            "Epoch 1/10\n",
            "282/282 [==============================] - 2s 3ms/step - loss: 0.4280 - accuracy: 0.8202 - val_loss: 0.4306 - val_accuracy: 0.8190\n",
            "Epoch 2/10\n",
            "282/282 [==============================] - 1s 2ms/step - loss: 0.3718 - accuracy: 0.8476 - val_loss: 0.3976 - val_accuracy: 0.8280\n",
            "Epoch 3/10\n",
            "282/282 [==============================] - 1s 2ms/step - loss: 0.3532 - accuracy: 0.8566 - val_loss: 0.3900 - val_accuracy: 0.8350\n",
            "Epoch 4/10\n",
            "282/282 [==============================] - 1s 2ms/step - loss: 0.3466 - accuracy: 0.8586 - val_loss: 0.3921 - val_accuracy: 0.8370\n",
            "Epoch 5/10\n",
            "282/282 [==============================] - 1s 2ms/step - loss: 0.3402 - accuracy: 0.8604 - val_loss: 0.3989 - val_accuracy: 0.8290\n",
            "Epoch 6/10\n",
            "282/282 [==============================] - 1s 2ms/step - loss: 0.3367 - accuracy: 0.8620 - val_loss: 0.3952 - val_accuracy: 0.8400\n",
            "Epoch 7/10\n",
            "282/282 [==============================] - 1s 2ms/step - loss: 0.3337 - accuracy: 0.8652 - val_loss: 0.3913 - val_accuracy: 0.8360\n",
            "Epoch 8/10\n",
            "282/282 [==============================] - 1s 2ms/step - loss: 0.3279 - accuracy: 0.8652 - val_loss: 0.3848 - val_accuracy: 0.8380\n",
            "Epoch 9/10\n",
            "282/282 [==============================] - 1s 2ms/step - loss: 0.3262 - accuracy: 0.8671 - val_loss: 0.3737 - val_accuracy: 0.8420\n",
            "Epoch 10/10\n",
            "282/282 [==============================] - 1s 2ms/step - loss: 0.3248 - accuracy: 0.8699 - val_loss: 0.3980 - val_accuracy: 0.8340\n"
          ]
        }
      ]
    },
    {
      "cell_type": "code",
      "source": [
        "y_pred_nn = model.predict(X_test_transformed)\n",
        "for i in y_pred_nn:\n",
        "    if i[0]>0.5:\n",
        "        i[0] = 1\n",
        "    else:\n",
        "        i[0] = 0\n",
        "print(confusion_matrix(y_test, y_pred_nn), precision_score(y_test, y_pred_nn), recall_score(y_test, y_pred_nn), f1_score(y_test, y_pred_nn))"
      ],
      "metadata": {
        "colab": {
          "base_uri": "https://localhost:8080/"
        },
        "id": "LYPvTfdk0TgM",
        "outputId": "843d14d2-1a84-46c6-fa56-0e31e386f83a"
      },
      "execution_count": null,
      "outputs": [
        {
          "output_type": "stream",
          "name": "stdout",
          "text": [
            "32/32 [==============================] - 0s 1ms/step\n",
            "[[750  14]\n",
            " [152  84]] 0.8571428571428571 0.3559322033898305 0.5029940119760479\n"
          ]
        }
      ]
    },
    {
      "cell_type": "markdown",
      "source": [
        "# Assignment 4 : Gradient Descent"
      ],
      "metadata": {
        "id": "Otw1jWL4epy8"
      }
    },
    {
      "cell_type": "code",
      "source": [
        "cur_x = 2\n",
        "learning_rate = 0.01\n",
        "precision = 0.0001\n",
        "previous_step_size = 1 \n",
        "max_iters = 1000\n",
        "iters = 0 \n",
        "df = lambda x: 2*(x+3) # (dy/dx) "
      ],
      "metadata": {
        "id": "vW6_YQIYetE_"
      },
      "execution_count": null,
      "outputs": []
    },
    {
      "cell_type": "code",
      "source": [
        "while previous_step_size > precision and iters < max_iters:\n",
        "    prev_x = cur_x \n",
        "    cur_x = cur_x - learning_rate * df(prev_x)\n",
        "    previous_step_size = abs(cur_x - prev_x)\n",
        "    iters += 1\n",
        "    print(\"Iteration\",iters,\" : X value is\",cur_x) #Print iterations\n",
        "    \n",
        "print(\"The local minimum occurs at\", cur_x)"
      ],
      "metadata": {
        "id": "F0K0lEUMeuJo",
        "colab": {
          "base_uri": "https://localhost:8080/"
        },
        "outputId": "eaa21d1f-8434-4558-d033-8ed694f94c28"
      },
      "execution_count": null,
      "outputs": [
        {
          "output_type": "stream",
          "name": "stdout",
          "text": [
            "Iteration 1  : X value is 1.9\n",
            "Iteration 2  : X value is 1.8019999999999998\n",
            "Iteration 3  : X value is 1.70596\n",
            "Iteration 4  : X value is 1.6118408\n",
            "Iteration 5  : X value is 1.519603984\n",
            "Iteration 6  : X value is 1.42921190432\n",
            "Iteration 7  : X value is 1.3406276662336\n",
            "Iteration 8  : X value is 1.253815112908928\n",
            "Iteration 9  : X value is 1.1687388106507495\n",
            "Iteration 10  : X value is 1.0853640344377344\n",
            "Iteration 11  : X value is 1.0036567537489798\n",
            "Iteration 12  : X value is 0.9235836186740002\n",
            "Iteration 13  : X value is 0.8451119463005202\n",
            "Iteration 14  : X value is 0.7682097073745098\n",
            "Iteration 15  : X value is 0.6928455132270196\n",
            "Iteration 16  : X value is 0.6189886029624792\n",
            "Iteration 17  : X value is 0.5466088309032295\n",
            "Iteration 18  : X value is 0.4756766542851649\n",
            "Iteration 19  : X value is 0.40616312119946163\n",
            "Iteration 20  : X value is 0.3380398587754724\n",
            "Iteration 21  : X value is 0.27127906159996296\n",
            "Iteration 22  : X value is 0.2058534803679637\n",
            "Iteration 23  : X value is 0.14173641076060442\n",
            "Iteration 24  : X value is 0.07890168254539233\n",
            "Iteration 25  : X value is 0.017323648894484484\n",
            "Iteration 26  : X value is -0.04302282408340521\n",
            "Iteration 27  : X value is -0.10216236760173711\n",
            "Iteration 28  : X value is -0.16011912024970237\n",
            "Iteration 29  : X value is -0.21691673784470833\n",
            "Iteration 30  : X value is -0.27257840308781417\n",
            "Iteration 31  : X value is -0.3271268350260579\n",
            "Iteration 32  : X value is -0.38058429832553675\n",
            "Iteration 33  : X value is -0.432972612359026\n",
            "Iteration 34  : X value is -0.4843131601118455\n",
            "Iteration 35  : X value is -0.5346268969096086\n",
            "Iteration 36  : X value is -0.5839343589714164\n",
            "Iteration 37  : X value is -0.632255671791988\n",
            "Iteration 38  : X value is -0.6796105583561483\n",
            "Iteration 39  : X value is -0.7260183471890252\n",
            "Iteration 40  : X value is -0.7714979802452447\n",
            "Iteration 41  : X value is -0.8160680206403399\n",
            "Iteration 42  : X value is -0.8597466602275331\n",
            "Iteration 43  : X value is -0.9025517270229825\n",
            "Iteration 44  : X value is -0.9445006924825228\n",
            "Iteration 45  : X value is -0.9856106786328723\n",
            "Iteration 46  : X value is -1.025898465060215\n",
            "Iteration 47  : X value is -1.0653804957590107\n",
            "Iteration 48  : X value is -1.1040728858438305\n",
            "Iteration 49  : X value is -1.1419914281269539\n",
            "Iteration 50  : X value is -1.1791515995644148\n",
            "Iteration 51  : X value is -1.2155685675731265\n",
            "Iteration 52  : X value is -1.2512571962216639\n",
            "Iteration 53  : X value is -1.2862320522972306\n",
            "Iteration 54  : X value is -1.320507411251286\n",
            "Iteration 55  : X value is -1.3540972630262602\n",
            "Iteration 56  : X value is -1.387015317765735\n",
            "Iteration 57  : X value is -1.4192750114104202\n",
            "Iteration 58  : X value is -1.4508895111822118\n",
            "Iteration 59  : X value is -1.4818717209585675\n",
            "Iteration 60  : X value is -1.512234286539396\n",
            "Iteration 61  : X value is -1.5419896008086083\n",
            "Iteration 62  : X value is -1.571149808792436\n",
            "Iteration 63  : X value is -1.5997268126165873\n",
            "Iteration 64  : X value is -1.6277322763642557\n",
            "Iteration 65  : X value is -1.6551776308369706\n",
            "Iteration 66  : X value is -1.6820740782202313\n",
            "Iteration 67  : X value is -1.7084325966558267\n",
            "Iteration 68  : X value is -1.7342639447227102\n",
            "Iteration 69  : X value is -1.759578665828256\n",
            "Iteration 70  : X value is -1.784387092511691\n",
            "Iteration 71  : X value is -1.808699350661457\n",
            "Iteration 72  : X value is -1.832525363648228\n",
            "Iteration 73  : X value is -1.8558748563752634\n",
            "Iteration 74  : X value is -1.8787573592477582\n",
            "Iteration 75  : X value is -1.901182212062803\n",
            "Iteration 76  : X value is -1.923158567821547\n",
            "Iteration 77  : X value is -1.9446953964651161\n",
            "Iteration 78  : X value is -1.9658014885358137\n",
            "Iteration 79  : X value is -1.9864854587650975\n",
            "Iteration 80  : X value is -2.0067557495897956\n",
            "Iteration 81  : X value is -2.026620634598\n",
            "Iteration 82  : X value is -2.04608822190604\n",
            "Iteration 83  : X value is -2.065166457467919\n",
            "Iteration 84  : X value is -2.0838631283185607\n",
            "Iteration 85  : X value is -2.1021858657521895\n",
            "Iteration 86  : X value is -2.1201421484371457\n",
            "Iteration 87  : X value is -2.137739305468403\n",
            "Iteration 88  : X value is -2.1549845193590347\n",
            "Iteration 89  : X value is -2.171884828971854\n",
            "Iteration 90  : X value is -2.188447132392417\n",
            "Iteration 91  : X value is -2.204678189744569\n",
            "Iteration 92  : X value is -2.2205846259496775\n",
            "Iteration 93  : X value is -2.236172933430684\n",
            "Iteration 94  : X value is -2.2514494747620706\n",
            "Iteration 95  : X value is -2.266420485266829\n",
            "Iteration 96  : X value is -2.2810920755614923\n",
            "Iteration 97  : X value is -2.2954702340502626\n",
            "Iteration 98  : X value is -2.3095608293692576\n",
            "Iteration 99  : X value is -2.3233696127818724\n",
            "Iteration 100  : X value is -2.336902220526235\n",
            "Iteration 101  : X value is -2.3501641761157104\n",
            "Iteration 102  : X value is -2.3631608925933962\n",
            "Iteration 103  : X value is -2.375897674741528\n",
            "Iteration 104  : X value is -2.3883797212466975\n",
            "Iteration 105  : X value is -2.4006121268217635\n",
            "Iteration 106  : X value is -2.4125998842853282\n",
            "Iteration 107  : X value is -2.4243478865996217\n",
            "Iteration 108  : X value is -2.4358609288676294\n",
            "Iteration 109  : X value is -2.447143710290277\n",
            "Iteration 110  : X value is -2.458200836084471\n",
            "Iteration 111  : X value is -2.4690368193627816\n",
            "Iteration 112  : X value is -2.479656082975526\n",
            "Iteration 113  : X value is -2.4900629613160152\n",
            "Iteration 114  : X value is -2.500261702089695\n",
            "Iteration 115  : X value is -2.510256468047901\n",
            "Iteration 116  : X value is -2.520051338686943\n",
            "Iteration 117  : X value is -2.5296503119132043\n",
            "Iteration 118  : X value is -2.53905730567494\n",
            "Iteration 119  : X value is -2.5482761595614414\n",
            "Iteration 120  : X value is -2.5573106363702127\n",
            "Iteration 121  : X value is -2.5661644236428085\n",
            "Iteration 122  : X value is -2.5748411351699523\n",
            "Iteration 123  : X value is -2.5833443124665534\n",
            "Iteration 124  : X value is -2.591677426217222\n",
            "Iteration 125  : X value is -2.599843877692878\n",
            "Iteration 126  : X value is -2.6078470001390204\n",
            "Iteration 127  : X value is -2.61569006013624\n",
            "Iteration 128  : X value is -2.623376258933515\n",
            "Iteration 129  : X value is -2.6309087337548447\n",
            "Iteration 130  : X value is -2.638290559079748\n",
            "Iteration 131  : X value is -2.6455247478981527\n",
            "Iteration 132  : X value is -2.6526142529401895\n",
            "Iteration 133  : X value is -2.6595619678813858\n",
            "Iteration 134  : X value is -2.666370728523758\n",
            "Iteration 135  : X value is -2.6730433139532828\n",
            "Iteration 136  : X value is -2.679582447674217\n",
            "Iteration 137  : X value is -2.685990798720733\n",
            "Iteration 138  : X value is -2.6922709827463183\n",
            "Iteration 139  : X value is -2.698425563091392\n",
            "Iteration 140  : X value is -2.7044570518295643\n",
            "Iteration 141  : X value is -2.7103679107929732\n",
            "Iteration 142  : X value is -2.7161605525771138\n",
            "Iteration 143  : X value is -2.7218373415255717\n",
            "Iteration 144  : X value is -2.72740059469506\n",
            "Iteration 145  : X value is -2.7328525828011587\n",
            "Iteration 146  : X value is -2.7381955311451356\n",
            "Iteration 147  : X value is -2.743431620522233\n",
            "Iteration 148  : X value is -2.748562988111788\n",
            "Iteration 149  : X value is -2.7535917283495523\n",
            "Iteration 150  : X value is -2.7585198937825615\n",
            "Iteration 151  : X value is -2.76334949590691\n",
            "Iteration 152  : X value is -2.768082505988772\n",
            "Iteration 153  : X value is -2.7727208558689966\n",
            "Iteration 154  : X value is -2.777266438751617\n",
            "Iteration 155  : X value is -2.7817211099765844\n",
            "Iteration 156  : X value is -2.7860866877770527\n",
            "Iteration 157  : X value is -2.790364954021512\n",
            "Iteration 158  : X value is -2.7945576549410815\n",
            "Iteration 159  : X value is -2.79866650184226\n",
            "Iteration 160  : X value is -2.802693171805415\n",
            "Iteration 161  : X value is -2.8066393083693066\n",
            "Iteration 162  : X value is -2.8105065222019205\n",
            "Iteration 163  : X value is -2.8142963917578823\n",
            "Iteration 164  : X value is -2.818010463922725\n",
            "Iteration 165  : X value is -2.82165025464427\n",
            "Iteration 166  : X value is -2.8252172495513848\n",
            "Iteration 167  : X value is -2.828712904560357\n",
            "Iteration 168  : X value is -2.83213864646915\n",
            "Iteration 169  : X value is -2.8354958735397666\n",
            "Iteration 170  : X value is -2.838785956068971\n",
            "Iteration 171  : X value is -2.842010236947592\n",
            "Iteration 172  : X value is -2.84517003220864\n",
            "Iteration 173  : X value is -2.8482666315644676\n",
            "Iteration 174  : X value is -2.851301298933178\n",
            "Iteration 175  : X value is -2.8542752729545144\n",
            "Iteration 176  : X value is -2.857189767495424\n",
            "Iteration 177  : X value is -2.8600459721455156\n",
            "Iteration 178  : X value is -2.8628450527026055\n",
            "Iteration 179  : X value is -2.8655881516485535\n",
            "Iteration 180  : X value is -2.8682763886155827\n",
            "Iteration 181  : X value is -2.870910860843271\n",
            "Iteration 182  : X value is -2.8734926436264057\n",
            "Iteration 183  : X value is -2.8760227907538773\n",
            "Iteration 184  : X value is -2.8785023349388\n",
            "Iteration 185  : X value is -2.880932288240024\n",
            "Iteration 186  : X value is -2.8833136424752235\n",
            "Iteration 187  : X value is -2.885647369625719\n",
            "Iteration 188  : X value is -2.8879344222332044\n",
            "Iteration 189  : X value is -2.8901757337885403\n",
            "Iteration 190  : X value is -2.8923722191127696\n",
            "Iteration 191  : X value is -2.894524774730514\n",
            "Iteration 192  : X value is -2.896634279235904\n",
            "Iteration 193  : X value is -2.898701593651186\n",
            "Iteration 194  : X value is -2.900727561778162\n",
            "Iteration 195  : X value is -2.9027130105425987\n",
            "Iteration 196  : X value is -2.9046587503317465\n",
            "Iteration 197  : X value is -2.9065655753251116\n",
            "Iteration 198  : X value is -2.9084342638186094\n",
            "Iteration 199  : X value is -2.910265578542237\n",
            "Iteration 200  : X value is -2.9120602669713924\n",
            "Iteration 201  : X value is -2.9138190616319646\n",
            "Iteration 202  : X value is -2.915542680399325\n",
            "Iteration 203  : X value is -2.9172318267913386\n",
            "Iteration 204  : X value is -2.918887190255512\n",
            "Iteration 205  : X value is -2.920509446450402\n",
            "Iteration 206  : X value is -2.9220992575213938\n",
            "Iteration 207  : X value is -2.9236572723709657\n",
            "Iteration 208  : X value is -2.9251841269235466\n",
            "Iteration 209  : X value is -2.9266804443850756\n",
            "Iteration 210  : X value is -2.928146835497374\n",
            "Iteration 211  : X value is -2.9295838987874263\n",
            "Iteration 212  : X value is -2.9309922208116777\n",
            "Iteration 213  : X value is -2.932372376395444\n",
            "Iteration 214  : X value is -2.933724928867535\n",
            "Iteration 215  : X value is -2.9350504302901843\n",
            "Iteration 216  : X value is -2.9363494216843806\n",
            "Iteration 217  : X value is -2.937622433250693\n",
            "Iteration 218  : X value is -2.938869984585679\n",
            "Iteration 219  : X value is -2.9400925848939656\n",
            "Iteration 220  : X value is -2.9412907331960865\n",
            "Iteration 221  : X value is -2.9424649185321647\n",
            "Iteration 222  : X value is -2.9436156201615216\n",
            "Iteration 223  : X value is -2.944743307758291\n",
            "Iteration 224  : X value is -2.9458484416031254\n",
            "Iteration 225  : X value is -2.946931472771063\n",
            "Iteration 226  : X value is -2.9479928433156415\n",
            "Iteration 227  : X value is -2.9490329864493288\n",
            "Iteration 228  : X value is -2.9500523267203422\n",
            "Iteration 229  : X value is -2.9510512801859354\n",
            "Iteration 230  : X value is -2.952030254582217\n",
            "Iteration 231  : X value is -2.9529896494905725\n",
            "Iteration 232  : X value is -2.953929856500761\n",
            "Iteration 233  : X value is -2.954851259370746\n",
            "Iteration 234  : X value is -2.955754234183331\n",
            "Iteration 235  : X value is -2.9566391494996647\n",
            "Iteration 236  : X value is -2.9575063665096715\n",
            "Iteration 237  : X value is -2.958356239179478\n",
            "Iteration 238  : X value is -2.9591891143958886\n",
            "Iteration 239  : X value is -2.9600053321079707\n",
            "Iteration 240  : X value is -2.960805225465811\n",
            "Iteration 241  : X value is -2.9615891209564946\n",
            "Iteration 242  : X value is -2.9623573385373647\n",
            "Iteration 243  : X value is -2.9631101917666176\n",
            "Iteration 244  : X value is -2.963847987931285\n",
            "Iteration 245  : X value is -2.9645710281726596\n",
            "Iteration 246  : X value is -2.9652796076092063\n",
            "Iteration 247  : X value is -2.965974015457022\n",
            "Iteration 248  : X value is -2.9666545351478817\n",
            "Iteration 249  : X value is -2.967321444444924\n",
            "Iteration 250  : X value is -2.9679750155560254\n",
            "Iteration 251  : X value is -2.9686155152449047\n",
            "Iteration 252  : X value is -2.969243204940007\n",
            "Iteration 253  : X value is -2.9698583408412067\n",
            "Iteration 254  : X value is -2.9704611740243827\n",
            "Iteration 255  : X value is -2.9710519505438953\n",
            "Iteration 256  : X value is -2.9716309115330173\n",
            "Iteration 257  : X value is -2.9721982933023567\n",
            "Iteration 258  : X value is -2.9727543274363097\n",
            "Iteration 259  : X value is -2.9732992408875836\n",
            "Iteration 260  : X value is -2.973833256069832\n",
            "Iteration 261  : X value is -2.9743565909484353\n",
            "Iteration 262  : X value is -2.9748694591294664\n",
            "Iteration 263  : X value is -2.9753720699468773\n",
            "Iteration 264  : X value is -2.9758646285479395\n",
            "Iteration 265  : X value is -2.9763473359769805\n",
            "Iteration 266  : X value is -2.976820389257441\n",
            "Iteration 267  : X value is -2.9772839814722922\n",
            "Iteration 268  : X value is -2.9777383018428463\n",
            "Iteration 269  : X value is -2.9781835358059894\n",
            "Iteration 270  : X value is -2.9786198650898696\n",
            "Iteration 271  : X value is -2.9790474677880723\n",
            "Iteration 272  : X value is -2.979466518432311\n",
            "Iteration 273  : X value is -2.9798771880636648\n",
            "Iteration 274  : X value is -2.9802796443023913\n",
            "Iteration 275  : X value is -2.9806740514163437\n",
            "Iteration 276  : X value is -2.9810605703880166\n",
            "Iteration 277  : X value is -2.981439358980256\n",
            "Iteration 278  : X value is -2.981810571800651\n",
            "Iteration 279  : X value is -2.9821743603646382\n",
            "Iteration 280  : X value is -2.9825308731573457\n",
            "Iteration 281  : X value is -2.982880255694199\n",
            "Iteration 282  : X value is -2.983222650580315\n",
            "Iteration 283  : X value is -2.983558197568709\n",
            "Iteration 284  : X value is -2.983887033617335\n",
            "Iteration 285  : X value is -2.984209292944988\n",
            "Iteration 286  : X value is -2.9845251070860885\n",
            "Iteration 287  : X value is -2.984834604944367\n",
            "Iteration 288  : X value is -2.9851379128454796\n",
            "Iteration 289  : X value is -2.98543515458857\n",
            "Iteration 290  : X value is -2.9857264514967983\n",
            "Iteration 291  : X value is -2.9860119224668624\n",
            "Iteration 292  : X value is -2.9862916840175253\n",
            "Iteration 293  : X value is -2.9865658503371746\n",
            "Iteration 294  : X value is -2.986834533330431\n",
            "Iteration 295  : X value is -2.987097842663822\n",
            "Iteration 296  : X value is -2.987355885810546\n",
            "Iteration 297  : X value is -2.987608768094335\n",
            "Iteration 298  : X value is -2.9878565927324483\n",
            "Iteration 299  : X value is -2.9880994608777995\n",
            "Iteration 300  : X value is -2.9883374716602438\n",
            "Iteration 301  : X value is -2.988570722227039\n",
            "Iteration 302  : X value is -2.988799307782498\n",
            "Iteration 303  : X value is -2.989023321626848\n",
            "Iteration 304  : X value is -2.989242855194311\n",
            "Iteration 305  : X value is -2.989457998090425\n",
            "Iteration 306  : X value is -2.9896688381286163\n",
            "Iteration 307  : X value is -2.989875461366044\n",
            "Iteration 308  : X value is -2.9900779521387233\n",
            "Iteration 309  : X value is -2.990276393095949\n",
            "Iteration 310  : X value is -2.99047086523403\n",
            "Iteration 311  : X value is -2.9906614479293494\n",
            "Iteration 312  : X value is -2.9908482189707626\n",
            "Iteration 313  : X value is -2.9910312545913476\n",
            "Iteration 314  : X value is -2.9912106294995207\n",
            "Iteration 315  : X value is -2.9913864169095303\n",
            "Iteration 316  : X value is -2.99155868857134\n",
            "Iteration 317  : X value is -2.991727514799913\n",
            "Iteration 318  : X value is -2.9918929645039145\n",
            "Iteration 319  : X value is -2.9920551052138364\n",
            "Iteration 320  : X value is -2.99221400310956\n",
            "Iteration 321  : X value is -2.9923697230473687\n",
            "Iteration 322  : X value is -2.9925223285864213\n",
            "Iteration 323  : X value is -2.992671882014693\n",
            "Iteration 324  : X value is -2.9928184443743993\n",
            "Iteration 325  : X value is -2.9929620754869113\n",
            "Iteration 326  : X value is -2.993102833977173\n",
            "Iteration 327  : X value is -2.9932407772976295\n",
            "Iteration 328  : X value is -2.993375961751677\n",
            "Iteration 329  : X value is -2.993508442516643\n",
            "Iteration 330  : X value is -2.9936382736663103\n",
            "Iteration 331  : X value is -2.993765508192984\n",
            "Iteration 332  : X value is -2.993890198029124\n",
            "Iteration 333  : X value is -2.9940123940685415\n",
            "Iteration 334  : X value is -2.994132146187171\n",
            "Iteration 335  : X value is -2.9942495032634273\n",
            "Iteration 336  : X value is -2.9943645131981587\n",
            "Iteration 337  : X value is -2.9944772229341954\n",
            "Iteration 338  : X value is -2.9945876784755114\n",
            "Iteration 339  : X value is -2.9946959249060012\n",
            "Iteration 340  : X value is -2.9948020064078813\n",
            "Iteration 341  : X value is -2.9949059662797235\n",
            "Iteration 342  : X value is -2.9950078469541292\n",
            "Iteration 343  : X value is -2.995107690015047\n",
            "The local minimum occurs at -2.995107690015047\n"
          ]
        }
      ]
    },
    {
      "cell_type": "markdown",
      "source": [
        "# Assignment 5 : K Means Clustering"
      ],
      "metadata": {
        "id": "bM8X-3K_vala"
      }
    },
    {
      "cell_type": "code",
      "source": [
        "import pandas as pd\n",
        "import numpy as np\n",
        "from sklearn.model_selection import train_test_split\n",
        "from sklearn.metrics import mean_squared_error\n",
        "import seaborn as sns\n",
        "from sklearn.preprocessing import LabelEncoder\n",
        "import tensorflow as tf\n",
        "from sklearn.preprocessing import StandardScaler\n",
        "from sklearn.cluster import KMeans\n",
        "import matplotlib.pyplot as plt"
      ],
      "metadata": {
        "id": "Ccvu3e4I0Ve2"
      },
      "execution_count": null,
      "outputs": []
    },
    {
      "cell_type": "code",
      "source": [
        "! kaggle datasets download -d kyanyoga/sample-sales-data -p /content/ --unzip"
      ],
      "metadata": {
        "colab": {
          "base_uri": "https://localhost:8080/"
        },
        "id": "dzCQS5sVu8SV",
        "outputId": "816da5e5-9dd3-4e5f-dfa6-954ca90bddd2"
      },
      "execution_count": null,
      "outputs": [
        {
          "output_type": "stream",
          "name": "stdout",
          "text": [
            "Downloading sample-sales-data.zip to /content\n",
            "\r  0% 0.00/77.5k [00:00<?, ?B/s]\n",
            "\r100% 77.5k/77.5k [00:00<00:00, 34.9MB/s]\n"
          ]
        }
      ]
    },
    {
      "cell_type": "code",
      "source": [
        "! ls"
      ],
      "metadata": {
        "colab": {
          "base_uri": "https://localhost:8080/"
        },
        "id": "UapmOXw1v9G9",
        "outputId": "4d1b5b39-1cfb-4d2a-9076-533a6230432a"
      },
      "execution_count": null,
      "outputs": [
        {
          "output_type": "stream",
          "name": "stdout",
          "text": [
            "kaggle.json  sales_data_sample.csv  sample_data\n"
          ]
        }
      ]
    },
    {
      "cell_type": "code",
      "source": [
        "data = pd.read_csv('sales_data_sample.csv', encoding='Latin-1')"
      ],
      "metadata": {
        "id": "AhVIsZRxv-Yc"
      },
      "execution_count": null,
      "outputs": []
    },
    {
      "cell_type": "code",
      "source": [
        "data.head()"
      ],
      "metadata": {
        "colab": {
          "base_uri": "https://localhost:8080/",
          "height": 421
        },
        "id": "2Gar_5Y6wE0V",
        "outputId": "180307b0-cc25-4794-f05e-7d3fcbc6388a"
      },
      "execution_count": null,
      "outputs": [
        {
          "output_type": "execute_result",
          "data": {
            "text/plain": [
              "   ORDERNUMBER  QUANTITYORDERED  PRICEEACH  ORDERLINENUMBER    SALES  \\\n",
              "0        10107               30      95.70                2  2871.00   \n",
              "1        10121               34      81.35                5  2765.90   \n",
              "2        10134               41      94.74                2  3884.34   \n",
              "3        10145               45      83.26                6  3746.70   \n",
              "4        10159               49     100.00               14  5205.27   \n",
              "\n",
              "         ORDERDATE   STATUS  QTR_ID  MONTH_ID  YEAR_ID  ...  \\\n",
              "0   2/24/2003 0:00  Shipped       1         2     2003  ...   \n",
              "1    5/7/2003 0:00  Shipped       2         5     2003  ...   \n",
              "2    7/1/2003 0:00  Shipped       3         7     2003  ...   \n",
              "3   8/25/2003 0:00  Shipped       3         8     2003  ...   \n",
              "4  10/10/2003 0:00  Shipped       4        10     2003  ...   \n",
              "\n",
              "                    ADDRESSLINE1  ADDRESSLINE2           CITY STATE  \\\n",
              "0        897 Long Airport Avenue           NaN            NYC    NY   \n",
              "1             59 rue de l'Abbaye           NaN          Reims   NaN   \n",
              "2  27 rue du Colonel Pierre Avia           NaN          Paris   NaN   \n",
              "3             78934 Hillside Dr.           NaN       Pasadena    CA   \n",
              "4                7734 Strong St.           NaN  San Francisco    CA   \n",
              "\n",
              "  POSTALCODE COUNTRY TERRITORY CONTACTLASTNAME CONTACTFIRSTNAME DEALSIZE  \n",
              "0      10022     USA       NaN              Yu             Kwai    Small  \n",
              "1      51100  France      EMEA         Henriot             Paul    Small  \n",
              "2      75508  France      EMEA        Da Cunha           Daniel   Medium  \n",
              "3      90003     USA       NaN           Young            Julie   Medium  \n",
              "4        NaN     USA       NaN           Brown            Julie   Medium  \n",
              "\n",
              "[5 rows x 25 columns]"
            ],
            "text/html": [
              "\n",
              "  <div id=\"df-fc11a8e1-149e-4456-abd8-eb81046879b5\">\n",
              "    <div class=\"colab-df-container\">\n",
              "      <div>\n",
              "<style scoped>\n",
              "    .dataframe tbody tr th:only-of-type {\n",
              "        vertical-align: middle;\n",
              "    }\n",
              "\n",
              "    .dataframe tbody tr th {\n",
              "        vertical-align: top;\n",
              "    }\n",
              "\n",
              "    .dataframe thead th {\n",
              "        text-align: right;\n",
              "    }\n",
              "</style>\n",
              "<table border=\"1\" class=\"dataframe\">\n",
              "  <thead>\n",
              "    <tr style=\"text-align: right;\">\n",
              "      <th></th>\n",
              "      <th>ORDERNUMBER</th>\n",
              "      <th>QUANTITYORDERED</th>\n",
              "      <th>PRICEEACH</th>\n",
              "      <th>ORDERLINENUMBER</th>\n",
              "      <th>SALES</th>\n",
              "      <th>ORDERDATE</th>\n",
              "      <th>STATUS</th>\n",
              "      <th>QTR_ID</th>\n",
              "      <th>MONTH_ID</th>\n",
              "      <th>YEAR_ID</th>\n",
              "      <th>...</th>\n",
              "      <th>ADDRESSLINE1</th>\n",
              "      <th>ADDRESSLINE2</th>\n",
              "      <th>CITY</th>\n",
              "      <th>STATE</th>\n",
              "      <th>POSTALCODE</th>\n",
              "      <th>COUNTRY</th>\n",
              "      <th>TERRITORY</th>\n",
              "      <th>CONTACTLASTNAME</th>\n",
              "      <th>CONTACTFIRSTNAME</th>\n",
              "      <th>DEALSIZE</th>\n",
              "    </tr>\n",
              "  </thead>\n",
              "  <tbody>\n",
              "    <tr>\n",
              "      <th>0</th>\n",
              "      <td>10107</td>\n",
              "      <td>30</td>\n",
              "      <td>95.70</td>\n",
              "      <td>2</td>\n",
              "      <td>2871.00</td>\n",
              "      <td>2/24/2003 0:00</td>\n",
              "      <td>Shipped</td>\n",
              "      <td>1</td>\n",
              "      <td>2</td>\n",
              "      <td>2003</td>\n",
              "      <td>...</td>\n",
              "      <td>897 Long Airport Avenue</td>\n",
              "      <td>NaN</td>\n",
              "      <td>NYC</td>\n",
              "      <td>NY</td>\n",
              "      <td>10022</td>\n",
              "      <td>USA</td>\n",
              "      <td>NaN</td>\n",
              "      <td>Yu</td>\n",
              "      <td>Kwai</td>\n",
              "      <td>Small</td>\n",
              "    </tr>\n",
              "    <tr>\n",
              "      <th>1</th>\n",
              "      <td>10121</td>\n",
              "      <td>34</td>\n",
              "      <td>81.35</td>\n",
              "      <td>5</td>\n",
              "      <td>2765.90</td>\n",
              "      <td>5/7/2003 0:00</td>\n",
              "      <td>Shipped</td>\n",
              "      <td>2</td>\n",
              "      <td>5</td>\n",
              "      <td>2003</td>\n",
              "      <td>...</td>\n",
              "      <td>59 rue de l'Abbaye</td>\n",
              "      <td>NaN</td>\n",
              "      <td>Reims</td>\n",
              "      <td>NaN</td>\n",
              "      <td>51100</td>\n",
              "      <td>France</td>\n",
              "      <td>EMEA</td>\n",
              "      <td>Henriot</td>\n",
              "      <td>Paul</td>\n",
              "      <td>Small</td>\n",
              "    </tr>\n",
              "    <tr>\n",
              "      <th>2</th>\n",
              "      <td>10134</td>\n",
              "      <td>41</td>\n",
              "      <td>94.74</td>\n",
              "      <td>2</td>\n",
              "      <td>3884.34</td>\n",
              "      <td>7/1/2003 0:00</td>\n",
              "      <td>Shipped</td>\n",
              "      <td>3</td>\n",
              "      <td>7</td>\n",
              "      <td>2003</td>\n",
              "      <td>...</td>\n",
              "      <td>27 rue du Colonel Pierre Avia</td>\n",
              "      <td>NaN</td>\n",
              "      <td>Paris</td>\n",
              "      <td>NaN</td>\n",
              "      <td>75508</td>\n",
              "      <td>France</td>\n",
              "      <td>EMEA</td>\n",
              "      <td>Da Cunha</td>\n",
              "      <td>Daniel</td>\n",
              "      <td>Medium</td>\n",
              "    </tr>\n",
              "    <tr>\n",
              "      <th>3</th>\n",
              "      <td>10145</td>\n",
              "      <td>45</td>\n",
              "      <td>83.26</td>\n",
              "      <td>6</td>\n",
              "      <td>3746.70</td>\n",
              "      <td>8/25/2003 0:00</td>\n",
              "      <td>Shipped</td>\n",
              "      <td>3</td>\n",
              "      <td>8</td>\n",
              "      <td>2003</td>\n",
              "      <td>...</td>\n",
              "      <td>78934 Hillside Dr.</td>\n",
              "      <td>NaN</td>\n",
              "      <td>Pasadena</td>\n",
              "      <td>CA</td>\n",
              "      <td>90003</td>\n",
              "      <td>USA</td>\n",
              "      <td>NaN</td>\n",
              "      <td>Young</td>\n",
              "      <td>Julie</td>\n",
              "      <td>Medium</td>\n",
              "    </tr>\n",
              "    <tr>\n",
              "      <th>4</th>\n",
              "      <td>10159</td>\n",
              "      <td>49</td>\n",
              "      <td>100.00</td>\n",
              "      <td>14</td>\n",
              "      <td>5205.27</td>\n",
              "      <td>10/10/2003 0:00</td>\n",
              "      <td>Shipped</td>\n",
              "      <td>4</td>\n",
              "      <td>10</td>\n",
              "      <td>2003</td>\n",
              "      <td>...</td>\n",
              "      <td>7734 Strong St.</td>\n",
              "      <td>NaN</td>\n",
              "      <td>San Francisco</td>\n",
              "      <td>CA</td>\n",
              "      <td>NaN</td>\n",
              "      <td>USA</td>\n",
              "      <td>NaN</td>\n",
              "      <td>Brown</td>\n",
              "      <td>Julie</td>\n",
              "      <td>Medium</td>\n",
              "    </tr>\n",
              "  </tbody>\n",
              "</table>\n",
              "<p>5 rows × 25 columns</p>\n",
              "</div>\n",
              "      <button class=\"colab-df-convert\" onclick=\"convertToInteractive('df-fc11a8e1-149e-4456-abd8-eb81046879b5')\"\n",
              "              title=\"Convert this dataframe to an interactive table.\"\n",
              "              style=\"display:none;\">\n",
              "        \n",
              "  <svg xmlns=\"http://www.w3.org/2000/svg\" height=\"24px\"viewBox=\"0 0 24 24\"\n",
              "       width=\"24px\">\n",
              "    <path d=\"M0 0h24v24H0V0z\" fill=\"none\"/>\n",
              "    <path d=\"M18.56 5.44l.94 2.06.94-2.06 2.06-.94-2.06-.94-.94-2.06-.94 2.06-2.06.94zm-11 1L8.5 8.5l.94-2.06 2.06-.94-2.06-.94L8.5 2.5l-.94 2.06-2.06.94zm10 10l.94 2.06.94-2.06 2.06-.94-2.06-.94-.94-2.06-.94 2.06-2.06.94z\"/><path d=\"M17.41 7.96l-1.37-1.37c-.4-.4-.92-.59-1.43-.59-.52 0-1.04.2-1.43.59L10.3 9.45l-7.72 7.72c-.78.78-.78 2.05 0 2.83L4 21.41c.39.39.9.59 1.41.59.51 0 1.02-.2 1.41-.59l7.78-7.78 2.81-2.81c.8-.78.8-2.07 0-2.86zM5.41 20L4 18.59l7.72-7.72 1.47 1.35L5.41 20z\"/>\n",
              "  </svg>\n",
              "      </button>\n",
              "      \n",
              "  <style>\n",
              "    .colab-df-container {\n",
              "      display:flex;\n",
              "      flex-wrap:wrap;\n",
              "      gap: 12px;\n",
              "    }\n",
              "\n",
              "    .colab-df-convert {\n",
              "      background-color: #E8F0FE;\n",
              "      border: none;\n",
              "      border-radius: 50%;\n",
              "      cursor: pointer;\n",
              "      display: none;\n",
              "      fill: #1967D2;\n",
              "      height: 32px;\n",
              "      padding: 0 0 0 0;\n",
              "      width: 32px;\n",
              "    }\n",
              "\n",
              "    .colab-df-convert:hover {\n",
              "      background-color: #E2EBFA;\n",
              "      box-shadow: 0px 1px 2px rgba(60, 64, 67, 0.3), 0px 1px 3px 1px rgba(60, 64, 67, 0.15);\n",
              "      fill: #174EA6;\n",
              "    }\n",
              "\n",
              "    [theme=dark] .colab-df-convert {\n",
              "      background-color: #3B4455;\n",
              "      fill: #D2E3FC;\n",
              "    }\n",
              "\n",
              "    [theme=dark] .colab-df-convert:hover {\n",
              "      background-color: #434B5C;\n",
              "      box-shadow: 0px 1px 3px 1px rgba(0, 0, 0, 0.15);\n",
              "      filter: drop-shadow(0px 1px 2px rgba(0, 0, 0, 0.3));\n",
              "      fill: #FFFFFF;\n",
              "    }\n",
              "  </style>\n",
              "\n",
              "      <script>\n",
              "        const buttonEl =\n",
              "          document.querySelector('#df-fc11a8e1-149e-4456-abd8-eb81046879b5 button.colab-df-convert');\n",
              "        buttonEl.style.display =\n",
              "          google.colab.kernel.accessAllowed ? 'block' : 'none';\n",
              "\n",
              "        async function convertToInteractive(key) {\n",
              "          const element = document.querySelector('#df-fc11a8e1-149e-4456-abd8-eb81046879b5');\n",
              "          const dataTable =\n",
              "            await google.colab.kernel.invokeFunction('convertToInteractive',\n",
              "                                                     [key], {});\n",
              "          if (!dataTable) return;\n",
              "\n",
              "          const docLinkHtml = 'Like what you see? Visit the ' +\n",
              "            '<a target=\"_blank\" href=https://colab.research.google.com/notebooks/data_table.ipynb>data table notebook</a>'\n",
              "            + ' to learn more about interactive tables.';\n",
              "          element.innerHTML = '';\n",
              "          dataTable['output_type'] = 'display_data';\n",
              "          await google.colab.output.renderOutput(dataTable, element);\n",
              "          const docLink = document.createElement('div');\n",
              "          docLink.innerHTML = docLinkHtml;\n",
              "          element.appendChild(docLink);\n",
              "        }\n",
              "      </script>\n",
              "    </div>\n",
              "  </div>\n",
              "  "
            ]
          },
          "metadata": {},
          "execution_count": 16
        }
      ]
    },
    {
      "cell_type": "code",
      "source": [
        "data.info()"
      ],
      "metadata": {
        "colab": {
          "base_uri": "https://localhost:8080/"
        },
        "id": "6eQD_faQweqh",
        "outputId": "b6678b18-e28d-419d-f8dc-1d19c6005cb6"
      },
      "execution_count": null,
      "outputs": [
        {
          "output_type": "stream",
          "name": "stdout",
          "text": [
            "<class 'pandas.core.frame.DataFrame'>\n",
            "RangeIndex: 2823 entries, 0 to 2822\n",
            "Data columns (total 25 columns):\n",
            " #   Column            Non-Null Count  Dtype  \n",
            "---  ------            --------------  -----  \n",
            " 0   ORDERNUMBER       2823 non-null   int64  \n",
            " 1   QUANTITYORDERED   2823 non-null   int64  \n",
            " 2   PRICEEACH         2823 non-null   float64\n",
            " 3   ORDERLINENUMBER   2823 non-null   int64  \n",
            " 4   SALES             2823 non-null   float64\n",
            " 5   ORDERDATE         2823 non-null   object \n",
            " 6   STATUS            2823 non-null   object \n",
            " 7   QTR_ID            2823 non-null   int64  \n",
            " 8   MONTH_ID          2823 non-null   int64  \n",
            " 9   YEAR_ID           2823 non-null   int64  \n",
            " 10  PRODUCTLINE       2823 non-null   object \n",
            " 11  MSRP              2823 non-null   int64  \n",
            " 12  PRODUCTCODE       2823 non-null   object \n",
            " 13  CUSTOMERNAME      2823 non-null   object \n",
            " 14  PHONE             2823 non-null   object \n",
            " 15  ADDRESSLINE1      2823 non-null   object \n",
            " 16  ADDRESSLINE2      302 non-null    object \n",
            " 17  CITY              2823 non-null   object \n",
            " 18  STATE             1337 non-null   object \n",
            " 19  POSTALCODE        2747 non-null   object \n",
            " 20  COUNTRY           2823 non-null   object \n",
            " 21  TERRITORY         1749 non-null   object \n",
            " 22  CONTACTLASTNAME   2823 non-null   object \n",
            " 23  CONTACTFIRSTNAME  2823 non-null   object \n",
            " 24  DEALSIZE          2823 non-null   object \n",
            "dtypes: float64(2), int64(7), object(16)\n",
            "memory usage: 551.5+ KB\n"
          ]
        }
      ]
    },
    {
      "cell_type": "code",
      "source": [
        "label_encoder = LabelEncoder()"
      ],
      "metadata": {
        "id": "qz1BAQjh06VR"
      },
      "execution_count": null,
      "outputs": []
    },
    {
      "cell_type": "code",
      "source": [
        "data['CITY'] = label_encoder.fit_transform(data['CITY'])\n",
        "data['STATE'] = label_encoder.fit_transform(data['STATE'])\n",
        "data['COUNTRY'] = label_encoder.fit_transform(data['COUNTRY'])\n",
        "data['STATUS'] = label_encoder.fit_transform(data['STATUS'])\n",
        "data['DEALSIZE'] = label_encoder.fit_transform(data['DEALSIZE'])"
      ],
      "metadata": {
        "id": "ZZ2YdekG07CX"
      },
      "execution_count": null,
      "outputs": []
    },
    {
      "cell_type": "code",
      "source": [
        "X = data.get(['CITY', 'STATE', 'COUNTRY', 'STATUS', 'DEALSIZE', 'PRICEEACH', 'QUANTITYORDERED','SALES'])"
      ],
      "metadata": {
        "id": "nKA4_TLvwgHK"
      },
      "execution_count": null,
      "outputs": []
    },
    {
      "cell_type": "code",
      "source": [
        "wcss = []\n",
        "for i in range(201,1701, 100):\n",
        "    print(i)\n",
        "    kmeans = KMeans(n_clusters=i, init=\"k-means++\")\n",
        "    kmeans.fit(X)\n",
        "    wcss.append(kmeans.inertia_)\n",
        "print(wcss)"
      ],
      "metadata": {
        "colab": {
          "base_uri": "https://localhost:8080/"
        },
        "id": "-vkPXGka11C5",
        "outputId": "6f1d254d-e62b-4aba-b40f-e0e95dc5e4b5"
      },
      "execution_count": null,
      "outputs": [
        {
          "output_type": "stream",
          "name": "stdout",
          "text": [
            "201\n",
            "301\n",
            "401\n",
            "501\n",
            "601\n",
            "701\n",
            "801\n",
            "901\n",
            "1001\n",
            "1101\n",
            "1201\n",
            "1301\n",
            "1401\n",
            "1501\n",
            "1601\n",
            "[1890401.009296664, 1310527.6983294892, 1012706.6267551201, 797385.5531806457, 667290.3268994617, 556699.3743553568, 473894.44263563503, 409973.0452315976, 352891.02912940446, 303168.1485621429, 261236.60774857138, 225765.98142916668, 193722.97176547634, 164542.89024999994, 138856.40029333334]\n"
          ]
        }
      ]
    },
    {
      "cell_type": "code",
      "source": [
        "plt.figure(figsize=(12,6))    \n",
        "plt.plot(range(201, 1701, 100),wcss, linewidth=2, color=\"red\", marker =\"8\")\n",
        "plt.xlabel(\"K Value\")\n",
        "plt.ylabel(\"WCSS\")\n",
        "plt.show()"
      ],
      "metadata": {
        "colab": {
          "base_uri": "https://localhost:8080/",
          "height": 399
        },
        "id": "rknZ3AcQ1-7K",
        "outputId": "071a6581-4b4f-4a2c-be7b-db098fbd8e22"
      },
      "execution_count": null,
      "outputs": [
        {
          "output_type": "display_data",
          "data": {
            "text/plain": [
              "<Figure size 864x432 with 1 Axes>"
            ],
            "image/png": "[encoded data removed]"
          },
          "metadata": {
            "needs_background": "light"
          }
        }
      ]
    },
    {
      "cell_type": "code",
      "source": [],
      "metadata": {
        "id": "vtC-o3Gc2LNP"
      },
      "execution_count": null,
      "outputs": []
    }
  ],
  "metadata": {
    "colab": {
      "provenance": [],
      "collapsed_sections": []
    },
    "kernelspec": {
      "display_name": "Python 3",
      "name": "python3"
    },
    "language_info": {
      "name": "python"
    }
  },
  "nbformat": 4,
  "nbformat_minor": 0
}